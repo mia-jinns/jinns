{
 "cells": [
  {
   "cell_type": "markdown",
   "id": "40925fec",
   "metadata": {},
   "source": [
    "# Linear first order differential equation"
   ]
  },
  {
   "cell_type": "markdown",
   "id": "b825efcb",
   "metadata": {},
   "source": [
    "We consider a first order linear differential equation\n",
    "\n",
    "$$\n",
    " u'(t) = a u(t)\n",
    "$$\n",
    "\n",
    "with initial condition $u(t_0) = u_0$ true solution $u^\\star(t) = u_0 e^{a(t -t_0)} $"
   ]
  },
  {
   "cell_type": "code",
   "execution_count": 40,
   "id": "8bf8bebc-b311-4eb4-ad63-11447f62b280",
   "metadata": {},
   "outputs": [
    {
     "name": "stdout",
     "output_type": "stream",
     "text": [
      "The autoreload extension is already loaded. To reload it, use:\n",
      "  %reload_ext autoreload\n"
     ]
    }
   ],
   "source": [
    "%load_ext autoreload\n",
    "%autoreload 2\n",
    "%matplotlib inline"
   ]
  },
  {
   "cell_type": "markdown",
   "id": "ddee93b7",
   "metadata": {},
   "source": [
    "Float64 and GPU settings"
   ]
  },
  {
   "cell_type": "code",
   "execution_count": 41,
   "id": "5cdc87e2",
   "metadata": {},
   "outputs": [],
   "source": [
    "#import os; os.environ[\"JAX_ENABLE_X64\"] = \"TRUE\" # comment/uncomment to  disable/enable float64 for JAX\n",
    "#import os; os.environ[\"CUDA_VISIBLE_DEVICES\"]=\"\" # If uncommented then GPU is disable"
   ]
  },
  {
   "cell_type": "markdown",
   "id": "e42b1b48",
   "metadata": {},
   "source": [
    "Import our package"
   ]
  },
  {
   "cell_type": "code",
   "execution_count": 42,
   "id": "fbdd16f7",
   "metadata": {
    "scrolled": true
   },
   "outputs": [],
   "source": [
    "import jinns"
   ]
  },
  {
   "cell_type": "markdown",
   "id": "09955058",
   "metadata": {},
   "source": [
    "Import other dependencies"
   ]
  },
  {
   "cell_type": "code",
   "execution_count": 43,
   "id": "3abe5254-7556-424e-a57e-d364d67244a1",
   "metadata": {},
   "outputs": [],
   "source": [
    "import jax\n",
    "from jax import random, vmap\n",
    "import jax.numpy as jnp\n",
    "import equinox as eqx\n",
    "\n",
    "import matplotlib.pyplot as plt\n",
    "\n",
    "key = random.PRNGKey(2)\n",
    "key, subkey = random.split(key)"
   ]
  },
  {
   "cell_type": "markdown",
   "id": "2bfbd766",
   "metadata": {},
   "source": [
    "Create the neural network architecture for the PINN with `equinox`. Note that we will use the same architecture for the 3 populations."
   ]
  },
  {
   "cell_type": "code",
   "execution_count": 44,
   "id": "9396d007-04f1-4893-a3c8-c58c36845ee0",
   "metadata": {},
   "outputs": [],
   "source": [
    "eqx_list = [\n",
    "    [eqx.nn.Linear, 1, 20],\n",
    "    [jax.nn.tanh],\n",
    "    [eqx.nn.Linear, 20, 20],\n",
    "    [jax.nn.tanh],\n",
    "    [eqx.nn.Linear, 20, 20],\n",
    "    [jax.nn.tanh],\n",
    "    [eqx.nn.Linear, 20, 1],\n",
    "    # [jnp.exp]\n",
    "]\n",
    "key, subkey = random.split(key)\n",
    "u = jinns.utils.create_PINN(subkey, eqx_list, \"ODE\")"
   ]
  },
  {
   "cell_type": "code",
   "execution_count": 45,
   "id": "1e47cbca-3af2-4ab2-a379-4b763c383843",
   "metadata": {},
   "outputs": [],
   "source": [
    "init_nn_params = u.init_params()"
   ]
  },
  {
   "cell_type": "markdown",
   "id": "0a5d567b",
   "metadata": {},
   "source": [
    "Create a DataGenerator object"
   ]
  },
  {
   "cell_type": "code",
   "execution_count": 46,
   "id": "15088440",
   "metadata": {},
   "outputs": [],
   "source": [
    "n = 320\n",
    "batch_size = 32\n",
    "method = 'uniform'\n",
    "tmin = 0\n",
    "tmax = 1\n",
    "\n",
    "Tmax = 1\n",
    "key, subkey = random.split(key)\n",
    "train_data = jinns.data.DataGeneratorODE(\n",
    "    subkey,\n",
    "    n,\n",
    "    tmin,\n",
    "    tmax,\n",
    "    batch_size,\n",
    "    method=method\n",
    ")"
   ]
  },
  {
   "cell_type": "markdown",
   "id": "4f1ac783",
   "metadata": {},
   "source": [
    "Initialize  neural network parameters "
   ]
  },
  {
   "cell_type": "code",
   "execution_count": 47,
   "id": "4fec8c54",
   "metadata": {},
   "outputs": [],
   "source": [
    "key, subkey = jax.random.split(key)\n",
    "u = jinns.utils.create_PINN(subkey, eqx_list, \"ODE\")\n",
    "init_nn_params = u.init_params()"
   ]
  },
  {
   "cell_type": "markdown",
   "id": "83b7faef",
   "metadata": {},
   "source": [
    "### Model parameters\n",
    "\n",
    "\n"
   ]
  },
  {
   "cell_type": "code",
   "execution_count": 48,
   "id": "2f6b6656",
   "metadata": {},
   "outputs": [],
   "source": [
    "# initial conditions and growth\n",
    "t0 = 0\n",
    "u0 = 1.\n",
    "a = 1."
   ]
  },
  {
   "cell_type": "code",
   "execution_count": 49,
   "id": "7946039f",
   "metadata": {},
   "outputs": [],
   "source": [
    "init_params = jinns.parameters.Params(\n",
    "    nn_params=init_nn_params,\n",
    "    eq_params={\"a\": a},\n",
    ")"
   ]
  },
  {
   "cell_type": "markdown",
   "id": "e595cbcd",
   "metadata": {},
   "source": [
    "Visualize the output of the neural networks before the parameter learning step"
   ]
  },
  {
   "cell_type": "code",
   "execution_count": 50,
   "id": "d18c73d2-ff23-4019-a7a1-40cc023dbf53",
   "metadata": {},
   "outputs": [
    {
     "data": {
      "text/plain": [
       "<matplotlib.legend.Legend at 0x7fcbe0155890>"
      ]
     },
     "execution_count": 50,
     "metadata": {},
     "output_type": "execute_result"
    },
    {
     "data": {
      "image/png": "[encoded data removed]",
      "text/plain": [
       "<Figure size 640x480 with 1 Axes>"
      ]
     },
     "metadata": {},
     "output_type": "display_data"
    }
   ],
   "source": [
    "vectorized_u_init = vmap(lambda t: u(t, init_params), (0), 0)\n",
    "\n",
    "def u_true(t):\n",
    "    return u0 * jnp.exp(a * (t-t0) )\n",
    "\n",
    "ts = train_data.times.sort(axis=0)\n",
    "plt.plot(ts * Tmax, vmap(u_true, 0)(ts * Tmax), label=\"True solution\")\n",
    "plt.plot(ts * Tmax, vectorized_u_init(ts), label=\"Init solution\")\n",
    "plt.legend()"
   ]
  },
  {
   "cell_type": "markdown",
   "id": "bbe7f24b",
   "metadata": {},
   "source": [
    "## Loss construction"
   ]
  },
  {
   "cell_type": "code",
   "execution_count": 51,
   "id": "b6a65062",
   "metadata": {},
   "outputs": [],
   "source": [
    "from jinns.loss import ODE\n",
    "\n",
    "\n",
    "class LinearFODE(ODE):\n",
    "\n",
    "    def equation(self, t, u, params):\n",
    "        # in log-space\n",
    "        u_ = lambda t, p: u(t, p)[0]\n",
    "        du_dt = jax.grad(u_, 0)(t, params)\n",
    "        return du_dt - params.eq_params[\"a\"]\n",
    "\n",
    "\n",
    "fo_loss = LinearFODE(Tmax=Tmax)"
   ]
  },
  {
   "cell_type": "code",
   "execution_count": 52,
   "id": "2e832e71",
   "metadata": {},
   "outputs": [],
   "source": [
    "loss_weights = jinns.loss.LossWeightsODE(dyn_loss=2.0, initial_condition=1.0)\n",
    "\n",
    "loss = jinns.loss.LossODE(\n",
    "    u=u,\n",
    "    loss_weights=loss_weights,\n",
    "    dynamic_loss=fo_loss,\n",
    "    initial_condition=(float(tmin), jnp.log(u0)),\n",
    ")"
   ]
  },
  {
   "cell_type": "code",
   "execution_count": 53,
   "id": "5f5418d5-629f-4745-ad0f-3778020cc635",
   "metadata": {},
   "outputs": [
    {
     "name": "stdout",
     "output_type": "stream",
     "text": [
      "total loss: 62.1646614074707\n",
      "Individual losses: {'dyn_loss': '62.09', 'initial_condition': '0.07', 'observations': '0.00'}\n"
     ]
    }
   ],
   "source": [
    "# Testing the loss function\n",
    "train_data, batch = train_data.get_batch()\n",
    "\n",
    "losses_and_grad = jax.value_and_grad(loss.evaluate, 0, has_aux=True)\n",
    "losses, grads = losses_and_grad(\n",
    "    init_params,\n",
    "    batch\n",
    ")\n",
    "l_tot, d = losses\n",
    "print(f\"total loss: {l_tot}\")\n",
    "print(f\"Individual losses: { {key: f'{val:.2f}' for key, val in d.items()} }\")"
   ]
  },
  {
   "cell_type": "markdown",
   "id": "64835b79-0bce-4f06-bd57-5ee051796663",
   "metadata": {},
   "source": [
    "## Learning the neural network parameters\n",
    "The learning process here consider known equation parameters `eq_params`. We thus only update `nn_params`"
   ]
  },
  {
   "cell_type": "code",
   "execution_count": 54,
   "id": "4e2c75a4-e3de-4d10-9424-4ee4ae206da3",
   "metadata": {},
   "outputs": [],
   "source": [
    "params = init_params"
   ]
  },
  {
   "cell_type": "code",
   "execution_count": 55,
   "id": "8d0106ad-d1e4-4fa8-958d-c8ebd4572d76",
   "metadata": {},
   "outputs": [],
   "source": [
    "# Optimizer\n",
    "import optax\n",
    "tx = optax.adam(learning_rate=1e-4)"
   ]
  },
  {
   "cell_type": "code",
   "execution_count": 56,
   "id": "055a7e63-4d0e-4246-b792-2007a0deeaab",
   "metadata": {},
   "outputs": [],
   "source": [
    "n_iter = int(10000)"
   ]
  },
  {
   "cell_type": "code",
   "execution_count": 57,
   "id": "9284d4ed",
   "metadata": {},
   "outputs": [],
   "source": [
    "key, subkey = random.split(key)"
   ]
  },
  {
   "cell_type": "code",
   "execution_count": 58,
   "id": "df0ab21d-bfc1-4e81-8708-df8b30d0173b",
   "metadata": {},
   "outputs": [
    {
     "name": "stdout",
     "output_type": "stream",
     "text": [
      "[train] Iteration 0: loss value = 62.1595344543457\n",
      "[train] Iteration 1000: loss value = 0.3646239638328552\n",
      "[train] Iteration 2000: loss value = 0.16788983345031738\n",
      "[train] Iteration 3000: loss value = 0.05390589311718941\n",
      "[train] Iteration 4000: loss value = 0.017992869019508362\n",
      "[train] Iteration 5000: loss value = 0.0009479622240178287\n",
      "[train] Iteration 6000: loss value = 0.0017314533470198512\n",
      "[train] Iteration 7000: loss value = 0.0011482611298561096\n",
      "[train] Iteration 8000: loss value = 0.001325010322034359\n",
      "[train] Iteration 9000: loss value = 0.0008850973681546748\n",
      "Stopping main optimization loop, cause: max iteration is reached\n",
      "Final iteration 10000: train loss value = 0.00030648111714981496\n"
     ]
    }
   ],
   "source": [
    "params, total_loss_list, loss_by_term_dict, data, loss, _, _ , _, _ = jinns.solve(\n",
    "    init_params=params,\n",
    "    data=train_data,\n",
    "    optimizer=tx,\n",
    "    loss=loss,\n",
    "    n_iter=n_iter\n",
    ")"
   ]
  },
  {
   "cell_type": "code",
   "execution_count": 59,
   "id": "0dab687e",
   "metadata": {},
   "outputs": [],
   "source": [
    "# loss_weights = jinns.loss.LossWeightsODE(dyn_loss=2.0, initial_condition=1.0)\n",
    "\n",
    "# loss = jinns.loss.LossODE(\n",
    "#     u=u,\n",
    "#     loss_weights=loss_weights,\n",
    "#     dynamic_loss=fo_loss,\n",
    "#     initial_condition=(float(tmin), jnp.log(u0)),\n",
    "# )\n",
    "\n",
    "# params, total_loss_list, loss_by_term_dict, data, loss, _, _ , _, _ = jinns.solve(\n",
    "#     init_params=params,\n",
    "#     data=train_data,\n",
    "#     optimizer=tx,\n",
    "#     loss=loss,\n",
    "#     n_iter=n_iter\n",
    "# )"
   ]
  },
  {
   "cell_type": "markdown",
   "id": "1d0a1757",
   "metadata": {},
   "source": [
    "## Results"
   ]
  },
  {
   "cell_type": "markdown",
   "id": "64c794ff",
   "metadata": {},
   "source": [
    "Plot the loss values"
   ]
  },
  {
   "cell_type": "code",
   "execution_count": 60,
   "id": "2cd778b4-d9d9-4f69-ad02-2a3f7eacf59d",
   "metadata": {
    "scrolled": true
   },
   "outputs": [
    {
     "data": {
      "image/png": "[encoded data removed]",
      "text/plain": [
       "<Figure size 640x480 with 1 Axes>"
      ]
     },
     "metadata": {},
     "output_type": "display_data"
    }
   ],
   "source": [
    "for loss_name, loss_values in loss_by_term_dict.items():\n",
    "    plt.plot(jnp.log10(loss_values), label=loss_name)\n",
    "plt.plot(jnp.log10(total_loss_list), label=\"total loss\")\n",
    "plt.legend()\n",
    "plt.show()"
   ]
  },
  {
   "cell_type": "markdown",
   "id": "a6247171",
   "metadata": {},
   "source": [
    "Plot the ODE solutions learned by the PINN"
   ]
  },
  {
   "cell_type": "code",
   "execution_count": 64,
   "id": "6d473743-c9a8-4406-b18c-256496cfde59",
   "metadata": {},
   "outputs": [
    {
     "data": {
      "text/plain": [
       "<Axes: xlabel='t'>"
      ]
     },
     "execution_count": 64,
     "metadata": {},
     "output_type": "execute_result"
    },
    {
     "data": {
      "image/png": "[encoded data removed]",
      "text/plain": [
       "<Figure size 640x480 with 1 Axes>"
      ]
     },
     "metadata": {},
     "output_type": "display_data"
    }
   ],
   "source": [
    "u_est_fp = vmap(lambda t:u(t, params), (0), 0)\n",
    "\n",
    "\n",
    "key, subkey = random.split(key, 2)\n",
    "val_data = jinns.data.DataGeneratorODE(subkey, n, tmin, tmax, batch_size, method)\n",
    "\n",
    "import pandas as pd\n",
    "ts = val_data.times.sort(axis=0)\n",
    "df = pd.DataFrame(\n",
    "    {\n",
    "        \"t\": ts * Tmax, # rescale time for plotting\n",
    "        \"u_pinn\": jnp.exp(u_est_fp(ts).squeeze()),\n",
    "        \"u_true\": vmap(u_true)(ts),\n",
    "        \"Method\": \"PINN\"\n",
    "    },\n",
    ")\n",
    "df.plot(x=\"t\", style=[\"--\", \"-.\"])"
   ]
  },
  {
   "cell_type": "code",
   "execution_count": null,
   "id": "a84aa1ff",
   "metadata": {},
   "outputs": [],
   "source": []
  }
 ],
 "metadata": {
  "kernelspec": {
   "display_name": "Python 3 (ipykernel)",
   "language": "python",
   "name": "python3"
  },
  "language_info": {
   "codemirror_mode": {
    "name": "ipython",
    "version": 3
   },
   "file_extension": ".py",
   "mimetype": "text/x-python",
   "name": "python",
   "nbconvert_exporter": "python",
   "pygments_lexer": "ipython3",
   "version": "3.11.7"
  },
  "vscode": {
   "interpreter": {
    "hash": "991718e94fb5d91fa62c7598521d2199c208ff1ff700f1ac060f334be0bee194"
   }
  }
 },
 "nbformat": 4,
 "nbformat_minor": 5
}
