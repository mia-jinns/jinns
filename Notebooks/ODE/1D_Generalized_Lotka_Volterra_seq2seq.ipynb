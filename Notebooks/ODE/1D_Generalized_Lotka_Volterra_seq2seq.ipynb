{
 "cells": [
  {
   "cell_type": "markdown",
   "id": "40925fec",
   "metadata": {},
   "source": [
    "# Generalized Lotka Volterra with seq2seq"
   ]
  },
  {
   "cell_type": "markdown",
   "id": "b825efcb",
   "metadata": {},
   "source": [
    "We consider a Generalized Lotka Volterra system with $3$ populations\n",
    "$$\n",
    "\\frac{\\partial}{\\partial t}u_i(t) = r_iu_i(t) - \\sum_{j\\neq i}\\alpha_{ij}u_j(t)\n",
    "-\\alpha_{i,i}u_i(t) + c_iu_i(t) + \\sum_{j \\neq i} c_ju_j(t), i\\in\\{1, 2, 3\\}\n",
    "$$"
   ]
  },
  {
   "cell_type": "markdown",
   "id": "f337b94d",
   "metadata": {},
   "source": [
    "More information on this ODE system can be found at [https://stefanoallesina.github.io/Sao_Paulo_School/intro.html#basic-formulation](https://stefanoallesina.github.io/Sao_Paulo_School/intro.html#basic-formulation).\n",
    "\n",
    "__In this notebook we introduce seq2seq learning as introduced by _Characterizing possible failure modes\n",
    "in physics-informed neural networks_, Krishnapriyan et al., NeurIPS 2021. We see, for example, that it is particularly suited for learning on long time intervals.__"
   ]
  },
  {
   "cell_type": "code",
   "execution_count": 1,
   "id": "8bf8bebc-b311-4eb4-ad63-11447f62b280",
   "metadata": {},
   "outputs": [],
   "source": [
    "%load_ext autoreload\n",
    "%autoreload 2\n",
    "%matplotlib inline"
   ]
  },
  {
   "cell_type": "markdown",
   "id": "ddee93b7",
   "metadata": {},
   "source": [
    "Float64 and GPU settings"
   ]
  },
  {
   "cell_type": "code",
   "execution_count": 2,
   "id": "5cdc87e2",
   "metadata": {},
   "outputs": [],
   "source": [
    "#import os; os.environ[\"JAX_ENABLE_X64\"] = \"TRUE\" # comment/uncomment to  disable/enable float64 for JAX\n",
    "#import os; os.environ[\"CUDA_VISIBLE_DEVICES\"]=\"\" # If uncommented then GPU is disable"
   ]
  },
  {
   "cell_type": "markdown",
   "id": "e42b1b48",
   "metadata": {},
   "source": [
    "Import our package"
   ]
  },
  {
   "cell_type": "code",
   "execution_count": 3,
   "id": "fbdd16f7",
   "metadata": {
    "scrolled": true
   },
   "outputs": [],
   "source": [
    "import jinns"
   ]
  },
  {
   "cell_type": "markdown",
   "id": "09955058",
   "metadata": {},
   "source": [
    "Import other dependencies"
   ]
  },
  {
   "cell_type": "code",
   "execution_count": 4,
   "id": "3abe5254-7556-424e-a57e-d364d67244a1",
   "metadata": {},
   "outputs": [],
   "source": [
    "import jax\n",
    "from jax import random, vmap\n",
    "import jax.numpy as jnp\n",
    "import equinox as eqx\n",
    "\n",
    "import matplotlib.pyplot as plt\n",
    "\n",
    "key = random.PRNGKey(2)\n",
    "key, subkey = random.split(key)"
   ]
  },
  {
   "cell_type": "markdown",
   "id": "2bfbd766",
   "metadata": {},
   "source": [
    "Create the neural network architecture for the PINN with `equinox`. Note that we will use the same architecture for the 3 populations."
   ]
  },
  {
   "cell_type": "code",
   "execution_count": 5,
   "id": "9396d007-04f1-4893-a3c8-c58c36845ee0",
   "metadata": {},
   "outputs": [],
   "source": [
    "eqx_list = [\n",
    "    [eqx.nn.Linear, 1, 20],\n",
    "    [jax.nn.tanh],\n",
    "    [eqx.nn.Linear, 20, 20],\n",
    "    [jax.nn.tanh],\n",
    "    [eqx.nn.Linear, 20, 20],\n",
    "    [jax.nn.tanh],\n",
    "    [eqx.nn.Linear, 20, 1],\n",
    "    [jax.nn.softplus]\n",
    "]\n",
    "key, subkey = random.split(key)\n",
    "u = jinns.utils.create_PINN(subkey, eqx_list, \"ODE\")"
   ]
  },
  {
   "cell_type": "code",
   "execution_count": 6,
   "id": "1e47cbca-3af2-4ab2-a379-4b763c383843",
   "metadata": {},
   "outputs": [],
   "source": [
    "init_nn_params = u.init_params()"
   ]
  },
  {
   "cell_type": "markdown",
   "id": "0a5d567b",
   "metadata": {},
   "source": [
    "Create a DataGenerator object"
   ]
  },
  {
   "cell_type": "code",
   "execution_count": 7,
   "id": "15088440",
   "metadata": {},
   "outputs": [],
   "source": [
    "n = 1000\n",
    "batch_size = 100\n",
    "method = 'uniform'\n",
    "tmin = 0\n",
    "tmax = 1\n",
    "\n",
    "Tmax = 30\n",
    "key, subkey = random.split(key)\n",
    "train_data = jinns.data.DataGeneratorODE(\n",
    "    subkey,\n",
    "    n,\n",
    "    tmin,\n",
    "    tmax,\n",
    "    batch_size,                    \n",
    "    method=method\n",
    ")"
   ]
  },
  {
   "cell_type": "markdown",
   "id": "4f1ac783",
   "metadata": {},
   "source": [
    "Initialize 3 set of neural network parameters for the 3 populations"
   ]
  },
  {
   "cell_type": "code",
   "execution_count": 8,
   "id": "4fec8c54",
   "metadata": {},
   "outputs": [],
   "source": [
    "init_nn_params_list = []\n",
    "for _ in range(3):\n",
    "    key, subkey = random.split(key)\n",
    "    u = jinns.utils.create_PINN(subkey, eqx_list, \"ODE\", 0)\n",
    "    init_nn_params = u.init_params()\n",
    "    init_nn_params_list.append(init_nn_params)"
   ]
  },
  {
   "cell_type": "markdown",
   "id": "e595cbcd",
   "metadata": {},
   "source": [
    "Visualize the output of the neural networks before the parameter learning step"
   ]
  },
  {
   "cell_type": "code",
   "execution_count": 9,
   "id": "d18c73d2-ff23-4019-a7a1-40cc023dbf53",
   "metadata": {},
   "outputs": [
    {
     "data": {
      "text/plain": [
       "<matplotlib.legend.Legend at 0x7f4abc28e5a0>"
      ]
     },
     "execution_count": 9,
     "metadata": {},
     "output_type": "execute_result"
    },
    {
     "data": {
      "image/png": "[encoded data removed]",
      "text/plain": [
       "<Figure size 640x480 with 1 Axes>"
      ]
     },
     "metadata": {},
     "output_type": "display_data"
    }
   ],
   "source": [
    "vectorized_u_init = vmap(lambda t: u(t, init_nn_params_list[0]), (0), 0)\n",
    "vectorized_v_init = vmap(lambda t: u(t, init_nn_params_list[1]), (0), 0)\n",
    "vectorized_w_init = vmap(lambda t: u(t, init_nn_params_list[2]), (0), 0)\n",
    "\n",
    "\n",
    "plt.plot(train_data.times.sort(axis=0) * Tmax, vectorized_u_init(train_data.times.sort(axis=0)), label=\"N1\")\n",
    "plt.plot(train_data.times.sort(axis=0) * Tmax, vectorized_v_init(train_data.times.sort(axis=0)), label=\"N2\")\n",
    "plt.plot(train_data.times.sort(axis=0) * Tmax, vectorized_w_init(train_data.times.sort(axis=0)), label=\"N3\")\n",
    "\n",
    "plt.legend()"
   ]
  },
  {
   "cell_type": "markdown",
   "id": "f0701671",
   "metadata": {},
   "source": [
    "## Model parameters"
   ]
  },
  {
   "cell_type": "code",
   "execution_count": 10,
   "id": "8c609f60",
   "metadata": {},
   "outputs": [],
   "source": [
    "# initial conditions for each species\n",
    "N_0 = jnp.array([10., 7., 4.])\n",
    "# growth rates for each species\n",
    "growth_rates = jnp.array([0.1, 0.5, 0.8])\n",
    "# carrying capacity for each species\n",
    "carrying_capacities = jnp.array([0.04, 0.02, 0.02])\n",
    "# interactions\n",
    "# NOTE that for the interaction between the species **with itself** is always at position 0\n",
    "# NOTE minus sign \n",
    "interactions = -jnp.array([[0, 0.001, 0.001], [0, 0.001, 0.001], [0, 0.001, 0.001]])"
   ]
  },
  {
   "cell_type": "markdown",
   "id": "bbe7f24b",
   "metadata": {},
   "source": [
    "## Loss construction"
   ]
  },
  {
   "cell_type": "markdown",
   "id": "33e3c866",
   "metadata": {},
   "source": [
    "A set of parameters as required by the losses' `evaluate` functions is a dictionary with the neural network parameters `nn_params` and the equation parameters `eq_params`. Here we construct this dictionary.\n",
    "\n",
    "__Note__ that `nn_params` and `eq_params` must always be top level keys but can be nested dictionaries.\n",
    "\n",
    "__Note__ that the keys of the sub dictionaries `nn_params` and `eq_params` (here `str(i)`) can differ !"
   ]
  },
  {
   "cell_type": "code",
   "execution_count": 11,
   "id": "11d93e85",
   "metadata": {},
   "outputs": [],
   "source": [
    "# initiate parameters dictionary\n",
    "init_params = {}\n",
    "\n",
    "init_params[\"nn_params\"] = {\n",
    "    str(i): init_nn_params_list[i]\n",
    "    for i in range(3)\n",
    "}\n",
    "\n",
    "init_params[\"eq_params\"] = {\n",
    "    str(i):{\n",
    "        \"carrying_capacity\": carrying_capacities[i],\n",
    "        \"growth_rate\": growth_rates[i],\n",
    "        \"interactions\": interactions[i, :]\n",
    "    }\n",
    "    for i in range(3)\n",
    "}"
   ]
  },
  {
   "cell_type": "markdown",
   "id": "aa14a602-1b0e-4582-876e-99d0322c57a0",
   "metadata": {},
   "source": [
    "We construct a SystemLossODE with GeneralizedLotkaVolterra losses for each population. Here `key_main` refer to the key in `params[\"nn_params\"]` which are the parameters for the main PINN of the equation (the PINN which represents the solution differentiated with respect to the `t`). `key_others` refer to the keys in `params[\"nn_params\"]` which are the parameters for the PINNs which interact with `key_main`."
   ]
  },
  {
   "cell_type": "code",
   "execution_count": 12,
   "id": "b6a65062",
   "metadata": {},
   "outputs": [],
   "source": [
    "N1_dynamic_loss = jinns.loss.GeneralizedLotkaVolterra(key_main=\"0\", keys_other=[\"1\", \"2\"], Tmax=Tmax)\n",
    "N2_dynamic_loss = jinns.loss.GeneralizedLotkaVolterra(key_main=\"1\", keys_other=[\"0\", \"2\"], Tmax=Tmax)\n",
    "N3_dynamic_loss = jinns.loss.GeneralizedLotkaVolterra(key_main=\"2\", keys_other=[\"0\", \"1\"], Tmax=Tmax)"
   ]
  },
  {
   "cell_type": "code",
   "execution_count": 13,
   "id": "22b2647f",
   "metadata": {},
   "outputs": [],
   "source": [
    "loss_weights = {\"dyn_loss\":1, \"initial_condition\":1 * Tmax}\n",
    "\n",
    "loss = jinns.loss.SystemLossODE(\n",
    "    u_dict={\"0\":u, \"1\":u, \"2\":u},\n",
    "    loss_weights=loss_weights,\n",
    "    dynamic_loss_dict={\"0\": N1_dynamic_loss, \"1\":N2_dynamic_loss, \"2\":N3_dynamic_loss},\n",
    "    initial_condition_dict={\"0\":(float(tmin), N_0[0]), \"1\":(float(tmin), N_0[1]), \"2\":(float(tmin), N_0[2])}\n",
    ")"
   ]
  },
  {
   "cell_type": "code",
   "execution_count": 14,
   "id": "5f5418d5-629f-4745-ad0f-3778020cc635",
   "metadata": {},
   "outputs": [
    {
     "name": "stdout",
     "output_type": "stream",
     "text": [
      "total loss: 4898.9453125\n",
      "Individual losses: {'dyn_loss': '712.18', 'initial_condition': '4186.77', 'observations': '0.00'}\n"
     ]
    }
   ],
   "source": [
    "# Testing the loss function\n",
    "losses_and_grad = jax.value_and_grad(loss.evaluate, 0, has_aux=True)\n",
    "losses, grads = losses_and_grad(\n",
    "    init_params,\n",
    "    train_data.get_batch()\n",
    ")\n",
    "l_tot, d = losses\n",
    "print(f\"total loss: {l_tot}\")\n",
    "print(f\"Individual losses: { {key: f'{val:.2f}' for key, val in d.items()} }\")"
   ]
  },
  {
   "cell_type": "markdown",
   "id": "64835b79-0bce-4f06-bd57-5ee051796663",
   "metadata": {},
   "source": [
    "## Learning the neural network parameters\n",
    "The learning process here consider known equation parameters `eq_params`. We thus only update `nn_params`"
   ]
  },
  {
   "cell_type": "code",
   "execution_count": 15,
   "id": "4e2c75a4-e3de-4d10-9424-4ee4ae206da3",
   "metadata": {},
   "outputs": [],
   "source": [
    "params = init_params"
   ]
  },
  {
   "cell_type": "code",
   "execution_count": 16,
   "id": "8d0106ad-d1e4-4fa8-958d-c8ebd4572d76",
   "metadata": {},
   "outputs": [],
   "source": [
    "# Optimizer\n",
    "import optax\n",
    "\n",
    "\n",
    "@optax.inject_hyperparams\n",
    "def optimizer(learning_rate, eps=1e-8):\n",
    "    return optax.chain(\n",
    "       optax.adam(learning_rate),\n",
    "        optax.zero_nans(), \n",
    "  )\n",
    "\n",
    "tx = optimizer(1e-3, 1)\n",
    "#opt = optax.inject_hyperparams(optax.adam)(learning_rate=1e-4)\n"
   ]
  },
  {
   "cell_type": "code",
   "execution_count": 17,
   "id": "055a7e63-4d0e-4246-b792-2007a0deeaab",
   "metadata": {},
   "outputs": [],
   "source": [
    "n_iter = int(50000) # int(50000)"
   ]
  },
  {
   "cell_type": "markdown",
   "id": "5dbf0a65",
   "metadata": {},
   "source": [
    "__Seq2seq__ Currently, we can use this procedure by giving the `solve()` method a dictionary with keys `time_steps` and `iter_steps` which reads:\n",
    "\n",
    " -> From iterations `iter_steps[i]` to `iter_steps[i+1]`, learn on the normalized time interval `[data.tmin, time_steps[i]]` with the learning rate `learning_rate[i]`\n",
    " "
   ]
  },
  {
   "cell_type": "code",
   "execution_count": 18,
   "id": "ede3c593",
   "metadata": {},
   "outputs": [],
   "source": [
    "K = 4 # number of segment $[t_k, t_{k+1}]$\n",
    "seq2seq = {\n",
    "    'time_steps': jnp.array([j * tmax / K for j in jnp.arange(1, K+1)]),\n",
    "    'iter_steps': jnp.array([j * n_iter // K for j in jnp.arange(1, K)]),\n",
    "    'learning_rate': jnp.array([1e-3] * K),\n",
    "}"
   ]
  },
  {
   "cell_type": "code",
   "execution_count": 19,
   "id": "4142d230-e298-41d1-87fa-24c07aa22ad1",
   "metadata": {},
   "outputs": [
    {
     "data": {
      "text/plain": [
       "Array([1], dtype=int32)"
      ]
     },
     "execution_count": 19,
     "metadata": {},
     "output_type": "execute_result"
    }
   ],
   "source": [
    "jnp.arange(1, 2)"
   ]
  },
  {
   "cell_type": "code",
   "execution_count": 20,
   "id": "9284d4ed",
   "metadata": {},
   "outputs": [],
   "source": [
    "key, subkey = random.split(key)"
   ]
  },
  {
   "cell_type": "code",
   "execution_count": 21,
   "id": "df0ab21d-bfc1-4e81-8708-df8b30d0173b",
   "metadata": {},
   "outputs": [
    {
     "name": "stdout",
     "output_type": "stream",
     "text": [
      "# -- Begin training on time segment [0, 0.25]\n",
      "Iteration 0: loss value = 4898.4609375\n"
     ]
    },
    {
     "data": {
      "application/vnd.jupyter.widget-view+json": {
       "model_id": "874318c3f8ff4afaa4a88fc391ed2ad2",
       "version_major": 2,
       "version_minor": 0
      },
      "text/plain": [
       "  0%|          | 0/50000 [00:00<?, ?it/s]"
      ]
     },
     "metadata": {},
     "output_type": "display_data"
    },
    {
     "name": "stdout",
     "output_type": "stream",
     "text": [
      "Iteration 1000: loss value = 586.7967529296875\n",
      "Iteration 2000: loss value = 27.32485580444336\n",
      "Iteration 3000: loss value = 15.81894588470459\n",
      "Iteration 4000: loss value = 14.401301383972168\n",
      "Iteration 5000: loss value = 14.819613456726074\n",
      "Iteration 6000: loss value = 9.33753490447998\n",
      "Iteration 7000: loss value = 10.986289978027344\n",
      "Iteration 8000: loss value = 10.623459815979004\n",
      "Iteration 9000: loss value = 10.271247863769531\n",
      "Iteration 10000: loss value = 10.197556495666504\n",
      "Iteration 11000: loss value = 9.719104766845703\n",
      "Iteration 12000: loss value = 9.660733222961426\n",
      "# -- Entering training on time segment [0, 0.5]\n",
      "Iteration 13000: loss value = 22.85855484008789\n",
      "Iteration 14000: loss value = 25.061269760131836\n",
      "Iteration 15000: loss value = 22.70498275756836\n",
      "Iteration 16000: loss value = 24.359668731689453\n",
      "Iteration 17000: loss value = 23.01677131652832\n",
      "Iteration 18000: loss value = 26.156957626342773\n",
      "Iteration 19000: loss value = 25.75302505493164\n",
      "Iteration 20000: loss value = 25.797941207885742\n",
      "Iteration 21000: loss value = 26.01957893371582\n",
      "Iteration 22000: loss value = 0.15918263792991638\n",
      "Iteration 23000: loss value = 0.026937643066048622\n",
      "Iteration 24000: loss value = 0.018779052421450615\n",
      "Iteration 25000: loss value = 0.028400950133800507\n",
      "# -- Entering training on time segment [0, 0.75]\n",
      "Iteration 26000: loss value = 0.10982254147529602\n",
      "Iteration 27000: loss value = 0.027670204639434814\n",
      "Iteration 28000: loss value = 0.013119105249643326\n",
      "Iteration 29000: loss value = 0.007592862006276846\n",
      "Iteration 30000: loss value = 0.007536956574767828\n",
      "Iteration 31000: loss value = 0.006399423815310001\n",
      "Iteration 32000: loss value = 0.008527422323822975\n",
      "Iteration 33000: loss value = 0.003665734315291047\n",
      "Iteration 34000: loss value = 0.012980837374925613\n",
      "Iteration 35000: loss value = 0.008753703907132149\n",
      "Iteration 36000: loss value = 0.006277100183069706\n",
      "Iteration 37000: loss value = 0.014556044712662697\n",
      "# -- Entering training on time segment [0, 1.0]\n",
      "Iteration 38000: loss value = 0.8123953938484192\n",
      "Iteration 39000: loss value = 0.04070599749684334\n",
      "Iteration 40000: loss value = 0.01855490356683731\n",
      "Iteration 41000: loss value = 0.01584332063794136\n",
      "Iteration 42000: loss value = 0.028679799288511276\n",
      "Iteration 43000: loss value = 0.0162150040268898\n",
      "Iteration 44000: loss value = 0.053546350449323654\n",
      "Iteration 45000: loss value = 0.001979121007025242\n",
      "Iteration 46000: loss value = 0.0029076081700623035\n",
      "Iteration 47000: loss value = 0.009319099597632885\n",
      "Iteration 48000: loss value = 0.002362223109230399\n",
      "Iteration 49000: loss value = 0.03818945214152336\n",
      "Iteration 50000: loss value = 0.002538613509386778\n"
     ]
    }
   ],
   "source": [
    "params, total_loss_list, loss_by_term_dict, data, loss, _, _ , _, _ = jinns.solve(\n",
    "    init_params=params,\n",
    "    data=train_data,\n",
    "    seq2seq=seq2seq,\n",
    "    optimizer=tx,\n",
    "    loss=loss,\n",
    "    n_iter=n_iter\n",
    ")"
   ]
  },
  {
   "cell_type": "markdown",
   "id": "1d0a1757",
   "metadata": {},
   "source": [
    "## Results"
   ]
  },
  {
   "cell_type": "markdown",
   "id": "64c794ff",
   "metadata": {},
   "source": [
    "Plot the loss values"
   ]
  },
  {
   "cell_type": "code",
   "execution_count": 22,
   "id": "2cd778b4-d9d9-4f69-ad02-2a3f7eacf59d",
   "metadata": {
    "scrolled": true
   },
   "outputs": [
    {
     "data": {
      "image/png": "[encoded data removed]",
      "text/plain": [
       "<Figure size 640x480 with 1 Axes>"
      ]
     },
     "metadata": {},
     "output_type": "display_data"
    }
   ],
   "source": [
    "for loss_name, loss_values in loss_by_term_dict.items():\n",
    "    plt.plot(jnp.log10(loss_values), label=loss_name)\n",
    "plt.plot(jnp.log10(total_loss_list), label=\"total loss\")\n",
    "plt.legend()\n",
    "plt.show();"
   ]
  },
  {
   "cell_type": "markdown",
   "id": "a6247171",
   "metadata": {},
   "source": [
    "Plot the ODE solutions learned by the PINN"
   ]
  },
  {
   "cell_type": "code",
   "execution_count": 23,
   "id": "6d473743-c9a8-4406-b18c-256496cfde59",
   "metadata": {},
   "outputs": [
    {
     "data": {
      "text/plain": [
       "<matplotlib.legend.Legend at 0x7f4a904ccf20>"
      ]
     },
     "execution_count": 23,
     "metadata": {},
     "output_type": "execute_result"
    },
    {
     "data": {
      "image/png": "[encoded data removed]",
      "text/plain": [
       "<Figure size 640x480 with 1 Axes>"
      ]
     },
     "metadata": {},
     "output_type": "display_data"
    }
   ],
   "source": [
    "u_est_fp = vmap(lambda t:u(t, params[\"nn_params\"][\"0\"]), (0), 0)\n",
    "v_est_fp = vmap(lambda t:u(t, params[\"nn_params\"][\"1\"]), (0), 0)\n",
    "w_est_fp = vmap(lambda t:u(t, params[\"nn_params\"][\"2\"]), (0), 0)\n",
    "\n",
    "\n",
    "key, subkey = random.split(key, 2)\n",
    "val_data = jinns.data.DataGeneratorODE(subkey, n, tmin, tmax, batch_size, method)\n",
    "\n",
    "plt.plot(val_data.times.sort(axis=0) * Tmax, u_est_fp(val_data.times.sort(axis=0)), label=\"N1\")\n",
    "plt.plot(val_data.times.sort(axis=0) * Tmax, v_est_fp(val_data.times.sort(axis=0)), label=\"N2\")\n",
    "plt.plot(val_data.times.sort(axis=0) * Tmax, w_est_fp(val_data.times.sort(axis=0)), label=\"N3\")\n",
    "\n",
    "plt.legend()"
   ]
  },
  {
   "cell_type": "markdown",
   "id": "aed49c41",
   "metadata": {},
   "source": [
    "## Compare with the scipy solver\n",
    "Code from Lorenzo Sala"
   ]
  },
  {
   "cell_type": "code",
   "execution_count": 24,
   "id": "0189cc04-0ea1-4bf9-ab65-65f2d0efd29a",
   "metadata": {},
   "outputs": [
    {
     "name": "stdout",
     "output_type": "stream",
     "text": [
      "CPU times: user 1.87 s, sys: 367 ms, total: 2.24 s\n",
      "Wall time: 1.4 s\n"
     ]
    }
   ],
   "source": [
    "%%time\n",
    "import numpy as np\n",
    "from scipy.integrate import odeint\n",
    "\n",
    "def lotka_volterra_log(y_log, t, eq_params):\n",
    "    \"\"\"\n",
    "    Generalized Lotka-Volterra model for N bacterial species, with logarithmic transformation for stability.\n",
    "    \n",
    "    Parameters:\n",
    "        y_log (array): Array of log-transformed bacterial populations.\n",
    "        t (float): Time.\n",
    "        eq_params (tuple): Tuple of model parameters.\n",
    "        \n",
    "    Returns:\n",
    "        dydt (array): Array of derivative of log-transformed bacterial populations with respect to time.\n",
    "    \"\"\"\n",
    "    alpha, beta, gamma, _ = eq_params\n",
    "    N = len(y_log)\n",
    "    y = np.exp(y_log)\n",
    "    dydt = np.zeros(N)\n",
    "    \n",
    "    for i in range(N):\n",
    "        dydt[i] = (y[i] * (alpha[i] - beta[i] * np.sum(y) - np.sum([gamma[j][i] * y[j] for j in range(N)])))\n",
    "    \n",
    "    dydt_log = dydt / y\n",
    "    \n",
    "    return dydt_log\n",
    "\n",
    "# Define name bacteria\n",
    "names = ['N1', 'N2', 'N3']\n",
    "N = len(names)\n",
    "\n",
    "# Define model parameters\n",
    "death_rates = None\n",
    "eq_params = (growth_rates, carrying_capacities, interactions, death_rates)\n",
    "\n",
    "# Define initial bacterial populations\n",
    "y0 = [10, 7, 4] #[0.26, 0.37, 0.57] #\n",
    "\n",
    "# Define time points\n",
    "t = np.linspace(0, Tmax, 1000)\n",
    "\n",
    "############################\n",
    "\n",
    "y0_log = np.log(y0)\n",
    "y_log = odeint(lotka_volterra_log, y0_log, t, args=(eq_params, ))\n",
    "y = np.exp(y_log)"
   ]
  },
  {
   "cell_type": "code",
   "execution_count": 25,
   "id": "e962c046",
   "metadata": {},
   "outputs": [
    {
     "data": {
      "text/plain": [
       "<matplotlib.legend.Legend at 0x7f4abc2f7e00>"
      ]
     },
     "execution_count": 25,
     "metadata": {},
     "output_type": "execute_result"
    },
    {
     "data": {
      "image/png": "[encoded data removed]",
      "text/plain": [
       "<Figure size 640x480 with 1 Axes>"
      ]
     },
     "metadata": {},
     "output_type": "display_data"
    }
   ],
   "source": [
    "sol_pinns = [u_est_fp, v_est_fp, w_est_fp]\n",
    "colors = [\"b\", \"r\", \"orange\"]\n",
    "\n",
    "for i, sol_pinn in zip(range(N), sol_pinns): \n",
    "    plt.plot(t, y[:, i], label=f\"SciPy odeint\", linestyle=\"dotted\", c = colors[i])\n",
    "    plt.plot(val_data.times.sort(axis=0) * Tmax, sol_pinn(val_data.times.sort(axis=0)), label=f\"PINNs\", c = colors[i])\n",
    "\n",
    "plt.legend()"
   ]
  },
  {
   "cell_type": "code",
   "execution_count": null,
   "id": "3b1a2fda-95eb-4c62-bfef-467228ce93bc",
   "metadata": {},
   "outputs": [],
   "source": []
  },
  {
   "cell_type": "code",
   "execution_count": null,
   "id": "1fb03015-aca8-43ec-9486-3151e19fe13a",
   "metadata": {},
   "outputs": [],
   "source": []
  }
 ],
 "metadata": {
  "kernelspec": {
   "display_name": "Python 3 (ipykernel)",
   "language": "python",
   "name": "python3"
  },
  "language_info": {
   "codemirror_mode": {
    "name": "ipython",
    "version": 3
   },
   "file_extension": ".py",
   "mimetype": "text/x-python",
   "name": "python",
   "nbconvert_exporter": "python",
   "pygments_lexer": "ipython3",
   "version": "3.12.1"
  },
  "vscode": {
   "interpreter": {
    "hash": "991718e94fb5d91fa62c7598521d2199c208ff1ff700f1ac060f334be0bee194"
   }
  }
 },
 "nbformat": 4,
 "nbformat_minor": 5
}
