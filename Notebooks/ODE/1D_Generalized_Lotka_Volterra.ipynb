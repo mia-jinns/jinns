{
 "cells": [
  {
   "cell_type": "markdown",
   "id": "40925fec",
   "metadata": {},
   "source": [
    "# Generalized Lotka Volterra"
   ]
  },
  {
   "cell_type": "markdown",
   "id": "b825efcb",
   "metadata": {},
   "source": [
    "We consider a Generalized Lotka Volterra system with $3$ populations\n",
    "$$\n",
    "\\frac{\\partial}{\\partial t}u_i(t) = r_iu_i(t) - \\sum_{j\\neq i}\\alpha_{ij}u_j(t)\n",
    "-\\alpha_{i,i}u_i(t) + c_iu_i(t) + \\sum_{j \\neq i} c_ju_j(t), i\\in\\{1, 2, 3\\}\n",
    "$$"
   ]
  },
  {
   "cell_type": "markdown",
   "id": "f337b94d",
   "metadata": {},
   "source": [
    "More information on this ODE system can be found at [https://stefanoallesina.github.io/Sao_Paulo_School/intro.html#basic-formulation](https://stefanoallesina.github.io/Sao_Paulo_School/intro.html#basic-formulation)"
   ]
  },
  {
   "cell_type": "code",
   "execution_count": 1,
   "id": "8bf8bebc-b311-4eb4-ad63-11447f62b280",
   "metadata": {},
   "outputs": [],
   "source": [
    "%load_ext autoreload\n",
    "%autoreload 2\n",
    "%matplotlib inline"
   ]
  },
  {
   "cell_type": "markdown",
   "id": "ddee93b7",
   "metadata": {},
   "source": [
    "Float64 and GPU settings"
   ]
  },
  {
   "cell_type": "code",
   "execution_count": 2,
   "id": "5cdc87e2",
   "metadata": {},
   "outputs": [],
   "source": [
    "#import os; os.environ[\"JAX_ENABLE_X64\"] = \"TRUE\" # comment/uncomment to  disable/enable float64 for JAX\n",
    "#import os; os.environ[\"CUDA_VISIBLE_DEVICES\"]=\"\" # If uncommented then GPU is disable"
   ]
  },
  {
   "cell_type": "markdown",
   "id": "e42b1b48",
   "metadata": {},
   "source": [
    "Import our package"
   ]
  },
  {
   "cell_type": "code",
   "execution_count": 3,
   "id": "fbdd16f7",
   "metadata": {
    "scrolled": true
   },
   "outputs": [
    {
     "name": "stderr",
     "output_type": "stream",
     "text": [
      "2024-09-20 10:34:47.791352: W external/xla/xla/service/gpu/nvptx_compiler.cc:893] The NVIDIA driver's CUDA version is 12.2 which is older than the PTX compiler version 12.5.82. Because the driver is older than the PTX compiler version, XLA is disabling parallel compilation, which may slow down compilation. You should update your NVIDIA driver or use the NVIDIA-provided CUDA forward compatibility packages.\n"
     ]
    }
   ],
   "source": [
    "import jinns"
   ]
  },
  {
   "cell_type": "markdown",
   "id": "09955058",
   "metadata": {},
   "source": [
    "Import other dependencies"
   ]
  },
  {
   "cell_type": "code",
   "execution_count": 4,
   "id": "3abe5254-7556-424e-a57e-d364d67244a1",
   "metadata": {},
   "outputs": [],
   "source": [
    "import jax\n",
    "from jax import random, vmap\n",
    "import jax.numpy as jnp\n",
    "import equinox as eqx\n",
    "\n",
    "import matplotlib.pyplot as plt\n",
    "\n",
    "key = random.PRNGKey(2)\n",
    "key, subkey = random.split(key)"
   ]
  },
  {
   "cell_type": "markdown",
   "id": "2bfbd766",
   "metadata": {},
   "source": [
    "Create the neural network architecture for the PINN with `equinox`. Note that we will use the same architecture for the 3 populations."
   ]
  },
  {
   "cell_type": "code",
   "execution_count": 5,
   "id": "9396d007-04f1-4893-a3c8-c58c36845ee0",
   "metadata": {},
   "outputs": [],
   "source": [
    "eqx_list = [\n",
    "    [eqx.nn.Linear, 1, 20],\n",
    "    [jax.nn.tanh],\n",
    "    [eqx.nn.Linear, 20, 20],\n",
    "    [jax.nn.tanh],\n",
    "    [eqx.nn.Linear, 20, 20],\n",
    "    [jax.nn.tanh],\n",
    "    [eqx.nn.Linear, 20, 1],\n",
    "    [jnp.exp]\n",
    "]\n",
    "key, subkey = random.split(key)\n",
    "u = jinns.utils.create_PINN(subkey, eqx_list, \"ODE\")"
   ]
  },
  {
   "cell_type": "code",
   "execution_count": 6,
   "id": "1e47cbca-3af2-4ab2-a379-4b763c383843",
   "metadata": {},
   "outputs": [],
   "source": [
    "init_nn_params = u.init_params()"
   ]
  },
  {
   "cell_type": "markdown",
   "id": "0a5d567b",
   "metadata": {},
   "source": [
    "Create a DataGenerator object"
   ]
  },
  {
   "cell_type": "code",
   "execution_count": 7,
   "id": "15088440",
   "metadata": {},
   "outputs": [],
   "source": [
    "n = 320\n",
    "batch_size = 32\n",
    "method = 'uniform'\n",
    "tmin = 0\n",
    "tmax = 1\n",
    "\n",
    "Tmax = 30\n",
    "key, subkey = random.split(key)\n",
    "train_data = jinns.data.DataGeneratorODE(\n",
    "    subkey,\n",
    "    n,\n",
    "    tmin,\n",
    "    tmax,\n",
    "    batch_size,\n",
    "    method=method\n",
    ")"
   ]
  },
  {
   "cell_type": "markdown",
   "id": "4f1ac783",
   "metadata": {},
   "source": [
    "Initialize 3 set of neural network parameters for the 3 populations"
   ]
  },
  {
   "cell_type": "code",
   "execution_count": 8,
   "id": "4fec8c54",
   "metadata": {},
   "outputs": [],
   "source": [
    "init_nn_params_list = []\n",
    "for _ in range(3):\n",
    "    key, subkey = random.split(key)\n",
    "    u = jinns.utils.create_PINN(subkey, eqx_list, \"ODE\", 0)\n",
    "    init_nn_params = u.init_params()\n",
    "    init_nn_params_list.append(init_nn_params)"
   ]
  },
  {
   "cell_type": "markdown",
   "id": "83b7faef",
   "metadata": {},
   "source": [
    "### Model parameters\n",
    "\n",
    "\n"
   ]
  },
  {
   "cell_type": "code",
   "execution_count": 9,
   "id": "2f6b6656",
   "metadata": {},
   "outputs": [],
   "source": [
    "# initial conditions for each species\n",
    "import numpy as onp\n",
    "N_0 = onp.array([10., 7., 4.])\n",
    "# growth rates for each species\n",
    "growth_rates = jnp.array([0.1, 0.5, 0.8])\n",
    "# carrying capacity for each species\n",
    "carrying_capacities = jnp.array([0.04, 0.02, 0.02])\n",
    "# interactions\n",
    "# NOTE that for the interaction between the species **with itself** is always at position 0\n",
    "# NOTE minus sign\n",
    "interactions = -jnp.array([[0, 0.001, 0.001], [0, 0.001, 0.001], [0, 0.001, 0.001]])"
   ]
  },
  {
   "cell_type": "markdown",
   "id": "a5a5ecb8",
   "metadata": {},
   "source": [
    "Then, we proceed to define the set of parameters as required by the losses' `equation(self, ...)` methods. This is a `jinns.paramaters.ParamDict` object, with two fields for\n",
    " 1. `nn_params`: the neural network parameters \n",
    " 2. `eq_params`: the equation parameters\n",
    "\n",
    "__Note__ that the keys of the sub dictionaries `nn_params` and `eq_params` (here `str(i)`) could differ !"
   ]
  },
  {
   "cell_type": "code",
   "execution_count": 10,
   "id": "7946039f",
   "metadata": {},
   "outputs": [],
   "source": [
    "init_params = jinns.parameters.ParamsDict(\n",
    "    nn_params={str(i): init_nn_params_list[i] for i in range(3)},\n",
    "    eq_params={\n",
    "        str(i): {\n",
    "            \"carrying_capacity\": carrying_capacities[i],\n",
    "            \"growth_rate\": growth_rates[i],\n",
    "            \"interactions\": interactions[i, :],\n",
    "        }\n",
    "        for i in range(3)\n",
    "    },\n",
    ")"
   ]
  },
  {
   "cell_type": "markdown",
   "id": "e595cbcd",
   "metadata": {},
   "source": [
    "Visualize the output of the neural networks with the random initialization."
   ]
  },
  {
   "cell_type": "code",
   "execution_count": 11,
   "id": "d18c73d2-ff23-4019-a7a1-40cc023dbf53",
   "metadata": {},
   "outputs": [
    {
     "data": {
      "text/plain": [
       "<matplotlib.legend.Legend at 0x7fa0e471b0d0>"
      ]
     },
     "execution_count": 11,
     "metadata": {},
     "output_type": "execute_result"
    },
    {
     "data": {
      "image/png": "[encoded data removed]",
      "text/plain": [
       "<Figure size 640x480 with 1 Axes>"
      ]
     },
     "metadata": {},
     "output_type": "display_data"
    }
   ],
   "source": [
    "vectorized_u_init = vmap(lambda t: u(t, init_params.extract_params(\"0\")), (0), 0)\n",
    "vectorized_v_init = vmap(lambda t: u(t, init_params.extract_params(\"1\")), (0), 0)\n",
    "vectorized_w_init = vmap(lambda t: u(t, init_params.extract_params(\"2\")), (0), 0)\n",
    "\n",
    "\n",
    "plt.plot(train_data.times.sort(axis=0) * Tmax, vectorized_u_init(train_data.times.sort(axis=0)), label=\"N1\")\n",
    "plt.plot(train_data.times.sort(axis=0) * Tmax, vectorized_v_init(train_data.times.sort(axis=0)), label=\"N2\")\n",
    "plt.plot(train_data.times.sort(axis=0) * Tmax, vectorized_w_init(train_data.times.sort(axis=0)), label=\"N3\")\n",
    "\n",
    "plt.legend()"
   ]
  },
  {
   "cell_type": "markdown",
   "id": "bbe7f24b",
   "metadata": {},
   "source": [
    "## Loss construction"
   ]
  },
  {
   "cell_type": "markdown",
   "id": "aa14a602-1b0e-4582-876e-99d0322c57a0",
   "metadata": {},
   "source": [
    "We construct a SystemLossODE with GeneralizedLotkaVolterra losses for each population. Here `key_main` refer to the key in the dictionnary field `params.nn_params` which are the parameters for the main PINN of the equation (the PINN which represents the solution differentiated with respect to the `t`). In addition, `key_others` refer to the keys in `param.nn_params` which are the parameters for the PINNs interacting with `key_main`."
   ]
  },
  {
   "cell_type": "code",
   "execution_count": 12,
   "id": "b6a65062",
   "metadata": {},
   "outputs": [],
   "source": [
    "N1_dynamic_loss = jinns.loss.GeneralizedLotkaVolterra(\n",
    "    key_main=\"0\", keys_other=[\"1\", \"2\"], Tmax=Tmax\n",
    ")\n",
    "N2_dynamic_loss = jinns.loss.GeneralizedLotkaVolterra(\n",
    "    key_main=\"1\", keys_other=[\"0\", \"2\"], Tmax=Tmax\n",
    ")\n",
    "N3_dynamic_loss = jinns.loss.GeneralizedLotkaVolterra(\n",
    "    key_main=\"2\", keys_other=[\"0\", \"1\"], Tmax=Tmax\n",
    ")\n"
   ]
  },
  {
   "cell_type": "code",
   "execution_count": 13,
   "id": "32b7477e",
   "metadata": {},
   "outputs": [
    {
     "data": {
      "text/plain": [
       "PyTreeDef(CustomNode(PINN[('params',), ('slice_solution', 'eq_type', 'input_transform', 'output_transform', 'output_slice', 'static'), (slice(0, 1, None), 'ODE', <function create_PINN.<locals>.input_transform at 0x7fa0f4176e80>, <function create_PINN.<locals>.output_transform at 0x7fa0f4176f20>, None, _MLP(\n",
       "  layers=[\n",
       "    Linear(\n",
       "      weight=None,\n",
       "      bias=None,\n",
       "      in_features=1,\n",
       "      out_features=20,\n",
       "      use_bias=True\n",
       "    ),\n",
       "    <wrapped function tanh>,\n",
       "    Linear(\n",
       "      weight=None,\n",
       "      bias=None,\n",
       "      in_features=20,\n",
       "      out_features=20,\n",
       "      use_bias=True\n",
       "    ),\n",
       "    <wrapped function tanh>,\n",
       "    Linear(\n",
       "      weight=None,\n",
       "      bias=None,\n",
       "      in_features=20,\n",
       "      out_features=20,\n",
       "      use_bias=True\n",
       "    ),\n",
       "    <wrapped function tanh>,\n",
       "    Linear(\n",
       "      weight=None,\n",
       "      bias=None,\n",
       "      in_features=20,\n",
       "      out_features=1,\n",
       "      use_bias=True\n",
       "    ),\n",
       "    <wrapped function exp>\n",
       "  ]\n",
       "))], [CustomNode(_MLP[('layers',), (), ()], [[CustomNode(Linear[('weight', 'bias'), ('in_features', 'out_features', 'use_bias'), (1, 20, True)], [*, *]), None, CustomNode(Linear[('weight', 'bias'), ('in_features', 'out_features', 'use_bias'), (20, 20, True)], [*, *]), None, CustomNode(Linear[('weight', 'bias'), ('in_features', 'out_features', 'use_bias'), (20, 20, True)], [*, *]), None, CustomNode(Linear[('weight', 'bias'), ('in_features', 'out_features', 'use_bias'), (20, 1, True)], [*, *]), None]])]))"
      ]
     },
     "execution_count": 13,
     "metadata": {},
     "output_type": "execute_result"
    }
   ],
   "source": [
    "_, treedef_u = jax.tree.flatten(u)\n",
    "treedef_u"
   ]
  },
  {
   "cell_type": "code",
   "execution_count": 14,
   "id": "22b2647f",
   "metadata": {},
   "outputs": [
    {
     "name": "stderr",
     "output_type": "stream",
     "text": [
      "/tmp/ipykernel_46183/3742859190.py:3: UserWarning: A JAX array is being set as static! This can result in unexpected behavior and is usually a mistake to do.\n",
      "  loss = jinns.loss.SystemLossODE(\n"
     ]
    }
   ],
   "source": [
    "loss_weights = jinns.loss.LossWeightsODEDict(dyn_loss=1, initial_condition=1 * Tmax)\n",
    "\n",
    "loss = jinns.loss.SystemLossODE(\n",
    "    u_dict={\"0\": u, \"1\": u, \"2\": u},\n",
    "    loss_weights=loss_weights,\n",
    "    dynamic_loss_dict={\n",
    "        \"0\": N1_dynamic_loss,\n",
    "        \"1\": N2_dynamic_loss,\n",
    "        \"2\": N3_dynamic_loss,\n",
    "    },\n",
    "    initial_condition_dict={\n",
    "        \"0\": (float(tmin), N_0[0]),\n",
    "        \"1\": (float(tmin), N_0[1]),\n",
    "        \"2\": (float(tmin), N_0[2]),\n",
    "    },\n",
    ")"
   ]
  },
  {
   "cell_type": "code",
   "execution_count": 15,
   "id": "68b19a28",
   "metadata": {},
   "outputs": [
    {
     "data": {
      "text/plain": [
       "{'0': GeneralizedLotkaVolterra(\n",
       "   Tmax=30,\n",
       "   eq_params_heterogeneity=None,\n",
       "   key_main='0',\n",
       "   keys_other=['1', '2']\n",
       " ),\n",
       " '1': GeneralizedLotkaVolterra(\n",
       "   Tmax=30,\n",
       "   eq_params_heterogeneity=None,\n",
       "   key_main='1',\n",
       "   keys_other=['0', '2']\n",
       " ),\n",
       " '2': GeneralizedLotkaVolterra(\n",
       "   Tmax=30,\n",
       "   eq_params_heterogeneity=None,\n",
       "   key_main='2',\n",
       "   keys_other=['0', '1']\n",
       " )}"
      ]
     },
     "execution_count": 15,
     "metadata": {},
     "output_type": "execute_result"
    }
   ],
   "source": [
    "loss.dynamic_loss_dict\n",
    "# loss.derivative_keys_dyn_loss_dict"
   ]
  },
  {
   "cell_type": "code",
   "execution_count": 16,
   "id": "5f5418d5-629f-4745-ad0f-3778020cc635",
   "metadata": {},
   "outputs": [
    {
     "name": "stdout",
     "output_type": "stream",
     "text": [
      "DerivativeKeysODE(\n",
      "  dyn_loss='nn_params',\n",
      "  observations=None,\n",
      "  initial_condition=None\n",
      ")\n",
      "nn_params 0\n"
     ]
    },
    {
     "ename": "AttributeError",
     "evalue": "'str' object has no attribute 'extract_params'",
     "output_type": "error",
     "traceback": [
      "\u001b[0;31m---------------------------------------------------------------------------\u001b[0m",
      "\u001b[0;31mAttributeError\u001b[0m                            Traceback (most recent call last)",
      "Cell \u001b[0;32mIn[16], line 5\u001b[0m\n\u001b[1;32m      2\u001b[0m train_data, batch \u001b[38;5;241m=\u001b[39m train_data\u001b[38;5;241m.\u001b[39mget_batch()\n\u001b[1;32m      4\u001b[0m losses_and_grad \u001b[38;5;241m=\u001b[39m jax\u001b[38;5;241m.\u001b[39mvalue_and_grad(loss\u001b[38;5;241m.\u001b[39mevaluate, \u001b[38;5;241m0\u001b[39m, has_aux\u001b[38;5;241m=\u001b[39m\u001b[38;5;28;01mTrue\u001b[39;00m)\n\u001b[0;32m----> 5\u001b[0m losses, grads \u001b[38;5;241m=\u001b[39m \u001b[43mlosses_and_grad\u001b[49m\u001b[43m(\u001b[49m\n\u001b[1;32m      6\u001b[0m \u001b[43m    \u001b[49m\u001b[43minit_params\u001b[49m\u001b[43m,\u001b[49m\n\u001b[1;32m      7\u001b[0m \u001b[43m    \u001b[49m\u001b[43mbatch\u001b[49m\n\u001b[1;32m      8\u001b[0m \u001b[43m)\u001b[49m\n\u001b[1;32m      9\u001b[0m l_tot, d \u001b[38;5;241m=\u001b[39m losses\n\u001b[1;32m     10\u001b[0m \u001b[38;5;28mprint\u001b[39m(\u001b[38;5;124mf\u001b[39m\u001b[38;5;124m\"\u001b[39m\u001b[38;5;124mtotal loss: \u001b[39m\u001b[38;5;132;01m{\u001b[39;00ml_tot\u001b[38;5;132;01m}\u001b[39;00m\u001b[38;5;124m\"\u001b[39m)\n",
      "    \u001b[0;31m[... skipping hidden 9 frame]\u001b[0m\n",
      "File \u001b[0;32m~/Recherche/INRAE/PINN/jinns/jinns/loss/_LossODE.py:526\u001b[0m, in \u001b[0;36mSystemLossODE.evaluate\u001b[0;34m(self, params_dict, batch)\u001b[0m\n\u001b[1;32m    515\u001b[0m     \u001b[38;5;28mprint\u001b[39m(params_dict_with_derivatives_at_loss_terms)\n\u001b[1;32m    516\u001b[0m     \u001b[38;5;28;01mreturn\u001b[39;00m dynamic_loss_apply(\n\u001b[1;32m    517\u001b[0m         dyn_loss\u001b[38;5;241m.\u001b[39mevaluate,\n\u001b[1;32m    518\u001b[0m         \u001b[38;5;28mself\u001b[39m\u001b[38;5;241m.\u001b[39mu_dict,\n\u001b[0;32m   (...)\u001b[0m\n\u001b[1;32m    523\u001b[0m         u_type\u001b[38;5;241m=\u001b[39mPINN,\n\u001b[1;32m    524\u001b[0m     )\n\u001b[0;32m--> 526\u001b[0m dyn_loss_mse_dict \u001b[38;5;241m=\u001b[39m \u001b[43mjax\u001b[49m\u001b[38;5;241;43m.\u001b[39;49m\u001b[43mtree_util\u001b[49m\u001b[38;5;241;43m.\u001b[39;49m\u001b[43mtree_map\u001b[49m\u001b[43m(\u001b[49m\n\u001b[1;32m    527\u001b[0m \u001b[43m    \u001b[49m\u001b[43mdyn_loss_for_one_key\u001b[49m\u001b[43m,\u001b[49m\n\u001b[1;32m    528\u001b[0m \u001b[43m    \u001b[49m\u001b[38;5;28;43mself\u001b[39;49m\u001b[38;5;241;43m.\u001b[39;49m\u001b[43mdynamic_loss_dict\u001b[49m\u001b[43m,\u001b[49m\n\u001b[1;32m    529\u001b[0m \u001b[43m    \u001b[49m\u001b[38;5;28;43mself\u001b[39;49m\u001b[38;5;241;43m.\u001b[39;49m\u001b[43mderivative_keys_dyn_loss_dict\u001b[49m\u001b[43m,\u001b[49m\n\u001b[1;32m    530\u001b[0m \u001b[43m    \u001b[49m\u001b[38;5;28;43mself\u001b[39;49m\u001b[38;5;241;43m.\u001b[39;49m\u001b[43m_loss_weights\u001b[49m\u001b[43m[\u001b[49m\u001b[38;5;124;43m\"\u001b[39;49m\u001b[38;5;124;43mdyn_loss\u001b[39;49m\u001b[38;5;124;43m\"\u001b[39;49m\u001b[43m]\u001b[49m\u001b[43m,\u001b[49m\n\u001b[1;32m    531\u001b[0m \u001b[43m    \u001b[49m\u001b[43mis_leaf\u001b[49m\u001b[38;5;241;43m=\u001b[39;49m\u001b[38;5;28;43;01mlambda\u001b[39;49;00m\u001b[43m \u001b[49m\u001b[43mx\u001b[49m\u001b[43m:\u001b[49m\u001b[43m \u001b[49m\u001b[38;5;28;43misinstance\u001b[39;49m\u001b[43m(\u001b[49m\u001b[43mx\u001b[49m\u001b[43m,\u001b[49m\u001b[43m \u001b[49m\u001b[43mODE\u001b[49m\u001b[43m)\u001b[49m\u001b[43m,\u001b[49m\u001b[43m  \u001b[49m\u001b[38;5;66;43;03m# before when dynamic losses\u001b[39;49;00m\n\u001b[1;32m    532\u001b[0m \u001b[43m    \u001b[49m\u001b[38;5;66;43;03m# where plain (unregister pytree) node classes, we could not traverse\u001b[39;49;00m\n\u001b[1;32m    533\u001b[0m \u001b[43m    \u001b[49m\u001b[38;5;66;43;03m# this level. Now that dynamic losses are eqx.Module they can be\u001b[39;49;00m\n\u001b[1;32m    534\u001b[0m \u001b[43m    \u001b[49m\u001b[38;5;66;43;03m# traversed by tree map recursion. Hence we need to specify to that\u001b[39;49;00m\n\u001b[1;32m    535\u001b[0m \u001b[43m    \u001b[49m\u001b[38;5;66;43;03m# we want to stop at this level\u001b[39;49;00m\n\u001b[1;32m    536\u001b[0m \u001b[43m\u001b[49m\u001b[43m)\u001b[49m\n\u001b[1;32m    537\u001b[0m mse_dyn_loss \u001b[38;5;241m=\u001b[39m jax\u001b[38;5;241m.\u001b[39mtree_util\u001b[38;5;241m.\u001b[39mtree_reduce(\n\u001b[1;32m    538\u001b[0m     \u001b[38;5;28;01mlambda\u001b[39;00m x, y: x \u001b[38;5;241m+\u001b[39m y, jax\u001b[38;5;241m.\u001b[39mtree_util\u001b[38;5;241m.\u001b[39mtree_leaves(dyn_loss_mse_dict)\n\u001b[1;32m    539\u001b[0m )\n\u001b[1;32m    541\u001b[0m \u001b[38;5;66;03m# initial conditions and observation_loss via the internal LossODE\u001b[39;00m\n",
      "    \u001b[0;31m[... skipping hidden 24 frame]\u001b[0m\n",
      "File \u001b[0;32m~/Recherche/INRAE/PINN/jinns/jinns/loss/_LossODE.py:516\u001b[0m, in \u001b[0;36mSystemLossODE.evaluate.<locals>.dyn_loss_for_one_key\u001b[0;34m(dyn_loss, derivative_key, loss_weight)\u001b[0m\n\u001b[1;32m    507\u001b[0m params_dict_with_derivatives_at_loss_terms \u001b[38;5;241m=\u001b[39m _set_derivatives(\n\u001b[1;32m    508\u001b[0m     params_dict,\n\u001b[1;32m    509\u001b[0m     DerivativeKeysODE(\n\u001b[0;32m   (...)\u001b[0m\n\u001b[1;32m    513\u001b[0m     ),\n\u001b[1;32m    514\u001b[0m )\n\u001b[1;32m    515\u001b[0m \u001b[38;5;28mprint\u001b[39m(params_dict_with_derivatives_at_loss_terms)\n\u001b[0;32m--> 516\u001b[0m \u001b[38;5;28;01mreturn\u001b[39;00m \u001b[43mdynamic_loss_apply\u001b[49m\u001b[43m(\u001b[49m\n\u001b[1;32m    517\u001b[0m \u001b[43m    \u001b[49m\u001b[43mdyn_loss\u001b[49m\u001b[38;5;241;43m.\u001b[39;49m\u001b[43mevaluate\u001b[49m\u001b[43m,\u001b[49m\n\u001b[1;32m    518\u001b[0m \u001b[43m    \u001b[49m\u001b[38;5;28;43mself\u001b[39;49m\u001b[38;5;241;43m.\u001b[39;49m\u001b[43mu_dict\u001b[49m\u001b[43m,\u001b[49m\n\u001b[1;32m    519\u001b[0m \u001b[43m    \u001b[49m\u001b[43m(\u001b[49m\u001b[43mtemporal_batch\u001b[49m\u001b[43m,\u001b[49m\u001b[43m)\u001b[49m\u001b[43m,\u001b[49m\n\u001b[1;32m    520\u001b[0m \u001b[43m    \u001b[49m\u001b[43mparams_dict_with_derivatives_at_loss_terms\u001b[49m\u001b[38;5;241;43m.\u001b[39;49m\u001b[43mdyn_loss\u001b[49m\u001b[43m,\u001b[49m\n\u001b[1;32m    521\u001b[0m \u001b[43m    \u001b[49m\u001b[43mvmap_in_axes_t\u001b[49m\u001b[43m \u001b[49m\u001b[38;5;241;43m+\u001b[39;49m\u001b[43m \u001b[49m\u001b[43mvmap_in_axes_params\u001b[49m\u001b[43m,\u001b[49m\n\u001b[1;32m    522\u001b[0m \u001b[43m    \u001b[49m\u001b[43mloss_weight\u001b[49m\u001b[43m,\u001b[49m\n\u001b[1;32m    523\u001b[0m \u001b[43m    \u001b[49m\u001b[43mu_type\u001b[49m\u001b[38;5;241;43m=\u001b[39;49m\u001b[43mPINN\u001b[49m\u001b[43m,\u001b[49m\n\u001b[1;32m    524\u001b[0m \u001b[43m\u001b[49m\u001b[43m)\u001b[49m\n",
      "File \u001b[0;32m~/Recherche/INRAE/PINN/jinns/jinns/loss/_loss_utils.py:34\u001b[0m, in \u001b[0;36mdynamic_loss_apply\u001b[0;34m(dyn_loss, u, batches, params, vmap_axes, loss_weight, u_type)\u001b[0m\n\u001b[1;32m     26\u001b[0m \u001b[38;5;28;01mif\u001b[39;00m u_type \u001b[38;5;241m==\u001b[39m PINN \u001b[38;5;129;01mor\u001b[39;00m u_type \u001b[38;5;241m==\u001b[39m HYPERPINN \u001b[38;5;129;01mor\u001b[39;00m \u001b[38;5;28misinstance\u001b[39m(u, (PINN, HYPERPINN)):\n\u001b[1;32m     27\u001b[0m     v_dyn_loss \u001b[38;5;241m=\u001b[39m vmap(\n\u001b[1;32m     28\u001b[0m         \u001b[38;5;28;01mlambda\u001b[39;00m \u001b[38;5;241m*\u001b[39margs: dyn_loss(\n\u001b[1;32m     29\u001b[0m             \u001b[38;5;241m*\u001b[39margs[:\u001b[38;5;241m-\u001b[39m\u001b[38;5;241m1\u001b[39m], u, args[\u001b[38;5;241m-\u001b[39m\u001b[38;5;241m1\u001b[39m]  \u001b[38;5;66;03m# we must place the params at the end\u001b[39;00m\n\u001b[0;32m   (...)\u001b[0m\n\u001b[1;32m     32\u001b[0m         \u001b[38;5;241m0\u001b[39m,\n\u001b[1;32m     33\u001b[0m     )\n\u001b[0;32m---> 34\u001b[0m     residuals \u001b[38;5;241m=\u001b[39m \u001b[43mv_dyn_loss\u001b[49m\u001b[43m(\u001b[49m\u001b[38;5;241;43m*\u001b[39;49m\u001b[43mbatches\u001b[49m\u001b[43m,\u001b[49m\u001b[43m \u001b[49m\u001b[43mparams\u001b[49m\u001b[43m)\u001b[49m\n\u001b[1;32m     35\u001b[0m     mse_dyn_loss \u001b[38;5;241m=\u001b[39m jnp\u001b[38;5;241m.\u001b[39mmean(jnp\u001b[38;5;241m.\u001b[39msum(loss_weight \u001b[38;5;241m*\u001b[39m residuals\u001b[38;5;241m*\u001b[39m\u001b[38;5;241m*\u001b[39m\u001b[38;5;241m2\u001b[39m, axis\u001b[38;5;241m=\u001b[39m\u001b[38;5;241m-\u001b[39m\u001b[38;5;241m1\u001b[39m))\n\u001b[1;32m     36\u001b[0m \u001b[38;5;28;01melif\u001b[39;00m u_type \u001b[38;5;241m==\u001b[39m SPINN \u001b[38;5;129;01mor\u001b[39;00m \u001b[38;5;28misinstance\u001b[39m(u, SPINN):\n",
      "    \u001b[0;31m[... skipping hidden 3 frame]\u001b[0m\n",
      "File \u001b[0;32m~/Recherche/INRAE/PINN/jinns/jinns/loss/_loss_utils.py:28\u001b[0m, in \u001b[0;36mdynamic_loss_apply.<locals>.<lambda>\u001b[0;34m(*args)\u001b[0m\n\u001b[1;32m     22\u001b[0m \u001b[38;5;250m\u001b[39m\u001b[38;5;124;03m\"\"\"\u001b[39;00m\n\u001b[1;32m     23\u001b[0m \u001b[38;5;124;03mSometimes when u is a lambda function a or dict we do not have access to\u001b[39;00m\n\u001b[1;32m     24\u001b[0m \u001b[38;5;124;03mits type here, hence the last argument\u001b[39;00m\n\u001b[1;32m     25\u001b[0m \u001b[38;5;124;03m\"\"\"\u001b[39;00m\n\u001b[1;32m     26\u001b[0m \u001b[38;5;28;01mif\u001b[39;00m u_type \u001b[38;5;241m==\u001b[39m PINN \u001b[38;5;129;01mor\u001b[39;00m u_type \u001b[38;5;241m==\u001b[39m HYPERPINN \u001b[38;5;129;01mor\u001b[39;00m \u001b[38;5;28misinstance\u001b[39m(u, (PINN, HYPERPINN)):\n\u001b[1;32m     27\u001b[0m     v_dyn_loss \u001b[38;5;241m=\u001b[39m vmap(\n\u001b[0;32m---> 28\u001b[0m         \u001b[38;5;28;01mlambda\u001b[39;00m \u001b[38;5;241m*\u001b[39margs: \u001b[43mdyn_loss\u001b[49m\u001b[43m(\u001b[49m\n\u001b[1;32m     29\u001b[0m \u001b[43m            \u001b[49m\u001b[38;5;241;43m*\u001b[39;49m\u001b[43margs\u001b[49m\u001b[43m[\u001b[49m\u001b[43m:\u001b[49m\u001b[38;5;241;43m-\u001b[39;49m\u001b[38;5;241;43m1\u001b[39;49m\u001b[43m]\u001b[49m\u001b[43m,\u001b[49m\u001b[43m \u001b[49m\u001b[43mu\u001b[49m\u001b[43m,\u001b[49m\u001b[43m \u001b[49m\u001b[43margs\u001b[49m\u001b[43m[\u001b[49m\u001b[38;5;241;43m-\u001b[39;49m\u001b[38;5;241;43m1\u001b[39;49m\u001b[43m]\u001b[49m\u001b[43m  \u001b[49m\u001b[38;5;66;43;03m# we must place the params at the end\u001b[39;49;00m\n\u001b[1;32m     30\u001b[0m \u001b[43m        \u001b[49m\u001b[43m)\u001b[49m,\n\u001b[1;32m     31\u001b[0m         vmap_axes,\n\u001b[1;32m     32\u001b[0m         \u001b[38;5;241m0\u001b[39m,\n\u001b[1;32m     33\u001b[0m     )\n\u001b[1;32m     34\u001b[0m     residuals \u001b[38;5;241m=\u001b[39m v_dyn_loss(\u001b[38;5;241m*\u001b[39mbatches, params)\n\u001b[1;32m     35\u001b[0m     mse_dyn_loss \u001b[38;5;241m=\u001b[39m jnp\u001b[38;5;241m.\u001b[39mmean(jnp\u001b[38;5;241m.\u001b[39msum(loss_weight \u001b[38;5;241m*\u001b[39m residuals\u001b[38;5;241m*\u001b[39m\u001b[38;5;241m*\u001b[39m\u001b[38;5;241m2\u001b[39m, axis\u001b[38;5;241m=\u001b[39m\u001b[38;5;241m-\u001b[39m\u001b[38;5;241m1\u001b[39m))\n",
      "    \u001b[0;31m[... skipping hidden 1 frame]\u001b[0m\n",
      "File \u001b[0;32m~/Recherche/INRAE/PINN/jinns/jinns/loss/_DynamicLossAbstract.py:183\u001b[0m, in \u001b[0;36mODE.evaluate\u001b[0;34m(self, t, u, params)\u001b[0m\n\u001b[1;32m    176\u001b[0m \u001b[38;5;28;01mdef\u001b[39;00m \u001b[38;5;21mevaluate\u001b[39m(\n\u001b[1;32m    177\u001b[0m     \u001b[38;5;28mself\u001b[39m,\n\u001b[1;32m    178\u001b[0m     t: Float[Array, \u001b[38;5;124m\"\u001b[39m\u001b[38;5;124m1\u001b[39m\u001b[38;5;124m\"\u001b[39m],\n\u001b[1;32m    179\u001b[0m     u: eqx\u001b[38;5;241m.\u001b[39mModule \u001b[38;5;241m|\u001b[39m Dict[\u001b[38;5;28mstr\u001b[39m, eqx\u001b[38;5;241m.\u001b[39mModule],\n\u001b[1;32m    180\u001b[0m     params: Params \u001b[38;5;241m|\u001b[39m ParamsDict,\n\u001b[1;32m    181\u001b[0m ):\n\u001b[1;32m    182\u001b[0m \u001b[38;5;250m    \u001b[39m\u001b[38;5;124;03m\"\"\"Here we call DynamicLoss._evaluate with x=None\"\"\"\u001b[39;00m\n\u001b[0;32m--> 183\u001b[0m     \u001b[38;5;28;01mreturn\u001b[39;00m \u001b[38;5;28;43mself\u001b[39;49m\u001b[38;5;241;43m.\u001b[39;49m\u001b[43m_evaluate\u001b[49m\u001b[43m(\u001b[49m\u001b[43mt\u001b[49m\u001b[43m,\u001b[49m\u001b[43m \u001b[49m\u001b[38;5;28;43;01mNone\u001b[39;49;00m\u001b[43m,\u001b[49m\u001b[43m \u001b[49m\u001b[43mu\u001b[49m\u001b[43m,\u001b[49m\u001b[43m \u001b[49m\u001b[43mparams\u001b[49m\u001b[43m)\u001b[49m\n",
      "    \u001b[0;31m[... skipping hidden 1 frame]\u001b[0m\n",
      "File \u001b[0;32m~/Recherche/INRAE/PINN/jinns/jinns/loss/_DynamicLossAbstract.py:133\u001b[0m, in \u001b[0;36mDynamicLoss._evaluate\u001b[0;34m(self, t, x, u, params)\u001b[0m\n\u001b[1;32m    130\u001b[0m \u001b[38;5;28;01mdef\u001b[39;00m \u001b[38;5;21m_evaluate\u001b[39m(\u001b[38;5;28mself\u001b[39m, t, x, u, params):\n\u001b[1;32m    131\u001b[0m     \u001b[38;5;66;03m# Here we handle the various possible signature\u001b[39;00m\n\u001b[1;32m    132\u001b[0m     \u001b[38;5;28;01mif\u001b[39;00m \u001b[38;5;28mself\u001b[39m\u001b[38;5;241m.\u001b[39m_eq_type \u001b[38;5;241m==\u001b[39m \u001b[38;5;124m\"\u001b[39m\u001b[38;5;124mODE\u001b[39m\u001b[38;5;124m\"\u001b[39m:\n\u001b[0;32m--> 133\u001b[0m         ans \u001b[38;5;241m=\u001b[39m \u001b[38;5;28;43mself\u001b[39;49m\u001b[38;5;241;43m.\u001b[39;49m\u001b[43mequation\u001b[49m\u001b[43m(\u001b[49m\u001b[43mt\u001b[49m\u001b[43m,\u001b[49m\u001b[43m \u001b[49m\u001b[43mu\u001b[49m\u001b[43m,\u001b[49m\u001b[43m \u001b[49m\u001b[43mparams\u001b[49m\u001b[43m)\u001b[49m\n\u001b[1;32m    134\u001b[0m     \u001b[38;5;28;01melif\u001b[39;00m \u001b[38;5;28mself\u001b[39m\u001b[38;5;241m.\u001b[39m_eq_type \u001b[38;5;241m==\u001b[39m \u001b[38;5;124m\"\u001b[39m\u001b[38;5;124mStatio PDE\u001b[39m\u001b[38;5;124m\"\u001b[39m:\n\u001b[1;32m    135\u001b[0m         ans \u001b[38;5;241m=\u001b[39m \u001b[38;5;28mself\u001b[39m\u001b[38;5;241m.\u001b[39mequation(x, u, params)\n",
      "    \u001b[0;31m[... skipping hidden 1 frame]\u001b[0m\n",
      "File \u001b[0;32m~/Recherche/INRAE/PINN/jinns/jinns/loss/_DynamicLoss.py:155\u001b[0m, in \u001b[0;36mGeneralizedLotkaVolterra.equation\u001b[0;34m(self, t, u_dict, params_dict)\u001b[0m\n\u001b[1;32m    140\u001b[0m \u001b[38;5;250m\u001b[39m\u001b[38;5;124;03m\"\"\"\u001b[39;00m\n\u001b[1;32m    141\u001b[0m \u001b[38;5;124;03mEvaluate the dynamic loss at `t`.\u001b[39;00m\n\u001b[1;32m    142\u001b[0m \u001b[38;5;124;03mFor stability we implement the dynamic loss in log space.\u001b[39;00m\n\u001b[0;32m   (...)\u001b[0m\n\u001b[1;32m    152\u001b[0m \u001b[38;5;124;03m    top level are \"nn_params\" and \"eq_params\"\u001b[39;00m\n\u001b[1;32m    153\u001b[0m \u001b[38;5;124;03m\"\"\"\u001b[39;00m\n\u001b[1;32m    154\u001b[0m \u001b[38;5;28mprint\u001b[39m(params_dict, \u001b[38;5;28mself\u001b[39m\u001b[38;5;241m.\u001b[39mkey_main)\n\u001b[0;32m--> 155\u001b[0m params_main \u001b[38;5;241m=\u001b[39m \u001b[43mparams_dict\u001b[49m\u001b[38;5;241;43m.\u001b[39;49m\u001b[43mextract_params\u001b[49m(\u001b[38;5;28mself\u001b[39m\u001b[38;5;241m.\u001b[39mkey_main)\n\u001b[1;32m    157\u001b[0m u \u001b[38;5;241m=\u001b[39m u_dict[\u001b[38;5;28mself\u001b[39m\u001b[38;5;241m.\u001b[39mkey_main]\n\u001b[1;32m    158\u001b[0m \u001b[38;5;66;03m# need to index with [0] since u output is nec (1,)\u001b[39;00m\n",
      "\u001b[0;31mAttributeError\u001b[0m: 'str' object has no attribute 'extract_params'"
     ]
    }
   ],
   "source": [
    "# Testing the loss function\n",
    "train_data, batch = train_data.get_batch()\n",
    "\n",
    "losses_and_grad = jax.value_and_grad(loss.evaluate, 0, has_aux=True)\n",
    "losses, grads = losses_and_grad(\n",
    "    init_params,\n",
    "    batch\n",
    ")\n",
    "l_tot, d = losses\n",
    "print(f\"total loss: {l_tot}\")\n",
    "print(f\"Individual losses: { {key: f'{val:.2f}' for key, val in d.items()} }\")"
   ]
  },
  {
   "cell_type": "markdown",
   "id": "64835b79-0bce-4f06-bd57-5ee051796663",
   "metadata": {},
   "source": [
    "## Learning the neural network parameters\n",
    "The learning process here consider known equation parameters `eq_params`. We thus only update `nn_params`"
   ]
  },
  {
   "cell_type": "code",
   "execution_count": 16,
   "id": "4e2c75a4-e3de-4d10-9424-4ee4ae206da3",
   "metadata": {},
   "outputs": [],
   "source": [
    "params = init_params"
   ]
  },
  {
   "cell_type": "code",
   "execution_count": 17,
   "id": "8d0106ad-d1e4-4fa8-958d-c8ebd4572d76",
   "metadata": {},
   "outputs": [],
   "source": [
    "# Optimizer\n",
    "import optax\n",
    "tx = optax.adam(learning_rate=1e-3)"
   ]
  },
  {
   "cell_type": "code",
   "execution_count": 18,
   "id": "055a7e63-4d0e-4246-b792-2007a0deeaab",
   "metadata": {},
   "outputs": [],
   "source": [
    "n_iter = int(2)"
   ]
  },
  {
   "cell_type": "code",
   "execution_count": 19,
   "id": "9284d4ed",
   "metadata": {},
   "outputs": [],
   "source": [
    "key, subkey = random.split(key)"
   ]
  },
  {
   "cell_type": "code",
   "execution_count": 20,
   "id": "df0ab21d-bfc1-4e81-8708-df8b30d0173b",
   "metadata": {},
   "outputs": [
    {
     "ename": "TypeError",
     "evalue": "Value '0' with type <class 'str'> is not a valid JAX type",
     "output_type": "error",
     "traceback": [
      "\u001b[0;31m---------------------------------------------------------------------------\u001b[0m",
      "\u001b[0;31mTypeError\u001b[0m                                 Traceback (most recent call last)",
      "Cell \u001b[0;32mIn[20], line 1\u001b[0m\n\u001b[0;32m----> 1\u001b[0m params, total_loss_list, loss_by_term_dict, data, loss, _, _ , _, _ \u001b[38;5;241m=\u001b[39m \u001b[43mjinns\u001b[49m\u001b[38;5;241;43m.\u001b[39;49m\u001b[43msolve\u001b[49m\u001b[43m(\u001b[49m\n\u001b[1;32m      2\u001b[0m \u001b[43m    \u001b[49m\u001b[43minit_params\u001b[49m\u001b[38;5;241;43m=\u001b[39;49m\u001b[43mparams\u001b[49m\u001b[43m,\u001b[49m\n\u001b[1;32m      3\u001b[0m \u001b[43m    \u001b[49m\u001b[43mdata\u001b[49m\u001b[38;5;241;43m=\u001b[39;49m\u001b[43mtrain_data\u001b[49m\u001b[43m,\u001b[49m\n\u001b[1;32m      4\u001b[0m \u001b[43m    \u001b[49m\u001b[43moptimizer\u001b[49m\u001b[38;5;241;43m=\u001b[39;49m\u001b[43mtx\u001b[49m\u001b[43m,\u001b[49m\n\u001b[1;32m      5\u001b[0m \u001b[43m    \u001b[49m\u001b[43mloss\u001b[49m\u001b[38;5;241;43m=\u001b[39;49m\u001b[43mloss\u001b[49m\u001b[43m,\u001b[49m\n\u001b[1;32m      6\u001b[0m \u001b[43m    \u001b[49m\u001b[43mn_iter\u001b[49m\u001b[38;5;241;43m=\u001b[39;49m\u001b[43mn_iter\u001b[49m\n\u001b[1;32m      7\u001b[0m \u001b[43m)\u001b[49m\n",
      "File \u001b[0;32m~/Recherche/INRAE/PINN/jinns/jinns/solver/_solve.py:360\u001b[0m, in \u001b[0;36msolve\u001b[0;34m(n_iter, init_params, data, loss, optimizer, print_loss_every, opt_state, tracked_params_key_list, param_data, obs_data, validation, obs_batch_sharding, verbose)\u001b[0m\n\u001b[1;32m    358\u001b[0m     break_fun \u001b[38;5;241m=\u001b[39m jax\u001b[38;5;241m.\u001b[39mjit(break_fun)\n\u001b[1;32m    359\u001b[0m     \u001b[38;5;66;03m# print(f\"{break_fun(carry)=}\")\u001b[39;00m\n\u001b[0;32m--> 360\u001b[0m     carry \u001b[38;5;241m=\u001b[39m \u001b[43mjax\u001b[49m\u001b[38;5;241;43m.\u001b[39;49m\u001b[43mlax\u001b[49m\u001b[38;5;241;43m.\u001b[39;49m\u001b[43mwhile_loop\u001b[49m\u001b[43m(\u001b[49m\u001b[43mbreak_fun\u001b[49m\u001b[43m,\u001b[49m\u001b[43m \u001b[49m\u001b[43mone_iteration\u001b[49m\u001b[43m,\u001b[49m\u001b[43m \u001b[49m\u001b[43mcarry\u001b[49m\u001b[43m)\u001b[49m\n\u001b[1;32m    362\u001b[0m (\n\u001b[1;32m    363\u001b[0m     i,\n\u001b[1;32m    364\u001b[0m     loss,\n\u001b[0;32m   (...)\u001b[0m\n\u001b[1;32m    371\u001b[0m     validation_crit_values,\n\u001b[1;32m    372\u001b[0m ) \u001b[38;5;241m=\u001b[39m carry\n\u001b[1;32m    374\u001b[0m \u001b[38;5;28;01mif\u001b[39;00m verbose:\n",
      "    \u001b[0;31m[... skipping hidden 5 frame]\u001b[0m\n",
      "File \u001b[0;32m~/anaconda3/envs/pinn-gpu/lib/python3.11/site-packages/jax/_src/core.py:1518\u001b[0m, in \u001b[0;36mconcrete_aval\u001b[0;34m(x)\u001b[0m\n\u001b[1;32m   1516\u001b[0m \u001b[38;5;28;01mif\u001b[39;00m \u001b[38;5;28mhasattr\u001b[39m(x, \u001b[38;5;124m'\u001b[39m\u001b[38;5;124m__jax_array__\u001b[39m\u001b[38;5;124m'\u001b[39m):\n\u001b[1;32m   1517\u001b[0m   \u001b[38;5;28;01mreturn\u001b[39;00m concrete_aval(x\u001b[38;5;241m.\u001b[39m__jax_array__())\n\u001b[0;32m-> 1518\u001b[0m \u001b[38;5;28;01mraise\u001b[39;00m \u001b[38;5;167;01mTypeError\u001b[39;00m(\u001b[38;5;124mf\u001b[39m\u001b[38;5;124m\"\u001b[39m\u001b[38;5;124mValue \u001b[39m\u001b[38;5;132;01m{\u001b[39;00mx\u001b[38;5;132;01m!r}\u001b[39;00m\u001b[38;5;124m with type \u001b[39m\u001b[38;5;132;01m{\u001b[39;00m\u001b[38;5;28mtype\u001b[39m(x)\u001b[38;5;132;01m}\u001b[39;00m\u001b[38;5;124m is not a valid JAX \u001b[39m\u001b[38;5;124m\"\u001b[39m\n\u001b[1;32m   1519\u001b[0m                  \u001b[38;5;124m\"\u001b[39m\u001b[38;5;124mtype\u001b[39m\u001b[38;5;124m\"\u001b[39m)\n",
      "\u001b[0;31mTypeError\u001b[0m: Value '0' with type <class 'str'> is not a valid JAX type"
     ]
    }
   ],
   "source": [
    "params, total_loss_list, loss_by_term_dict, data, loss, _, _ , _, _ = jinns.solve(\n",
    "    init_params=params,\n",
    "    data=train_data,\n",
    "    optimizer=tx,\n",
    "    loss=loss,\n",
    "    n_iter=n_iter\n",
    ")"
   ]
  },
  {
   "cell_type": "code",
   "execution_count": 21,
   "id": "b65dfc33",
   "metadata": {},
   "outputs": [
    {
     "data": {
      "text/plain": [
       "Array(4555.6255, dtype=float32)"
      ]
     },
     "execution_count": 21,
     "metadata": {},
     "output_type": "execute_result"
    }
   ],
   "source": [
    "total_loss_list[-1]"
   ]
  },
  {
   "cell_type": "markdown",
   "id": "0066b072",
   "metadata": {},
   "source": [
    "# TO DELETE : test modif loss + solve"
   ]
  },
  {
   "cell_type": "code",
   "execution_count": 22,
   "id": "2749d465",
   "metadata": {},
   "outputs": [
    {
     "name": "stderr",
     "output_type": "stream",
     "text": [
      "/tmp/ipykernel_39351/605340911.py:1: UserWarning: A JAX array is being set as static! This can result in unexpected behavior and is usually a mistake to do.\n",
      "  loss2 = jinns.loss.SystemLossODE(\n"
     ]
    }
   ],
   "source": [
    "loss2 = jinns.loss.SystemLossODE(\n",
    "    u_dict={\"0\": u, \"1\": u, \"2\": u},\n",
    "    loss_weights=loss_weights,\n",
    "    dynamic_loss_dict={\n",
    "        \"0\": N1_dynamic_loss,\n",
    "        \"1\": N2_dynamic_loss,\n",
    "        \"2\": N3_dynamic_loss,\n",
    "    },\n",
    "    initial_condition_dict={\n",
    "        \"0\": (float(tmin), N_0[0]),\n",
    "        \"1\": (float(tmin), N_0[1]),\n",
    "        \"2\": (float(tmin), N_0[2]),\n",
    "    },\n",
    ")"
   ]
  },
  {
   "cell_type": "code",
   "execution_count": 23,
   "id": "deadbe6d",
   "metadata": {},
   "outputs": [
    {
     "data": {
      "text/plain": [
       "True"
      ]
     },
     "execution_count": 23,
     "metadata": {},
     "output_type": "execute_result"
    }
   ],
   "source": [
    "jax.tree.structure(loss) == jax.tree.structure(loss2)"
   ]
  },
  {
   "cell_type": "code",
   "execution_count": 24,
   "id": "b952ec54",
   "metadata": {},
   "outputs": [
    {
     "data": {
      "text/plain": [
       "24"
      ]
     },
     "execution_count": 24,
     "metadata": {},
     "output_type": "execute_result"
    }
   ],
   "source": [
    "len(jax.tree.leaves(loss))"
   ]
  },
  {
   "cell_type": "code",
   "execution_count": 25,
   "id": "f4a3fc40",
   "metadata": {},
   "outputs": [
    {
     "ename": "TracerBoolConversionError",
     "evalue": "Attempted boolean conversion of traced array with shape bool[].\nThe error occurred while tracing the function break_fun at /home/nicolas/Recherche/INRAE/PINN/jinns/jinns/solver/_solve.py:489 for while_cond. This value became a tracer due to JAX operations on these lines:\n\n  operation a\u001b[35m:bool[20,1]\u001b[39m = eq b b\n    from line <string>:4:10 (__create_fn__.<locals>.__eq__)\n\n  operation a\u001b[35m:bool[]\u001b[39m = and b c\n    from line <string>:4:10 (__create_fn__.<locals>.__eq__)\n\n  operation a\u001b[35m:bool[20]\u001b[39m = eq b b\n    from line <string>:4:10 (__create_fn__.<locals>.__eq__)\n\n  operation a\u001b[35m:bool[20,20]\u001b[39m = eq b b\n    from line <string>:4:10 (__create_fn__.<locals>.__eq__)\n\n  operation a\u001b[35m:bool[20]\u001b[39m = eq b b\n    from line <string>:4:10 (__create_fn__.<locals>.__eq__)\n\n(Additional originating lines are not shown.)\nSee https://jax.readthedocs.io/en/latest/errors.html#jax.errors.TracerBoolConversionError",
     "output_type": "error",
     "traceback": [
      "\u001b[0;31m---------------------------------------------------------------------------\u001b[0m",
      "\u001b[0;31mTracerBoolConversionError\u001b[0m                 Traceback (most recent call last)",
      "Cell \u001b[0;32mIn[25], line 1\u001b[0m\n\u001b[0;32m----> 1\u001b[0m temp \u001b[38;5;241m=\u001b[39m \u001b[43mjinns\u001b[49m\u001b[38;5;241;43m.\u001b[39;49m\u001b[43msolve\u001b[49m\u001b[43m(\u001b[49m\n\u001b[1;32m      2\u001b[0m \u001b[43m    \u001b[49m\u001b[43minit_params\u001b[49m\u001b[38;5;241;43m=\u001b[39;49m\u001b[43mparams\u001b[49m\u001b[43m,\u001b[49m\n\u001b[1;32m      3\u001b[0m \u001b[43m    \u001b[49m\u001b[43mdata\u001b[49m\u001b[38;5;241;43m=\u001b[39;49m\u001b[43mtrain_data\u001b[49m\u001b[43m,\u001b[49m\n\u001b[1;32m      4\u001b[0m \u001b[43m    \u001b[49m\u001b[43moptimizer\u001b[49m\u001b[38;5;241;43m=\u001b[39;49m\u001b[43mtx\u001b[49m\u001b[43m,\u001b[49m\n\u001b[1;32m      5\u001b[0m \u001b[43m    \u001b[49m\u001b[43mloss\u001b[49m\u001b[38;5;241;43m=\u001b[39;49m\u001b[43mloss2\u001b[49m\u001b[43m,\u001b[49m\n\u001b[1;32m      6\u001b[0m \u001b[43m    \u001b[49m\u001b[43mn_iter\u001b[49m\u001b[38;5;241;43m=\u001b[39;49m\u001b[43mn_iter\u001b[49m\n\u001b[1;32m      7\u001b[0m \u001b[43m)\u001b[49m\n",
      "File \u001b[0;32m~/Recherche/INRAE/PINN/jinns/jinns/solver/_solve.py:360\u001b[0m, in \u001b[0;36msolve\u001b[0;34m(n_iter, init_params, data, loss, optimizer, print_loss_every, opt_state, tracked_params_key_list, param_data, obs_data, validation, obs_batch_sharding, verbose)\u001b[0m\n\u001b[1;32m    358\u001b[0m     break_fun \u001b[38;5;241m=\u001b[39m jax\u001b[38;5;241m.\u001b[39mjit(break_fun)\n\u001b[1;32m    359\u001b[0m     \u001b[38;5;66;03m# print(f\"{break_fun(carry)=}\")\u001b[39;00m\n\u001b[0;32m--> 360\u001b[0m     carry \u001b[38;5;241m=\u001b[39m \u001b[43mjax\u001b[49m\u001b[38;5;241;43m.\u001b[39;49m\u001b[43mlax\u001b[49m\u001b[38;5;241;43m.\u001b[39;49m\u001b[43mwhile_loop\u001b[49m\u001b[43m(\u001b[49m\u001b[43mbreak_fun\u001b[49m\u001b[43m,\u001b[49m\u001b[43m \u001b[49m\u001b[43mone_iteration\u001b[49m\u001b[43m,\u001b[49m\u001b[43m \u001b[49m\u001b[43mcarry\u001b[49m\u001b[43m)\u001b[49m\n\u001b[1;32m    362\u001b[0m (\n\u001b[1;32m    363\u001b[0m     i,\n\u001b[1;32m    364\u001b[0m     loss,\n\u001b[0;32m   (...)\u001b[0m\n\u001b[1;32m    371\u001b[0m     validation_crit_values,\n\u001b[1;32m    372\u001b[0m ) \u001b[38;5;241m=\u001b[39m carry\n\u001b[1;32m    374\u001b[0m \u001b[38;5;28;01mif\u001b[39;00m verbose:\n",
      "    \u001b[0;31m[... skipping hidden 15 frame]\u001b[0m\n",
      "File \u001b[0;32m<string>:4\u001b[0m, in \u001b[0;36m__eq__\u001b[0;34m(self, other)\u001b[0m\n",
      "    \u001b[0;31m[... skipping hidden 1 frame]\u001b[0m\n",
      "File \u001b[0;32m~/anaconda3/envs/pinn-gpu/lib/python3.11/site-packages/jax/_src/core.py:1538\u001b[0m, in \u001b[0;36mconcretization_function_error.<locals>.error\u001b[0;34m(self, arg)\u001b[0m\n\u001b[1;32m   1537\u001b[0m \u001b[38;5;28;01mdef\u001b[39;00m \u001b[38;5;21merror\u001b[39m(\u001b[38;5;28mself\u001b[39m, arg):\n\u001b[0;32m-> 1538\u001b[0m   \u001b[38;5;28;01mraise\u001b[39;00m TracerBoolConversionError(arg)\n",
      "\u001b[0;31mTracerBoolConversionError\u001b[0m: Attempted boolean conversion of traced array with shape bool[].\nThe error occurred while tracing the function break_fun at /home/nicolas/Recherche/INRAE/PINN/jinns/jinns/solver/_solve.py:489 for while_cond. This value became a tracer due to JAX operations on these lines:\n\n  operation a\u001b[35m:bool[20,1]\u001b[39m = eq b b\n    from line <string>:4:10 (__create_fn__.<locals>.__eq__)\n\n  operation a\u001b[35m:bool[]\u001b[39m = and b c\n    from line <string>:4:10 (__create_fn__.<locals>.__eq__)\n\n  operation a\u001b[35m:bool[20]\u001b[39m = eq b b\n    from line <string>:4:10 (__create_fn__.<locals>.__eq__)\n\n  operation a\u001b[35m:bool[20,20]\u001b[39m = eq b b\n    from line <string>:4:10 (__create_fn__.<locals>.__eq__)\n\n  operation a\u001b[35m:bool[20]\u001b[39m = eq b b\n    from line <string>:4:10 (__create_fn__.<locals>.__eq__)\n\n(Additional originating lines are not shown.)\nSee https://jax.readthedocs.io/en/latest/errors.html#jax.errors.TracerBoolConversionError"
     ]
    }
   ],
   "source": [
    "temp = jinns.solve(\n",
    "    init_params=params,\n",
    "    data=train_data,\n",
    "    optimizer=tx,\n",
    "    loss=loss2,\n",
    "    n_iter=n_iter\n",
    ")"
   ]
  },
  {
   "cell_type": "markdown",
   "id": "1d0a1757",
   "metadata": {},
   "source": [
    "## Results"
   ]
  },
  {
   "cell_type": "markdown",
   "id": "64c794ff",
   "metadata": {},
   "source": [
    "Plot the loss values"
   ]
  },
  {
   "cell_type": "code",
   "execution_count": null,
   "id": "2cd778b4-d9d9-4f69-ad02-2a3f7eacf59d",
   "metadata": {
    "scrolled": true
   },
   "outputs": [],
   "source": [
    "for loss_name, loss_values in loss_by_term_dict.items():\n",
    "    plt.plot(jnp.log10(loss_values), label=loss_name)\n",
    "plt.plot(jnp.log10(total_loss_list), label=\"total loss\")\n",
    "plt.legend()\n",
    "plt.show()"
   ]
  },
  {
   "cell_type": "markdown",
   "id": "a6247171",
   "metadata": {},
   "source": [
    "Plot the ODE solutions learned by the PINN"
   ]
  },
  {
   "cell_type": "code",
   "execution_count": null,
   "id": "6d473743-c9a8-4406-b18c-256496cfde59",
   "metadata": {},
   "outputs": [],
   "source": [
    "u_est_fp = vmap(lambda t:u(t, params.extract_params(\"0\")), (0), 0)\n",
    "v_est_fp = vmap(lambda t:u(t, params.extract_params(\"1\")), (0), 0)\n",
    "w_est_fp = vmap(lambda t:u(t, params.extract_params(\"2\")), (0), 0)\n",
    "\n",
    "\n",
    "key, subkey = random.split(key, 2)\n",
    "val_data = jinns.data.DataGeneratorODE(subkey, n, tmin, tmax, batch_size, method)\n",
    "\n",
    "import pandas as pd\n",
    "ts = val_data.times.sort(axis=0)\n",
    "df = pd.DataFrame(\n",
    "    {\n",
    "        \"t\": ts * Tmax, # rescale time for plotting\n",
    "        \"N1\": u_est_fp(ts).squeeze(),\n",
    "        \"N2\": v_est_fp(ts).squeeze(),\n",
    "        \"N3\": w_est_fp(ts).squeeze(),\n",
    "        \"Method\": \"PINN\"\n",
    "    },\n",
    ")\n",
    "df.plot(x=\"t\")"
   ]
  },
  {
   "cell_type": "markdown",
   "id": "aed49c41",
   "metadata": {},
   "source": [
    "## Compare with the scipy solver\n",
    "Code from Lorenzo Sala"
   ]
  },
  {
   "cell_type": "code",
   "execution_count": 25,
   "id": "484380a5",
   "metadata": {},
   "outputs": [],
   "source": [
    "import numpy as np\n",
    "from scipy.integrate import odeint\n",
    "\n",
    "# NOTE the following line is not accurate as it skips one batch\n",
    "\n",
    "def lotka_volterra_log(y_log, t, eq_params):\n",
    "    \"\"\"\n",
    "    Generalized Lotka-Volterra model for N bacterial species, with logarithmic transformation for stability.\n",
    "\n",
    "    Parameters:\n",
    "        y_log (array): Array of log-transformed bacterial populations.\n",
    "        t (float): Time.\n",
    "        params (tuple): Tuple of model parameters.\n",
    "\n",
    "    Returns:\n",
    "        dydt (array): Array of derivative of log-transformed bacterial populations with respect to time.\n",
    "    \"\"\"\n",
    "    alpha, beta, gamma, _ = eq_params\n",
    "    N = len(y_log)\n",
    "    y = np.exp(y_log)\n",
    "    dydt = np.zeros(N)\n",
    "\n",
    "    for i in range(N):\n",
    "        dydt[i] = y[i] * (alpha[i] - beta[i] * np.sum(y) - np.sum([gamma[j][i] * y[j] for j in range(N)]))\n",
    "\n",
    "    dydt_log = dydt / y\n",
    "\n",
    "    return dydt_log\n",
    "\n",
    "# Define name bacteria\n",
    "names = ['N1', 'N2', 'N3']\n",
    "N = len(names)\n",
    "\n",
    "# Define model parameters\n",
    "death_rates = None\n",
    "eq_params = (growth_rates, carrying_capacities, interactions, death_rates)\n",
    "\n",
    "# Define initial bacterial populations\n",
    "y0 = [10, 7, 4] #[0.26, 0.37, 0.57] #\n",
    "\n",
    "# Define time points\n",
    "Tmax = 30\n",
    "t = ts * Tmax\n",
    "\n",
    "############################\n",
    "\n",
    "y0_log = np.log(y0)\n",
    "y_log = odeint(lotka_volterra_log, y0_log, t, args=(eq_params,))\n",
    "y = np.exp(y_log)"
   ]
  },
  {
   "cell_type": "code",
   "execution_count": 26,
   "id": "69d5f147",
   "metadata": {},
   "outputs": [],
   "source": [
    "# comparative plots\n",
    "df_scipy = pd.DataFrame(\n",
    "    {\n",
    "        \"t\": ts * Tmax, # rescale time for plotting\n",
    "        \"Method\": \"Scipy solver\"\n",
    "    } |\n",
    "    {\n",
    "        f\"N{i+1}\": y[:,i] for i in range(3)\n",
    "    },\n",
    ")\n",
    "\n"
   ]
  },
  {
   "cell_type": "code",
   "execution_count": null,
   "id": "692d66b9",
   "metadata": {},
   "outputs": [],
   "source": [
    "import seaborn as sns\n",
    "df_plot = pd.concat((df, df_scipy)).melt(id_vars=['Method', \"t\"], var_name=\"Population\", value_name=\"Solution\")\n",
    "sns.relplot(df_plot, kind='line', x='t', y='Solution', hue='Population',  style='Method', height=4, aspect=2)"
   ]
  },
  {
   "cell_type": "code",
   "execution_count": null,
   "id": "e962c046",
   "metadata": {},
   "outputs": [],
   "source": []
  }
 ],
 "metadata": {
  "kernelspec": {
   "display_name": "Python 3 (ipykernel)",
   "language": "python",
   "name": "python3"
  },
  "language_info": {
   "codemirror_mode": {
    "name": "ipython",
    "version": 3
   },
   "file_extension": ".py",
   "mimetype": "text/x-python",
   "name": "python",
   "nbconvert_exporter": "python",
   "pygments_lexer": "ipython3",
   "version": "3.11.7"
  },
  "vscode": {
   "interpreter": {
    "hash": "991718e94fb5d91fa62c7598521d2199c208ff1ff700f1ac060f334be0bee194"
   }
  }
 },
 "nbformat": 4,
 "nbformat_minor": 5
}
