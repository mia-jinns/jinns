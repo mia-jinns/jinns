{
 "cells": [
  {
   "cell_type": "markdown",
   "id": "40925fec",
   "metadata": {},
   "source": [
    "# Comparison of two DataGenerator approaches for GLV"
   ]
  },
  {
   "cell_type": "markdown",
   "id": "fb9462e7-d99a-4131-a381-a709935b471f",
   "metadata": {},
   "source": [
    "**If we get the exact same runs if we apply the patch proposed in https://gitlab.com/mia_jinns/jinns/-/issues/6 to `DataGeneratorODE`.**\n",
    "\n",
    "**DataGenerators with eqx.Modules are a few seconds faster on this problem**"
   ]
  },
  {
   "cell_type": "code",
   "execution_count": 1,
   "id": "8bf8bebc-b311-4eb4-ad63-11447f62b280",
   "metadata": {},
   "outputs": [],
   "source": [
    "%load_ext autoreload\n",
    "%autoreload 2\n",
    "%matplotlib inline"
   ]
  },
  {
   "cell_type": "markdown",
   "id": "ddee93b7",
   "metadata": {},
   "source": [
    "Float64 and GPU settings"
   ]
  },
  {
   "cell_type": "code",
   "execution_count": 2,
   "id": "5cdc87e2",
   "metadata": {},
   "outputs": [],
   "source": [
    "#import os; os.environ[\"JAX_ENABLE_X64\"] = \"TRUE\" # comment/uncomment to  disable/enable float64 for JAX\n",
    "#import os; os.environ[\"CUDA_VISIBLE_DEVICES\"]=\"\" # If uncommented then GPU is disable"
   ]
  },
  {
   "cell_type": "markdown",
   "id": "e42b1b48",
   "metadata": {},
   "source": [
    "Import our package"
   ]
  },
  {
   "cell_type": "code",
   "execution_count": 3,
   "id": "fbdd16f7",
   "metadata": {
    "scrolled": true
   },
   "outputs": [
    {
     "name": "stderr",
     "output_type": "stream",
     "text": [
      "2024-07-17 16:15:14.707243: W external/xla/xla/service/gpu/nvptx_compiler.cc:765] The NVIDIA driver's CUDA version is 12.2 which is older than the ptxas CUDA version (12.3.107). Because the driver is older than the ptxas version, XLA is disabling parallel compilation, which may slow down compilation. You should update your NVIDIA driver or use the NVIDIA-provided CUDA forward compatibility packages.\n"
     ]
    }
   ],
   "source": [
    "import jinns"
   ]
  },
  {
   "cell_type": "markdown",
   "id": "09955058",
   "metadata": {},
   "source": [
    "Import other dependencies"
   ]
  },
  {
   "cell_type": "code",
   "execution_count": 4,
   "id": "3abe5254-7556-424e-a57e-d364d67244a1",
   "metadata": {},
   "outputs": [],
   "source": [
    "import jax\n",
    "from jax import random, vmap\n",
    "import jax.numpy as jnp\n",
    "import equinox as eqx\n",
    "\n",
    "import matplotlib.pyplot as plt\n",
    "\n",
    "key = random.PRNGKey(2)\n",
    "key, subkey = random.split(key)"
   ]
  },
  {
   "cell_type": "markdown",
   "id": "2bfbd766",
   "metadata": {},
   "source": [
    "Create the neural network architecture for the PINN with `equinox`. Note that we will use the same architecture for the 3 populations."
   ]
  },
  {
   "cell_type": "code",
   "execution_count": 5,
   "id": "9396d007-04f1-4893-a3c8-c58c36845ee0",
   "metadata": {},
   "outputs": [],
   "source": [
    "eqx_list = [\n",
    "    [eqx.nn.Linear, 1, 20],\n",
    "    [jax.nn.tanh],\n",
    "    [eqx.nn.Linear, 20, 20],\n",
    "    [jax.nn.tanh],\n",
    "    [eqx.nn.Linear, 20, 20],\n",
    "    [jax.nn.tanh],\n",
    "    [eqx.nn.Linear, 20, 1],\n",
    "    [jnp.exp]\n",
    "]\n",
    "key, subkey = random.split(key)\n",
    "u = jinns.utils.create_PINN(subkey, eqx_list, \"ODE\")"
   ]
  },
  {
   "cell_type": "code",
   "execution_count": 6,
   "id": "1e47cbca-3af2-4ab2-a379-4b763c383843",
   "metadata": {},
   "outputs": [],
   "source": [
    "init_nn_params = u.init_params()"
   ]
  },
  {
   "cell_type": "markdown",
   "id": "0a5d567b",
   "metadata": {},
   "source": [
    "Create a DataGenerator object"
   ]
  },
  {
   "cell_type": "code",
   "execution_count": 7,
   "id": "15088440",
   "metadata": {},
   "outputs": [],
   "source": [
    "n = 320\n",
    "batch_size = 32\n",
    "method = 'uniform'\n",
    "tmin = 0\n",
    "tmax = 1\n",
    "\n",
    "Tmax = 30\n",
    "key, subkey = random.split(key)\n",
    "train_data = jinns.data.DataGeneratorODE(\n",
    "    subkey,\n",
    "    n,\n",
    "    tmin,\n",
    "    tmax,\n",
    "    batch_size,                    \n",
    "    method=method\n",
    ")"
   ]
  },
  {
   "cell_type": "markdown",
   "id": "4f1ac783",
   "metadata": {},
   "source": [
    "Initialize 3 set of neural network parameters for the 3 populations"
   ]
  },
  {
   "cell_type": "code",
   "execution_count": 8,
   "id": "4fec8c54",
   "metadata": {},
   "outputs": [],
   "source": [
    "init_nn_params_list = []\n",
    "for _ in range(3):\n",
    "    key, subkey = random.split(key)\n",
    "    u = jinns.utils.create_PINN(subkey, eqx_list, \"ODE\", 0)\n",
    "    init_nn_params = u.init_params()\n",
    "    init_nn_params_list.append(init_nn_params)"
   ]
  },
  {
   "cell_type": "markdown",
   "id": "e595cbcd",
   "metadata": {},
   "source": [
    "Visualize the output of the neural networks before the parameter learning step"
   ]
  },
  {
   "cell_type": "code",
   "execution_count": 9,
   "id": "d18c73d2-ff23-4019-a7a1-40cc023dbf53",
   "metadata": {},
   "outputs": [
    {
     "data": {
      "text/plain": [
       "<matplotlib.legend.Legend at 0x7f519dd0e250>"
      ]
     },
     "execution_count": 9,
     "metadata": {},
     "output_type": "execute_result"
    },
    {
     "data": {
      "image/png": "[encoded data removed]",
      "text/plain": [
       "<Figure size 640x480 with 1 Axes>"
      ]
     },
     "metadata": {},
     "output_type": "display_data"
    }
   ],
   "source": [
    "vectorized_u_init = vmap(lambda t: u(t, init_nn_params_list[0]), (0), 0)\n",
    "vectorized_v_init = vmap(lambda t: u(t, init_nn_params_list[1]), (0), 0)\n",
    "vectorized_w_init = vmap(lambda t: u(t, init_nn_params_list[2]), (0), 0)\n",
    "\n",
    "\n",
    "plt.plot(train_data.times.sort(axis=0) * Tmax, vectorized_u_init(train_data.times.sort(axis=0)), label=\"N1\")\n",
    "plt.plot(train_data.times.sort(axis=0) * Tmax, vectorized_v_init(train_data.times.sort(axis=0)), label=\"N2\")\n",
    "plt.plot(train_data.times.sort(axis=0) * Tmax, vectorized_w_init(train_data.times.sort(axis=0)), label=\"N3\")\n",
    "\n",
    "plt.legend()"
   ]
  },
  {
   "cell_type": "markdown",
   "id": "f0701671",
   "metadata": {},
   "source": [
    "## Model parameters"
   ]
  },
  {
   "cell_type": "code",
   "execution_count": 10,
   "id": "8c609f60",
   "metadata": {},
   "outputs": [],
   "source": [
    "# initial conditions for each species\n",
    "N_0 = jnp.array([10., 7., 4.])\n",
    "# growth rates for each species\n",
    "growth_rates = jnp.array([0.1, 0.5, 0.8])\n",
    "# carrying capacity for each species\n",
    "carrying_capacities = jnp.array([0.04, 0.02, 0.02])\n",
    "# interactions\n",
    "# NOTE that for the interaction between the species **with itself** is always at position 0\n",
    "# NOTE minus sign \n",
    "interactions = -jnp.array([[0, 0.001, 0.001], [0, 0.001, 0.001], [0, 0.001, 0.001]])"
   ]
  },
  {
   "cell_type": "markdown",
   "id": "bbe7f24b",
   "metadata": {},
   "source": [
    "## Loss construction"
   ]
  },
  {
   "cell_type": "markdown",
   "id": "33e3c866",
   "metadata": {},
   "source": [
    "A set of parameters as required by the losses' `evaluate` functions is a dictionary with the neural network parameters `nn_params` and the equation parameters `eq_params`. Here we construct this dictionary.\n",
    "\n",
    "__Note__ that `nn_params` and `eq_params` must always be top level keys but can be nested dictionaries.\n",
    "\n",
    "__Note__ that the keys of the sub dictionaries `nn_params` and `eq_params` (here `str(i)`) can differ !"
   ]
  },
  {
   "cell_type": "code",
   "execution_count": 11,
   "id": "11d93e85",
   "metadata": {},
   "outputs": [],
   "source": [
    "# initiate parameters dictionary\n",
    "init_params = {}\n",
    "\n",
    "init_params[\"nn_params\"] = {\n",
    "    str(i): init_nn_params_list[i]\n",
    "    for i in range(3)\n",
    "}\n",
    "\n",
    "init_params[\"eq_params\"] = {\n",
    "    str(i):{\n",
    "        \"carrying_capacity\": carrying_capacities[i],\n",
    "        \"growth_rate\": growth_rates[i],\n",
    "        \"interactions\": interactions[i, :]\n",
    "    }\n",
    "    for i in range(3)\n",
    "}"
   ]
  },
  {
   "cell_type": "markdown",
   "id": "aa14a602-1b0e-4582-876e-99d0322c57a0",
   "metadata": {},
   "source": [
    "We construct a SystemLossODE with GeneralizedLotkaVolterra losses for each population. Here `key_main` refer to the key in `params[\"nn_params\"]` which are the parameters for the main PINN of the equation (the PINN which represents the solution differentiated with respect to the `t`). `key_others` refer to the keys in `params[\"nn_params\"]` which are the parameters for the PINNs which interact with `key_main`."
   ]
  },
  {
   "cell_type": "code",
   "execution_count": 12,
   "id": "b6a65062",
   "metadata": {},
   "outputs": [],
   "source": [
    "N1_dynamic_loss = jinns.loss.GeneralizedLotkaVolterra(key_main=\"0\", keys_other=[\"1\", \"2\"], Tmax=Tmax)\n",
    "N2_dynamic_loss = jinns.loss.GeneralizedLotkaVolterra(key_main=\"1\", keys_other=[\"0\", \"2\"], Tmax=Tmax)\n",
    "N3_dynamic_loss = jinns.loss.GeneralizedLotkaVolterra(key_main=\"2\", keys_other=[\"0\", \"1\"], Tmax=Tmax)"
   ]
  },
  {
   "cell_type": "code",
   "execution_count": 13,
   "id": "22b2647f",
   "metadata": {},
   "outputs": [],
   "source": [
    "loss_weights = {\"dyn_loss\":1, \"initial_condition\":1 * Tmax}\n",
    "\n",
    "loss = jinns.loss.SystemLossODE(\n",
    "    u_dict={\"0\":u, \"1\":u, \"2\":u},\n",
    "    loss_weights=loss_weights,\n",
    "    dynamic_loss_dict={\"0\": N1_dynamic_loss, \"1\":N2_dynamic_loss, \"2\":N3_dynamic_loss},\n",
    "    initial_condition_dict={\"0\":(float(tmin), N_0[0]), \"1\":(float(tmin), N_0[1]), \"2\":(float(tmin), N_0[2])}\n",
    ")"
   ]
  },
  {
   "cell_type": "markdown",
   "id": "64835b79-0bce-4f06-bd57-5ee051796663",
   "metadata": {},
   "source": [
    "## Learning the neural network parameters\n",
    "The learning process here consider known equation parameters `eq_params`. We thus only update `nn_params`"
   ]
  },
  {
   "cell_type": "code",
   "execution_count": 14,
   "id": "8d0106ad-d1e4-4fa8-958d-c8ebd4572d76",
   "metadata": {},
   "outputs": [],
   "source": [
    "# Optimizer\n",
    "import optax\n",
    "tx = optax.adam(learning_rate=1e-3)"
   ]
  },
  {
   "cell_type": "code",
   "execution_count": 15,
   "id": "055a7e63-4d0e-4246-b792-2007a0deeaab",
   "metadata": {},
   "outputs": [],
   "source": [
    "n_iter = int(50000)"
   ]
  },
  {
   "cell_type": "code",
   "execution_count": 16,
   "id": "9284d4ed",
   "metadata": {},
   "outputs": [],
   "source": [
    "key, subkey = random.split(key)"
   ]
  },
  {
   "cell_type": "code",
   "execution_count": 17,
   "id": "61650b0f-daee-4e09-bca5-63351c8c24f4",
   "metadata": {},
   "outputs": [
    {
     "name": "stdout",
     "output_type": "stream",
     "text": [
      "[train] Iteration 0: loss value = 4579.08984375\n",
      "Stopping main optimization loop, cause: max iteration is reached\n",
      "Final iteration 1: train loss value = 4579.08984375\n",
      "Compilation time 7.237185478210449\n"
     ]
    }
   ],
   "source": [
    "import time\n",
    "start = time.time()\n",
    "params, total_loss_list, loss_by_term_dict, _, _, _, _, _, _ = jinns.solve(\n",
    "    init_params=init_params,\n",
    "    data=train_data,\n",
    "    optimizer=tx,\n",
    "    loss=loss,\n",
    "    n_iter=1\n",
    ")\n",
    "total_loss_list.block_until_ready()\n",
    "end = time.time()\n",
    "print(f\"Compilation time {end - start}\")"
   ]
  },
  {
   "cell_type": "code",
   "execution_count": 18,
   "id": "df0ab21d-bfc1-4e81-8708-df8b30d0173b",
   "metadata": {},
   "outputs": [
    {
     "name": "stdout",
     "output_type": "stream",
     "text": [
      "[train] Iteration 0: loss value = 4579.08984375\n",
      "[train] Iteration 1000: loss value = 295.6667785644531\n",
      "[train] Iteration 2000: loss value = 232.7816162109375\n",
      "[train] Iteration 3000: loss value = 152.0293426513672\n",
      "[train] Iteration 4000: loss value = 96.32225036621094\n",
      "[train] Iteration 5000: loss value = 58.466495513916016\n",
      "[train] Iteration 6000: loss value = 36.29763412475586\n",
      "[train] Iteration 7000: loss value = 22.701461791992188\n",
      "[train] Iteration 8000: loss value = 15.595298767089844\n",
      "[train] Iteration 9000: loss value = 12.356225967407227\n",
      "[train] Iteration 10000: loss value = 7.375095367431641\n",
      "[train] Iteration 11000: loss value = 4.537707805633545\n",
      "[train] Iteration 12000: loss value = 4.9289679527282715\n",
      "[train] Iteration 13000: loss value = 2.224560260772705\n",
      "[train] Iteration 14000: loss value = 1.8386313915252686\n",
      "[train] Iteration 15000: loss value = 1.441605806350708\n",
      "[train] Iteration 16000: loss value = 0.941375732421875\n",
      "[train] Iteration 17000: loss value = 0.908798336982727\n",
      "[train] Iteration 18000: loss value = 0.4046916663646698\n",
      "[train] Iteration 19000: loss value = 0.3628445565700531\n",
      "[train] Iteration 20000: loss value = 0.28135961294174194\n",
      "[train] Iteration 21000: loss value = 0.261263370513916\n",
      "[train] Iteration 22000: loss value = 0.278436541557312\n",
      "[train] Iteration 23000: loss value = 0.10469629615545273\n",
      "[train] Iteration 24000: loss value = 0.1515253782272339\n",
      "[train] Iteration 25000: loss value = 0.11785957962274551\n",
      "[train] Iteration 26000: loss value = 0.13787232339382172\n",
      "[train] Iteration 27000: loss value = 0.10639724135398865\n",
      "[train] Iteration 28000: loss value = 0.06983395665884018\n",
      "[train] Iteration 29000: loss value = 0.06931289285421371\n",
      "[train] Iteration 30000: loss value = 0.09003351628780365\n",
      "[train] Iteration 31000: loss value = 0.1492151916027069\n",
      "[train] Iteration 32000: loss value = 0.06131144240498543\n",
      "[train] Iteration 33000: loss value = 0.02934998646378517\n",
      "[train] Iteration 34000: loss value = 0.09558585286140442\n",
      "[train] Iteration 35000: loss value = 0.04278431087732315\n",
      "[train] Iteration 36000: loss value = 0.05996440723538399\n",
      "[train] Iteration 37000: loss value = 0.014968845061957836\n",
      "[train] Iteration 38000: loss value = 0.031436361372470856\n",
      "[train] Iteration 39000: loss value = 0.009337032213807106\n",
      "[train] Iteration 40000: loss value = 0.07016056776046753\n",
      "[train] Iteration 41000: loss value = 0.073099285364151\n",
      "[train] Iteration 42000: loss value = 0.06420742720365524\n",
      "[train] Iteration 43000: loss value = 0.016699988394975662\n",
      "[train] Iteration 44000: loss value = 0.06615309417247772\n",
      "[train] Iteration 45000: loss value = 0.07567750662565231\n",
      "[train] Iteration 46000: loss value = 0.04120025411248207\n",
      "[train] Iteration 47000: loss value = 0.03540770336985588\n",
      "[train] Iteration 48000: loss value = 0.0730905756354332\n",
      "[train] Iteration 49000: loss value = 0.09522686898708344\n",
      "Stopping main optimization loop, cause: max iteration is reached\n",
      "Final iteration 50000: train loss value = 0.383370041847229\n",
      "Computation time 37.55537128448486\n"
     ]
    }
   ],
   "source": [
    "start = time.time()\n",
    "params, total_loss_list, loss_by_term_dict, _, _, _, _, _, _ = jinns.solve(\n",
    "    init_params=init_params,\n",
    "    data=train_data,\n",
    "    optimizer=tx,\n",
    "    loss=loss,\n",
    "    n_iter=n_iter\n",
    ")\n",
    "total_loss_list.block_until_ready()\n",
    "end = time.time()\n",
    "print(f\"Computation time {end - start}\")"
   ]
  },
  {
   "cell_type": "code",
   "execution_count": 19,
   "id": "b65dfc33",
   "metadata": {},
   "outputs": [
    {
     "data": {
      "text/plain": [
       "Array(0.38337004, dtype=float32)"
      ]
     },
     "execution_count": 19,
     "metadata": {},
     "output_type": "execute_result"
    }
   ],
   "source": [
    "total_loss_list[-1]"
   ]
  },
  {
   "cell_type": "markdown",
   "id": "1d0a1757",
   "metadata": {},
   "source": [
    "## Results"
   ]
  },
  {
   "cell_type": "markdown",
   "id": "64c794ff",
   "metadata": {},
   "source": [
    "Plot the loss values"
   ]
  },
  {
   "cell_type": "code",
   "execution_count": 20,
   "id": "2cd778b4-d9d9-4f69-ad02-2a3f7eacf59d",
   "metadata": {
    "scrolled": true
   },
   "outputs": [
    {
     "data": {
      "image/png": "[encoded data removed]",
      "text/plain": [
       "<Figure size 640x480 with 1 Axes>"
      ]
     },
     "metadata": {},
     "output_type": "display_data"
    }
   ],
   "source": [
    "for loss_name, loss_values in loss_by_term_dict.items():\n",
    "    plt.plot(jnp.log10(loss_values), label=loss_name)\n",
    "plt.plot(jnp.log10(total_loss_list), label=\"total loss\")\n",
    "plt.legend()\n",
    "plt.show();"
   ]
  },
  {
   "cell_type": "markdown",
   "id": "a6247171",
   "metadata": {},
   "source": [
    "Plot the ODE solutions learned by the PINN"
   ]
  },
  {
   "cell_type": "code",
   "execution_count": 21,
   "id": "6d473743-c9a8-4406-b18c-256496cfde59",
   "metadata": {},
   "outputs": [
    {
     "data": {
      "text/plain": [
       "<matplotlib.legend.Legend at 0x7f50e8531010>"
      ]
     },
     "execution_count": 21,
     "metadata": {},
     "output_type": "execute_result"
    },
    {
     "data": {
      "image/png": "[encoded data removed]",
      "text/plain": [
       "<Figure size 640x480 with 1 Axes>"
      ]
     },
     "metadata": {},
     "output_type": "display_data"
    }
   ],
   "source": [
    "u_est_fp = vmap(lambda t:u(t, params[\"nn_params\"][\"0\"]), (0), 0)\n",
    "v_est_fp = vmap(lambda t:u(t, params[\"nn_params\"][\"1\"]), (0), 0)\n",
    "w_est_fp = vmap(lambda t:u(t, params[\"nn_params\"][\"2\"]), (0), 0)\n",
    "\n",
    "\n",
    "key, subkey = random.split(key, 2)\n",
    "val_data = jinns.data.DataGeneratorODE(subkey, n, tmin, tmax, batch_size, method)\n",
    "\n",
    "plt.plot(val_data.times.sort(axis=0) * Tmax, u_est_fp(val_data.times.sort(axis=0)), label=\"N1\")\n",
    "plt.plot(val_data.times.sort(axis=0) * Tmax, v_est_fp(val_data.times.sort(axis=0)), label=\"N2\")\n",
    "plt.plot(val_data.times.sort(axis=0) * Tmax, w_est_fp(val_data.times.sort(axis=0)), label=\"N3\")\n",
    "\n",
    "plt.legend()"
   ]
  },
  {
   "cell_type": "markdown",
   "id": "016f0249-ec6a-4bd8-baf5-9191ec622aaf",
   "metadata": {},
   "source": [
    "## Test with the new DataGenerators which are equinox Modules"
   ]
  },
  {
   "cell_type": "code",
   "execution_count": 22,
   "id": "b486f340-50a6-40b3-9da1-e59bce03206c",
   "metadata": {},
   "outputs": [],
   "source": [
    "key = random.PRNGKey(2)\n",
    "key, subkey = random.split(key)"
   ]
  },
  {
   "cell_type": "code",
   "execution_count": 23,
   "id": "484380a5",
   "metadata": {},
   "outputs": [
    {
     "name": "stdout",
     "output_type": "stream",
     "text": [
      "True\n"
     ]
    }
   ],
   "source": [
    "n = 320\n",
    "batch_size = 32\n",
    "method = 'uniform'\n",
    "tmin = 0\n",
    "tmax = 1\n",
    "\n",
    "Tmax = 30\n",
    "key, subkey = random.split(key)\n",
    "train_data_eqx = jinns.data.DataGeneratorODE_eqx(\n",
    "    subkey,\n",
    "    n,\n",
    "    tmin,\n",
    "    tmax,\n",
    "    batch_size,                    \n",
    "    method=method\n",
    ")\n",
    "print(jnp.allclose(jnp.sort(train_data_eqx.times), jnp.sort(train_data_eqx.times)))"
   ]
  },
  {
   "cell_type": "markdown",
   "id": "2a0be570-50a6-4d80-b722-0f78fb7e5fdc",
   "metadata": {},
   "source": [
    "We do not redefine `init_nn_params_list` for the run to be comparable"
   ]
  },
  {
   "cell_type": "code",
   "execution_count": 24,
   "id": "4f08c352-1fad-48bb-8ca1-710c0e6e4484",
   "metadata": {},
   "outputs": [],
   "source": [
    "N1_dynamic_loss_eqx = jinns.loss.GeneralizedLotkaVolterra_eqx(key_main=\"0\", keys_other=[\"1\", \"2\"], Tmax=Tmax)\n",
    "N2_dynamic_loss_eqx = jinns.loss.GeneralizedLotkaVolterra_eqx(key_main=\"1\", keys_other=[\"0\", \"2\"], Tmax=Tmax)\n",
    "N3_dynamic_loss_eqx = jinns.loss.GeneralizedLotkaVolterra_eqx(key_main=\"2\", keys_other=[\"0\", \"1\"], Tmax=Tmax)"
   ]
  },
  {
   "cell_type": "code",
   "execution_count": 25,
   "id": "a93686cd-cf95-4201-a73f-6c13b30d7f6f",
   "metadata": {},
   "outputs": [],
   "source": [
    "loss_weights = {\"dyn_loss\":1, \"initial_condition\":1 * Tmax}\n",
    "\n",
    "loss_eqx = jinns.loss.SystemLossODE_eqx(\n",
    "    u_dict={\"0\":u, \"1\":u, \"2\":u},\n",
    "    loss_weights=loss_weights,\n",
    "    dynamic_loss_dict={\"0\": N1_dynamic_loss_eqx, \"1\":N2_dynamic_loss_eqx, \"2\":N3_dynamic_loss_eqx},\n",
    "    initial_condition_dict={\"0\":(float(tmin), N_0[0]), \"1\":(float(tmin), N_0[1]), \"2\":(float(tmin), N_0[2])}\n",
    ")"
   ]
  },
  {
   "cell_type": "code",
   "execution_count": 26,
   "id": "71229fb4-6745-4ce8-b9db-e6b80f227eba",
   "metadata": {},
   "outputs": [],
   "source": [
    "# Optimizer\n",
    "import optax\n",
    "tx = optax.adam(learning_rate=1e-3)"
   ]
  },
  {
   "cell_type": "code",
   "execution_count": 27,
   "id": "da99e9a5-00b9-4862-9b27-a2f338cbb6dd",
   "metadata": {},
   "outputs": [
    {
     "name": "stdout",
     "output_type": "stream",
     "text": [
      "[train] Iteration 0: loss value = 4579.2880859375\n",
      "Stopping main optimization loop, cause: max iteration is reached\n",
      "Final iteration 1: train loss value = 4579.2880859375\n",
      "Compilation time 6.347959280014038\n"
     ]
    }
   ],
   "source": [
    "import time\n",
    "start = time.time()\n",
    "params, total_loss_list, loss_by_term_dict, _, _, _, _, _, _ = jinns.solve(\n",
    "    init_params=init_params,\n",
    "    data=train_data_eqx,\n",
    "    optimizer=tx,\n",
    "    loss=loss_eqx,\n",
    "    n_iter=1\n",
    ")\n",
    "total_loss_list.block_until_ready()\n",
    "end = time.time()\n",
    "print(f\"Compilation time {end - start}\")"
   ]
  },
  {
   "cell_type": "code",
   "execution_count": 28,
   "id": "1e24588b-9446-425d-ada2-02cd8e7ad189",
   "metadata": {},
   "outputs": [
    {
     "name": "stdout",
     "output_type": "stream",
     "text": [
      "[train] Iteration 0: loss value = 4579.2880859375\n",
      "[train] Iteration 1000: loss value = 328.6263732910156\n",
      "[train] Iteration 2000: loss value = 239.67132568359375\n",
      "[train] Iteration 3000: loss value = 145.822998046875\n",
      "[train] Iteration 4000: loss value = 93.41334533691406\n",
      "[train] Iteration 5000: loss value = 56.6076545715332\n",
      "[train] Iteration 6000: loss value = 46.428531646728516\n",
      "[train] Iteration 7000: loss value = 24.825855255126953\n",
      "[train] Iteration 8000: loss value = 17.84508514404297\n",
      "[train] Iteration 9000: loss value = 12.135904312133789\n",
      "[train] Iteration 10000: loss value = 8.890162467956543\n",
      "[train] Iteration 11000: loss value = 5.466948509216309\n",
      "[train] Iteration 12000: loss value = 4.569061279296875\n",
      "[train] Iteration 13000: loss value = 2.8928468227386475\n",
      "[train] Iteration 14000: loss value = 2.1117007732391357\n",
      "[train] Iteration 15000: loss value = 1.6351068019866943\n",
      "[train] Iteration 16000: loss value = 1.2527490854263306\n",
      "[train] Iteration 17000: loss value = 1.4090291261672974\n",
      "[train] Iteration 18000: loss value = 0.6035077571868896\n",
      "[train] Iteration 19000: loss value = 0.5902986526489258\n",
      "[train] Iteration 20000: loss value = 0.6862718462944031\n",
      "[train] Iteration 21000: loss value = 0.3421940207481384\n",
      "[train] Iteration 22000: loss value = 0.4533582329750061\n",
      "[train] Iteration 23000: loss value = 0.49480539560317993\n",
      "[train] Iteration 24000: loss value = 0.20834560692310333\n",
      "[train] Iteration 25000: loss value = 0.228973850607872\n",
      "[train] Iteration 26000: loss value = 0.38752877712249756\n",
      "[train] Iteration 27000: loss value = 0.07459153980016708\n",
      "[train] Iteration 28000: loss value = 0.10522980242967606\n",
      "[train] Iteration 29000: loss value = 0.07772226631641388\n",
      "[train] Iteration 30000: loss value = 0.06017786264419556\n",
      "[train] Iteration 31000: loss value = 0.15707892179489136\n",
      "[train] Iteration 32000: loss value = 0.3078603148460388\n",
      "[train] Iteration 33000: loss value = 0.11068594455718994\n",
      "[train] Iteration 34000: loss value = 0.09981153905391693\n",
      "[train] Iteration 35000: loss value = 0.0189728494733572\n",
      "[train] Iteration 36000: loss value = 0.1259162575006485\n",
      "[train] Iteration 37000: loss value = 0.011686412617564201\n",
      "[train] Iteration 38000: loss value = 0.039367251098155975\n",
      "[train] Iteration 39000: loss value = 0.3830607831478119\n",
      "[train] Iteration 40000: loss value = 0.08330310881137848\n",
      "[train] Iteration 41000: loss value = 0.05224325507879257\n",
      "[train] Iteration 42000: loss value = 0.01669164001941681\n",
      "[train] Iteration 43000: loss value = 0.054824598133563995\n",
      "[train] Iteration 44000: loss value = 0.10231668502092361\n",
      "[train] Iteration 45000: loss value = 0.03442646563053131\n",
      "[train] Iteration 46000: loss value = 0.08655872941017151\n",
      "[train] Iteration 47000: loss value = 0.016673220321536064\n",
      "[train] Iteration 48000: loss value = 0.027707912027835846\n",
      "[train] Iteration 49000: loss value = 0.39456677436828613\n",
      "Stopping main optimization loop, cause: max iteration is reached\n",
      "Final iteration 50000: train loss value = 0.05169302225112915\n",
      "Computation time 41.815317153930664\n"
     ]
    }
   ],
   "source": [
    "start = time.time()\n",
    "params, total_loss_list, loss_by_term_dict, _, _, _, _, _, _ = jinns.solve(\n",
    "    init_params=init_params,\n",
    "    data=train_data_eqx,\n",
    "    optimizer=tx,\n",
    "    loss=loss_eqx,\n",
    "    n_iter=n_iter\n",
    ")\n",
    "total_loss_list.block_until_ready()\n",
    "end = time.time()\n",
    "print(f\"Computation time {end - start}\")"
   ]
  },
  {
   "cell_type": "code",
   "execution_count": 29,
   "id": "fea5b599-5169-4e39-9f7d-5e166a8116b5",
   "metadata": {},
   "outputs": [
    {
     "data": {
      "image/png": "[encoded data removed]",
      "text/plain": [
       "<Figure size 640x480 with 1 Axes>"
      ]
     },
     "metadata": {},
     "output_type": "display_data"
    }
   ],
   "source": [
    "for loss_name, loss_values in loss_by_term_dict.items():\n",
    "    plt.plot(jnp.log10(loss_values), label=loss_name)\n",
    "plt.plot(jnp.log10(total_loss_list), label=\"total loss\")\n",
    "plt.legend()\n",
    "plt.show();"
   ]
  },
  {
   "cell_type": "code",
   "execution_count": 30,
   "id": "290402c7-cb6c-4cc8-887c-b6321d781042",
   "metadata": {},
   "outputs": [
    {
     "data": {
      "text/plain": [
       "<matplotlib.legend.Legend at 0x7f50e814b5d0>"
      ]
     },
     "execution_count": 30,
     "metadata": {},
     "output_type": "execute_result"
    },
    {
     "data": {
      "image/png": "[encoded data removed]",
      "text/plain": [
       "<Figure size 640x480 with 1 Axes>"
      ]
     },
     "metadata": {},
     "output_type": "display_data"
    }
   ],
   "source": [
    "u_est_fp = vmap(lambda t:u(t, params[\"nn_params\"][\"0\"]), (0), 0)\n",
    "v_est_fp = vmap(lambda t:u(t, params[\"nn_params\"][\"1\"]), (0), 0)\n",
    "w_est_fp = vmap(lambda t:u(t, params[\"nn_params\"][\"2\"]), (0), 0)\n",
    "\n",
    "\n",
    "key, subkey = random.split(key, 2)\n",
    "val_data = jinns.data.DataGeneratorODE_eqx(subkey, n, tmin, tmax, batch_size, method)\n",
    "\n",
    "plt.plot(val_data.times.sort(axis=0) * Tmax, u_est_fp(val_data.times.sort(axis=0)), label=\"N1\")\n",
    "plt.plot(val_data.times.sort(axis=0) * Tmax, v_est_fp(val_data.times.sort(axis=0)), label=\"N2\")\n",
    "plt.plot(val_data.times.sort(axis=0) * Tmax, w_est_fp(val_data.times.sort(axis=0)), label=\"N3\")\n",
    "\n",
    "plt.legend()"
   ]
  },
  {
   "cell_type": "markdown",
   "id": "bc48b475-e392-49de-b540-7741a5c8ede4",
   "metadata": {},
   "source": [
    "## Test DG"
   ]
  },
  {
   "cell_type": "code",
   "execution_count": 31,
   "id": "50911e80-e45f-4d9a-93af-3b0f535a34e0",
   "metadata": {},
   "outputs": [
    {
     "name": "stdout",
     "output_type": "stream",
     "text": [
      "0\n",
      "160\n",
      "320\n",
      "0\n",
      "160\n"
     ]
    }
   ],
   "source": [
    "key = jax.random.PRNGKey(2)\n",
    "n = 320\n",
    "batch_size = 160\n",
    "method = 'uniform'\n",
    "tmin = 0\n",
    "tmax = 1\n",
    "\n",
    "Tmax = 30\n",
    "key, subkey = random.split(key)\n",
    "train_data = jinns.data.DataGeneratorODE(\n",
    "    subkey,\n",
    "    n,\n",
    "    tmin,\n",
    "    tmax,\n",
    "    batch_size,                    \n",
    "    method=method\n",
    ")\n",
    "print(train_data.curr_time_idx)\n",
    "_ = train_data.get_batch()\n",
    "print(train_data.curr_time_idx)\n",
    "_ = train_data.get_batch()\n",
    "print(train_data.curr_time_idx)\n",
    "_ = train_data.get_batch()\n",
    "print(train_data.curr_time_idx)\n",
    "_ = train_data.get_batch()\n",
    "print(train_data.curr_time_idx)"
   ]
  },
  {
   "cell_type": "code",
   "execution_count": 32,
   "id": "c71ecf0b-f331-4483-836b-abb17c814974",
   "metadata": {},
   "outputs": [
    {
     "name": "stdout",
     "output_type": "stream",
     "text": [
      "2147483486\n",
      "0\n",
      "160\n",
      "320\n",
      "0\n"
     ]
    }
   ],
   "source": [
    "key = jax.random.PRNGKey(2)\n",
    "n = 320\n",
    "batch_size = 160\n",
    "method = 'uniform'\n",
    "tmin = 0\n",
    "tmax = 1\n",
    "\n",
    "Tmax = 30\n",
    "key, subkey = random.split(key)\n",
    "train_data = jinns.data.DataGeneratorODE_eqx(\n",
    "    subkey,\n",
    "    n,\n",
    "    tmin,\n",
    "    tmax,\n",
    "    batch_size,                    \n",
    "    method=method\n",
    ")\n",
    "print(train_data.curr_time_idx)\n",
    "train_data, _ = train_data.get_batch()\n",
    "print(train_data.curr_time_idx)\n",
    "train_data, _ = train_data.get_batch()\n",
    "print(train_data.curr_time_idx)\n",
    "train_data, _ = train_data.get_batch()\n",
    "print(train_data.curr_time_idx)\n",
    "train_data, _ = train_data.get_batch()\n",
    "print(train_data.curr_time_idx)"
   ]
  },
  {
   "cell_type": "code",
   "execution_count": 33,
   "id": "580f2a07-79f5-411a-8ee9-b2d39d1920e0",
   "metadata": {},
   "outputs": [
    {
     "data": {
      "text/plain": [
       "2147483747"
      ]
     },
     "execution_count": 33,
     "metadata": {},
     "output_type": "execute_result"
    }
   ],
   "source": [
    "jnp.iinfo(jnp.int32).max + 100"
   ]
  },
  {
   "cell_type": "code",
   "execution_count": null,
   "id": "8321f15b-bed5-45ed-a761-504ed2031224",
   "metadata": {},
   "outputs": [],
   "source": []
  }
 ],
 "metadata": {
  "kernelspec": {
   "display_name": "Python 3 (ipykernel)",
   "language": "python",
   "name": "python3"
  },
  "language_info": {
   "codemirror_mode": {
    "name": "ipython",
    "version": 3
   },
   "file_extension": ".py",
   "mimetype": "text/x-python",
   "name": "python",
   "nbconvert_exporter": "python",
   "pygments_lexer": "ipython3",
   "version": "3.11.2"
  },
  "vscode": {
   "interpreter": {
    "hash": "991718e94fb5d91fa62c7598521d2199c208ff1ff700f1ac060f334be0bee194"
   }
  }
 },
 "nbformat": 4,
 "nbformat_minor": 5
}
