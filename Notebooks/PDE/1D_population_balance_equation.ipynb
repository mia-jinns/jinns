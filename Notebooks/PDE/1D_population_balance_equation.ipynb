{
 "cells": [
  {
   "cell_type": "markdown",
   "id": "40925fec",
   "metadata": {},
   "source": [
    "# Population Balance Equation: cell division and expansion in tomato"
   ]
  },
  {
   "cell_type": "markdown",
   "id": "e98d8562-70c4-45f8-9c39-9d6275771fbe",
   "metadata": {},
   "source": [
    "PINN reimplementation of the notebook https://github.com/LeonardoMiele/FruitGrowth/blob/main/Tomate_PBE.ipynb which accompanies the article  **Cell expansion-division under resource sharing: a novel framework for modeling fruit growth dynamics**, Leonardo Miele, Lionel Roques, Dario Constantinescu, Michel Génard, Nadia Bertin (https://doi.org/10.1101/2024.05.30.596571)"
   ]
  },
  {
   "cell_type": "code",
   "execution_count": 1,
   "id": "8bf8bebc-b311-4eb4-ad63-11447f62b280",
   "metadata": {},
   "outputs": [],
   "source": [
    "%load_ext autoreload\n",
    "%autoreload 2\n",
    "%matplotlib inline\n"
   ]
  },
  {
   "cell_type": "markdown",
   "id": "d5e6f34f",
   "metadata": {},
   "source": [
    "Import our package"
   ]
  },
  {
   "cell_type": "code",
   "execution_count": 2,
   "id": "fbdd16f7",
   "metadata": {},
   "outputs": [
    {
     "name": "stderr",
     "output_type": "stream",
     "text": [
      "2024-07-09 11:57:36.218690: W external/xla/xla/service/gpu/nvptx_compiler.cc:765] The NVIDIA driver's CUDA version is 12.2 which is older than the ptxas CUDA version (12.3.107). Because the driver is older than the ptxas version, XLA is disabling parallel compilation, which may slow down compilation. You should update your NVIDIA driver or use the NVIDIA-provided CUDA forward compatibility packages.\n"
     ]
    }
   ],
   "source": [
    "import jinns\n"
   ]
  },
  {
   "cell_type": "markdown",
   "id": "26f60b11",
   "metadata": {},
   "source": [
    "Import other dependencies"
   ]
  },
  {
   "cell_type": "code",
   "execution_count": 3,
   "id": "3abe5254-7556-424e-a57e-d364d67244a1",
   "metadata": {},
   "outputs": [],
   "source": [
    "import jax\n",
    "from jax import random, vmap\n",
    "import jax.numpy as jnp\n",
    "import equinox as eqx\n",
    "from functools import partial\n",
    "\n",
    "import matplotlib.pyplot as plt\n",
    "\n",
    "key = random.PRNGKey(2)\n"
   ]
  },
  {
   "cell_type": "markdown",
   "id": "26b96440-60c7-4318-9254-f943b6e81535",
   "metadata": {},
   "source": [
    "Create the neural network architecture for the PINN"
   ]
  },
  {
   "cell_type": "code",
   "execution_count": 4,
   "id": "9396d007-04f1-4893-a3c8-c58c36845ee0",
   "metadata": {},
   "outputs": [],
   "source": [
    "eqx_list = [\n",
    "    [eqx.nn.Linear, 2, 64],\n",
    "    [jax.nn.tanh],\n",
    "    [eqx.nn.Linear, 64, 64],\n",
    "    [jax.nn.tanh],\n",
    "    [eqx.nn.Linear, 64, 64],\n",
    "    [jax.nn.tanh],\n",
    "    [eqx.nn.Linear, 64, 64],\n",
    "    [jax.nn.tanh],\n",
    "    [eqx.nn.Linear, 64, 64],\n",
    "    [jax.nn.tanh],\n",
    "    [eqx.nn.Linear, 64, 2],\n",
    "    [jnp.exp]\n",
    "]\n",
    "key, subkey = random.split(key)\n",
    "u_pinn = jinns.utils.create_PINN(subkey, eqx_list, \"nonstatio_PDE\", 1)"
   ]
  },
  {
   "cell_type": "code",
   "execution_count": 5,
   "id": "3766fd2d",
   "metadata": {},
   "outputs": [],
   "source": [
    "init_nn_params_pinn = u_pinn.init_params()"
   ]
  },
  {
   "cell_type": "markdown",
   "id": "1f2cfe2b-0659-45db-be9d-57c2513fe35c",
   "metadata": {},
   "source": [
    "Create a DataGenerator object"
   ]
  },
  {
   "cell_type": "code",
   "execution_count": 6,
   "id": "faa41061-a276-4beb-931f-fcf2573b0095",
   "metadata": {},
   "outputs": [],
   "source": [
    "n = 10000\n",
    "nb = 2\n",
    "nt = 10000\n",
    "omega_batch_size = 32\n",
    "temporal_batch_size = 32\n",
    "omega_border_batch_size = 2\n",
    "dim = 1\n",
    "xmin = 0\n",
    "xmax = 30\n",
    "tmin = 0\n",
    "tmax = 1\n",
    "method = \"uniform\"\n",
    "\n",
    "Tmax = 50\n",
    "key, subkey = random.split(key)\n",
    "train_data = jinns.data.CubicMeshPDENonStatio(\n",
    "    subkey,\n",
    "    n,\n",
    "    nb,\n",
    "    nt,\n",
    "    omega_batch_size,\n",
    "    omega_border_batch_size,\n",
    "    temporal_batch_size,\n",
    "    dim,\n",
    "    (xmin,),\n",
    "    (xmax,),\n",
    "    tmin,\n",
    "    tmax,\n",
    "    method\n",
    ")\n"
   ]
  },
  {
   "cell_type": "markdown",
   "id": "ca7fbaef",
   "metadata": {},
   "source": [
    "## Set up the initial condition"
   ]
  },
  {
   "cell_type": "code",
   "execution_count": 7,
   "id": "22ba872d-d4cb-48d6-bdf5-46fde929260d",
   "metadata": {},
   "outputs": [],
   "source": [
    "# Initial condition parameters\n",
    "x0 = 0.1\n",
    "K2 = 1e2\n",
    "kk = 223.2\n",
    "n = 12\n",
    "cell_num0 = 3300"
   ]
  },
  {
   "cell_type": "code",
   "execution_count": 8,
   "id": "9cd4db15-e476-46de-9d98-a74b25b859df",
   "metadata": {},
   "outputs": [
    {
     "name": "stdout",
     "output_type": "stream",
     "text": [
      "(10000, 2)\n"
     ]
    },
    {
     "data": {
      "image/png": "[encoded data removed]",
      "text/plain": [
       "<Figure size 640x480 with 1 Axes>"
      ]
     },
     "metadata": {},
     "output_type": "display_data"
    }
   ],
   "source": [
    "def u0(x):\n",
    "    nP = cell_num0 * jnp.sqrt(K2) * jnp.exp(-K2 * (x[0] - x0) ** 2) / jnp.sqrt(jnp.pi)\n",
    "    nQ = jnp.zeros_like(x[0])\n",
    "    return jnp.array([nP, nQ])\n",
    "\n",
    "v_u0 = jax.vmap(u0)\n",
    "print(v_u0(train_data.omega.sort(axis=0)).shape)\n",
    "\n",
    "plt.semilogx(train_data.omega.sort(axis=0), jnp.sum(v_u0(train_data.omega.sort(axis=0)), axis=1))\n",
    "plt.title(r\"Init condition $u_0$\")\n",
    "plt.show()"
   ]
  },
  {
   "cell_type": "markdown",
   "id": "f0701671",
   "metadata": {},
   "source": [
    "## Model parameters"
   ]
  },
  {
   "cell_type": "code",
   "execution_count": 9,
   "id": "60b58c46",
   "metadata": {},
   "outputs": [],
   "source": [
    "init_params_pinn = {\n",
    "    \"nn_params\":init_nn_params_pinn,\n",
    "    \"eq_params\":{\n",
    "        \"r\":jnp.array(0.3301),\n",
    "        \"rho\":jnp.array(0.6143),\n",
    "        \"K\":jnp.array(9.8137*1e6),\n",
    "        \"h\":jnp.array(0.1044),\n",
    "        \"omega\":jnp.zeros((temporal_batch_size * omega_batch_size,)) # just a place holder for the non local quantity # NOTE the size taken as the cartesian product \n",
    "    }\n",
    "}"
   ]
  },
  {
   "cell_type": "markdown",
   "id": "aa14a602-1b0e-4582-876e-99d0322c57a0",
   "metadata": {},
   "source": [
    "## Loss construction"
   ]
  },
  {
   "cell_type": "code",
   "execution_count": 10,
   "id": "b6a65062",
   "metadata": {},
   "outputs": [],
   "source": [
    "from jinns.loss._DynamicLossAbstract import PDENonStatio\n",
    "from jax import grad\n",
    "\n",
    "class PBETomato(PDENonStatio):\n",
    "\n",
    "    def __init__(self, Tmax=1):\n",
    "        super().__init__(Tmax, None)\n",
    "    def evaluate(self, t, x, u, params):\n",
    "\n",
    "        omega = 1 - params[\"eq_params\"][\"omega\"] / params[\"eq_params\"][\"K\"]\n",
    "        def phi(x):\n",
    "            return params[\"eq_params\"][\"r\"] * x[0] ** (2/3)\n",
    "        def gamma(x):\n",
    "            n = 12\n",
    "            gamma0 = 223.2\n",
    "            return gamma0 * x[0] ** n / (params[\"eq_params\"][\"h\"] ** n + x[0] ** n)\n",
    "        \n",
    "\n",
    "        nP = lambda t, x: u(t, x, params)[0]\n",
    "        nQ = lambda t, x: u(t, x, params)[1]\n",
    "        dnP_dt = grad(nP, 0)(t, x)\n",
    "        dnQ_dt = grad(nQ, 0)(t, x)\n",
    "        dPhinP_dx = grad(lambda t, x: phi(x) * nP(t, x), 1)(t, x)\n",
    "        dPhinQ_dx = grad(lambda t, x: phi(x) * nQ(t, x), 1)(t, x)\n",
    "\n",
    "        dyn_lossP = -dnP_dt + self.Tmax * (omega * (-dPhinP_dx + 4 * gamma(2 * x) * nP(t, 2 * x) - gamma(x) * nP(t, x)) - params[\"eq_params\"][\"rho\"] * nP(t, x))\n",
    "        dyn_lossQ = -dnQ_dt + self.Tmax * (omega * (-dPhinQ_dx) + params[\"eq_params\"][\"rho\"] * nP(t, x))\n",
    "        return jnp.concatenate([dyn_lossP, dyn_lossQ], axis=0)\n",
    "\n",
    "pbe_tomato = PBETomato(Tmax=Tmax)"
   ]
  },
  {
   "cell_type": "code",
   "execution_count": 11,
   "id": "06888e43-8d9e-41ee-9d9f-48feb5c6fae5",
   "metadata": {},
   "outputs": [],
   "source": [
    "from jinns.loss._LossPDE import LossPDEStatio, _LOSS_WEIGHT_KEYS_PDENONSTATIO\n",
    "from jax.tree_util import register_pytree_node_class\n",
    "from jinns.utils._utils import _get_vmap_in_axes_params, _set_derivatives, _update_eq_params_dict\n",
    "from jinns.loss._Losses import *\n",
    "import warnings\n",
    "\n",
    "@register_pytree_node_class\n",
    "class NonLocalLossPDENonStatio(LossPDEStatio):\n",
    "    \n",
    "    def __init__(\n",
    "        self,\n",
    "        u,\n",
    "        loss_weights,\n",
    "        dynamic_loss,\n",
    "        derivative_keys=None,\n",
    "        omega_boundary_fun=None,\n",
    "        omega_boundary_condition=None,\n",
    "        omega_boundary_dim=None,\n",
    "        initial_condition_fun=None,\n",
    "        norm_borders=None,\n",
    "        norm_samples=None\n",
    "    ):\n",
    "        super().__init__(\n",
    "            u,\n",
    "            loss_weights,\n",
    "            dynamic_loss,\n",
    "            derivative_keys,\n",
    "            omega_boundary_fun,\n",
    "            omega_boundary_condition,\n",
    "            omega_boundary_dim,\n",
    "            None,\n",
    "            norm_borders,\n",
    "            norm_samples,\n",
    "            sobolev_m=None,\n",
    "            obs_slice=None,\n",
    "        )\n",
    "        if initial_condition_fun is None:\n",
    "            warnings.warn(\n",
    "                \"Initial condition wasn't provided. Be sure to cover for that\"\n",
    "                \"case (e.g by. hardcoding it into the PINN output).\"\n",
    "            )\n",
    "        self.initial_condition_fun = initial_condition_fun\n",
    "\n",
    "        for k in _LOSS_WEIGHT_KEYS_PDENONSTATIO:\n",
    "            if k not in self.loss_weights.keys():\n",
    "                self.loss_weights[k] = 0\n",
    "\n",
    "    def __call__(self, *args, **kwargs):\n",
    "        return self.evaluate(*args, **kwargs)\n",
    "\n",
    "    def evaluate(\n",
    "        self,\n",
    "        params,\n",
    "        batch,\n",
    "    ):\n",
    "\n",
    "        times_batch = batch.times_x_inside_batch[:, 0:1]\n",
    "        omega_batch = batch.times_x_inside_batch[:, 1:]\n",
    "        n = omega_batch.shape[0]\n",
    "\n",
    "        vmap_in_axes_x_t = (0, 0)\n",
    "\n",
    "        # Retrieve the optional eq_params_batch\n",
    "        # and update eq_params with the latter\n",
    "        # and update vmap_in_axes\n",
    "        if batch.param_batch_dict is not None:\n",
    "            eq_params_batch_dict = batch.param_batch_dict\n",
    "\n",
    "            # feed the eq_params with the batch\n",
    "            for k in eq_params_batch_dict.keys():\n",
    "                params[\"eq_params\"][k] = eq_params_batch_dict[k]\n",
    "\n",
    "        vmap_in_axes_params = _get_vmap_in_axes_params(batch.param_batch_dict, params)\n",
    "\n",
    "        # Compute the non local term using the argument `norm_samples`\n",
    "        # We compute for all the time points in the batch\n",
    "        # The double vmap enables to have different size for t (which will be the temporal_batch_size)\n",
    "        # and for x which will be `norm_samples`\n",
    "        v_S = vmap(\n",
    "            vmap(\n",
    "                lambda t, x, params_: jnp.sum(self.u(t, x, params_)) * x[0] ** (2/3),\n",
    "                in_axes=(None, 0) + vmap_in_axes_params,\n",
    "            ),\n",
    "            in_axes=(0, None) + vmap_in_axes_params,\n",
    "        )\n",
    "        \n",
    "        params_ = _set_derivatives(params, \"norm_loss\", self.derivative_keys)\n",
    "        params[\"eq_params\"][\"omega\"] = self.int_length * jnp.mean(v_S(times_batch, self.norm_samples, params_), axis=1)\n",
    "        # When computing the dynamic loss only we have batch of omega for the dynamic loss\n",
    "        vmap_in_axes_params_dynamic = ({\"nn_params\": None, \"eq_params\": {k: (0 if k == \"omega\" else None) for k in params[\"eq_params\"].keys()}},)\n",
    "        # dynamic part\n",
    "        params_ = _set_derivatives(params, \"dyn_loss\", self.derivative_keys)\n",
    "        if self.dynamic_loss is not None:\n",
    "            mse_dyn_loss = dynamic_loss_apply(\n",
    "                self.dynamic_loss.evaluate,\n",
    "                self.u,\n",
    "                (times_batch, omega_batch),\n",
    "                params_,\n",
    "                vmap_in_axes_x_t + vmap_in_axes_params_dynamic,\n",
    "                self.loss_weights[\"dyn_loss\"],\n",
    "            )\n",
    "        else:\n",
    "            mse_dyn_loss = jnp.array(0.0)\n",
    "\n",
    "        # boundary part\n",
    "        params_ = _set_derivatives(params, \"boundary_loss\", self.derivative_keys)\n",
    "        if self.omega_boundary_fun is not None:\n",
    "            mse_boundary_loss = boundary_condition_apply(\n",
    "                self.u,\n",
    "                batch,\n",
    "                params_,\n",
    "                self.omega_boundary_fun,\n",
    "                self.omega_boundary_condition,\n",
    "                self.omega_boundary_dim,\n",
    "                self.loss_weights[\"boundary_loss\"],\n",
    "            )\n",
    "        else:\n",
    "            mse_boundary_loss = jnp.array(0.0)\n",
    "\n",
    "        # initial condition\n",
    "        params_ = _set_derivatives(params, \"initial_condition\", self.derivative_keys)\n",
    "        if self.initial_condition_fun is not None:\n",
    "            mse_initial_condition = initial_condition_apply(\n",
    "                self.u,\n",
    "                omega_batch,\n",
    "                params_,\n",
    "                (0,) + vmap_in_axes_params,\n",
    "                self.initial_condition_fun,\n",
    "                n,\n",
    "                self.loss_weights[\"initial_condition\"],\n",
    "            )\n",
    "        else:\n",
    "            mse_initial_condition = jnp.array(0.0)\n",
    "\n",
    "        # total loss\n",
    "        total_loss = (\n",
    "            mse_dyn_loss\n",
    "            + mse_boundary_loss\n",
    "            + mse_initial_condition\n",
    "        )\n",
    "\n",
    "        return total_loss, (\n",
    "            {\n",
    "                \"dyn_loss\": mse_dyn_loss,\n",
    "                \"norm_loss\": 0.,\n",
    "                \"boundary_loss\": mse_boundary_loss,\n",
    "                \"initial_condition\": mse_initial_condition,\n",
    "                \"observations\": 0.,\n",
    "                \"sobolev\": 0.,\n",
    "            }\n",
    "        )\n",
    "\n",
    "    def tree_flatten(self):\n",
    "        children = (self.norm_samples, self.loss_weights)\n",
    "        aux_data = {\n",
    "            \"u\": self.u,\n",
    "            \"dynamic_loss\": self.dynamic_loss,\n",
    "            \"derivative_keys\": self.derivative_keys,\n",
    "            \"omega_boundary_fun\": self.omega_boundary_fun,\n",
    "            \"omega_boundary_condition\": self.omega_boundary_condition,\n",
    "            \"omega_boundary_dim\": self.omega_boundary_dim,\n",
    "            \"initial_condition_fun\": self.initial_condition_fun,\n",
    "            \"norm_borders\": self.norm_borders,\n",
    "            \"sobolev_m\": self.sobolev_m,\n",
    "            \"obs_slice\": self.obs_slice,\n",
    "        }\n",
    "        return (children, aux_data)\n",
    "\n",
    "    @classmethod\n",
    "    def tree_unflatten(cls, aux_data, children):\n",
    "        ( norm_samples, loss_weights) = children\n",
    "        pls = cls(\n",
    "            aux_data[\"u\"],\n",
    "            loss_weights,\n",
    "            aux_data[\"dynamic_loss\"],\n",
    "            aux_data[\"derivative_keys\"],\n",
    "            aux_data[\"omega_boundary_fun\"],\n",
    "            aux_data[\"omega_boundary_condition\"],\n",
    "            aux_data[\"omega_boundary_dim\"],\n",
    "            aux_data[\"initial_condition_fun\"],\n",
    "            aux_data[\"norm_borders\"],\n",
    "            norm_samples,\n",
    "        )\n",
    "        return pls\n"
   ]
  },
  {
   "cell_type": "markdown",
   "id": "6d79f52c-faac-4275-92ae-01b3b90f7517",
   "metadata": {},
   "source": [
    "Loss for the PINN"
   ]
  },
  {
   "cell_type": "code",
   "execution_count": 12,
   "id": "22b2647f",
   "metadata": {},
   "outputs": [],
   "source": [
    "loss_weights = {\"dyn_loss\":1, \"initial_condition\":10 * Tmax, \"boundary_loss\":1 * Tmax}\n",
    "\n",
    "omega_boundary_fun = {\n",
    "    \"xmin\": lambda t, x: jnp.array([0.0, 0.0]),\n",
    "    \"xmax\": None,\n",
    "}\n",
    "omega_boundary_condition = {\n",
    "    \"xmin\": \"dirichlet\",\n",
    "    \"xmax\": None,\n",
    "}\n",
    "\n",
    "key, subkey = jax.random.split(key, 2)\n",
    "MC_samples = random.uniform(\n",
    "            subkey, shape = (300, 1), minval=xmin, maxval=xmax\n",
    "        )\n",
    "loss_pinn = NonLocalLossPDENonStatio(\n",
    "    u=u_pinn,\n",
    "    loss_weights=loss_weights,\n",
    "    dynamic_loss=pbe_tomato,\n",
    "    omega_boundary_fun=omega_boundary_fun,\n",
    "    omega_boundary_condition=omega_boundary_condition,\n",
    "    initial_condition_fun=u0,\n",
    "    norm_borders=(xmin, xmax),\n",
    "    norm_samples=MC_samples\n",
    ")"
   ]
  },
  {
   "cell_type": "markdown",
   "id": "59b610bb",
   "metadata": {},
   "source": [
    "## Learning the neural network parameters"
   ]
  },
  {
   "cell_type": "markdown",
   "id": "498f3485-1e71-4a8c-add2-de69b2678da0",
   "metadata": {},
   "source": [
    "### Train the PINN and plot loss values and solution"
   ]
  },
  {
   "cell_type": "code",
   "execution_count": 13,
   "id": "df0ab21d-bfc1-4e81-8708-df8b30d0173b",
   "metadata": {},
   "outputs": [
    {
     "name": "stdout",
     "output_type": "stream",
     "text": [
      "[train] Iteration 0: loss value = 983715968.0\n",
      "[train] Iteration 1000: loss value = 931959.375\n",
      "[train] Iteration 2000: loss value = 9631926272.0\n",
      "[train] Iteration 3000: loss value = 52901020.0\n",
      "[train] Iteration 4000: loss value = 67106.1875\n",
      "[train] Iteration 5000: loss value = 38270.7734375\n",
      "[train] Iteration 6000: loss value = 4070351104.0\n",
      "[train] Iteration 7000: loss value = 13753.771484375\n",
      "[train] Iteration 8000: loss value = 8305.736328125\n",
      "[train] Iteration 9000: loss value = 8115.0166015625\n",
      "[train] Iteration 10000: loss value = 3167.254638671875\n",
      "[train] Iteration 11000: loss value = 1973.44140625\n",
      "[train] Iteration 12000: loss value = 1252.6798095703125\n",
      "[train] Iteration 13000: loss value = 796.3240966796875\n",
      "[train] Iteration 14000: loss value = 918.4296875\n",
      "Stopping main optimization loop, cause: max iteration is reached\n",
      "Final iteration 15000: train loss value = 3832778496.0\n"
     ]
    }
   ],
   "source": [
    "params_pinn = init_params_pinn\n",
    "# Optimizer\n",
    "import optax\n",
    "tx = optax.adamw(learning_rate=1e-4)\n",
    "n_iter = 15000\n",
    "params_pinn, total_loss_list_pinn, loss_by_term_dict_pinn, _, _, _, _, _, _ = jinns.solve(\n",
    "    init_params=params_pinn,\n",
    "    data=train_data,\n",
    "    optimizer=tx,\n",
    "    loss=loss_pinn,\n",
    "    n_iter=n_iter,\n",
    ")"
   ]
  },
  {
   "cell_type": "code",
   "execution_count": 14,
   "id": "2cd778b4-d9d9-4f69-ad02-2a3f7eacf59d",
   "metadata": {},
   "outputs": [
    {
     "data": {
      "image/png": "[encoded data removed]",
      "text/plain": [
       "<Figure size 640x480 with 1 Axes>"
      ]
     },
     "metadata": {},
     "output_type": "display_data"
    }
   ],
   "source": [
    "for loss_name, loss_values in loss_by_term_dict_pinn.items():\n",
    "    plt.plot(jnp.log10(loss_values), label=loss_name)\n",
    "plt.plot(jnp.log10(total_loss_list_pinn), label=\"total loss\")\n",
    "plt.legend()\n",
    "plt.show()"
   ]
  },
  {
   "cell_type": "code",
   "execution_count": 15,
   "id": "ca232aff-2883-43da-a107-3899d647983d",
   "metadata": {},
   "outputs": [],
   "source": [
    "nx = 500\n",
    "val_xdata = jnp.linspace(xmin, xmax, nx)\n",
    "ntime = 500\n",
    "val_times = jnp.linspace(tmin, tmax, ntime)"
   ]
  },
  {
   "cell_type": "code",
   "execution_count": 16,
   "id": "f4a2b767-dd12-4a7a-8c27-c0e098ad54f8",
   "metadata": {},
   "outputs": [
    {
     "data": {
      "image/png": "[encoded data removed]",
      "text/plain": [
       "<Figure size 500x500 with 2 Axes>"
      ]
     },
     "metadata": {},
     "output_type": "display_data"
    }
   ],
   "source": [
    "u_est_pinn_nP = lambda t, x: u_pinn(t, x, params_pinn[\"nn_params\"])[0]\n",
    "u_est_pinn_nQ = lambda t, x: u_pinn(t, x, params_pinn[\"nn_params\"])[1]\n",
    "\n",
    "u_est_pinn = lambda t, x: jnp.sum(u_pinn(t, x, params_pinn[\"nn_params\"]))\n",
    "# same subkey\n",
    "jinns.data.plot1d_image(u_est_pinn, xdata=val_xdata, times=val_times, Tmax=Tmax, cmap=\"viridis\", colorbar=True, figsize=(5, 5), title=\"temporal\")"
   ]
  },
  {
   "cell_type": "code",
   "execution_count": 17,
   "id": "4516e572-b527-4b19-a634-663f2276a5d6",
   "metadata": {},
   "outputs": [
    {
     "data": {
      "image/png": "[encoded data removed]",
      "text/plain": [
       "<Figure size 500x500 with 1 Axes>"
      ]
     },
     "metadata": {},
     "output_type": "display_data"
    }
   ],
   "source": [
    "time_slices = [0, 0.2, 0.4, 1]\n",
    "\n",
    "# rewrite the plot1d_slices from jinns.data_display in order to put a semilogx command\n",
    "plt.figure(figsize=(5,5))\n",
    "for t in time_slices:\n",
    "    v_u_tfixed = vmap(partial(u_est_pinn, t=t * jnp.ones((1,))), 0, 0)\n",
    "    values = v_u_tfixed(x=val_xdata[:, None])\n",
    "    plt.semilogx(val_xdata, values, label=f\"$t_i={t * Tmax:.2f}$\")\n",
    "    plt.xlabel(\"x\")\n",
    "    plt.ylabel(r\"$u(t_i, x)$\")\n",
    "    plt.legend()\n",
    "    plt.title(\"\")\n"
   ]
  },
  {
   "cell_type": "code",
   "execution_count": null,
   "id": "895bce67-712b-400f-8932-074a86cfb266",
   "metadata": {},
   "outputs": [],
   "source": []
  },
  {
   "cell_type": "code",
   "execution_count": null,
   "id": "6a576f39-ee55-43d9-aafc-95eb10fb0d95",
   "metadata": {},
   "outputs": [],
   "source": []
  }
 ],
 "metadata": {
  "kernelspec": {
   "display_name": "Python 3 (ipykernel)",
   "language": "python",
   "name": "python3"
  },
  "language_info": {
   "codemirror_mode": {
    "name": "ipython",
    "version": 3
   },
   "file_extension": ".py",
   "mimetype": "text/x-python",
   "name": "python",
   "nbconvert_exporter": "python",
   "pygments_lexer": "ipython3",
   "version": "3.11.2"
  },
  "vscode": {
   "interpreter": {
    "hash": "991718e94fb5d91fa62c7598521d2199c208ff1ff700f1ac060f334be0bee194"
   }
  }
 },
 "nbformat": 4,
 "nbformat_minor": 5
}
