{
 "cells": [
  {
   "cell_type": "markdown",
   "id": "c8cc890b",
   "metadata": {},
   "source": [
    "# Non stationary Ornstein Uhlenbeck in 2D (Fokker-Planck Equation) with RAR sampling & SPINNs"
   ]
  },
  {
   "cell_type": "markdown",
   "id": "988897ef",
   "metadata": {},
   "source": [
    "We want to estimate the solution $u(t,\\mathbf{x})$ of\n",
    "\n",
    "$$\n",
    "-\\sum_{i=1}^2\\frac{\\partial}{\\partial \\mathbf{x}}\n",
    "         \\left[(\\alpha(\\mu - \\mathbf{x}))u(t,\\mathbf{x})\\right] +\n",
    "         \\sum_{i=1}^2\\sum_{j=1}^2\\frac{\\partial^2}{\\partial x_i \\partial x_j}              \n",
    "         \\left[\\frac{\\sigma^2}{2}u(t,\\mathbf{x})\\right]=                                   \n",
    "         \\frac{\\partial}\n",
    "         {\\partial t}u(t,\\mathbf{x})\n",
    " $$"
   ]
  },
  {
   "cell_type": "markdown",
   "id": "57e03764-88e5-4fe1-849b-f996eb9c7032",
   "metadata": {},
   "source": [
    "The notebook is divided in two main sections:\n",
    "\n",
    "1) Solving with PINNs and RAR\n",
    "\n",
    "2) Solving with SPINNs\n",
    "\n",
    "3) Conclusion"
   ]
  },
  {
   "cell_type": "code",
   "execution_count": 1,
   "id": "8bf8bebc-b311-4eb4-ad63-11447f62b280",
   "metadata": {},
   "outputs": [],
   "source": [
    "%load_ext autoreload\n",
    "%autoreload 2\n",
    "%matplotlib inline\n"
   ]
  },
  {
   "cell_type": "markdown",
   "id": "1bdf095b",
   "metadata": {},
   "source": [
    "Import our package"
   ]
  },
  {
   "cell_type": "code",
   "execution_count": 2,
   "id": "9845885d",
   "metadata": {},
   "outputs": [],
   "source": [
    "import jinns\n"
   ]
  },
  {
   "cell_type": "markdown",
   "id": "d6a339c3",
   "metadata": {},
   "source": [
    "Import other dependencies"
   ]
  },
  {
   "cell_type": "code",
   "execution_count": 3,
   "id": "3abe5254-7556-424e-a57e-d364d67244a1",
   "metadata": {},
   "outputs": [
    {
     "name": "stderr",
     "output_type": "stream",
     "text": [
      "2024-10-28 09:56:32.561917: W external/xla/xla/service/gpu/nvptx_compiler.cc:893] The NVIDIA driver's CUDA version is 12.2 which is older than the PTX compiler version 12.3.107. Because the driver is older than the PTX compiler version, XLA is disabling parallel compilation, which may slow down compilation. You should update your NVIDIA driver or use the NVIDIA-provided CUDA forward compatibility packages.\n"
     ]
    }
   ],
   "source": [
    "import jax\n",
    "from jax import random, vmap\n",
    "import jax.numpy as jnp\n",
    "import equinox as eqx\n",
    "from functools import partial\n",
    "import time\n",
    "import matplotlib.pyplot as plt\n",
    "\n",
    "key = random.PRNGKey(2)\n",
    "key, subkey = random.split(key)\n"
   ]
  },
  {
   "cell_type": "markdown",
   "id": "26b96440-60c7-4318-9254-f943b6e81535",
   "metadata": {},
   "source": [
    "Create the neural network architecture for the PINN with `equinox`. Note that we will use the same architecture for the 3 populations."
   ]
  },
  {
   "cell_type": "code",
   "execution_count": 4,
   "id": "c674868e",
   "metadata": {},
   "outputs": [],
   "source": [
    "eqx_list = (\n",
    "    (eqx.nn.Linear, 3, 30),\n",
    "    (jax.nn.tanh,),\n",
    "    (eqx.nn.Linear, 30, 30),\n",
    "    (jax.nn.tanh,),\n",
    "    (eqx.nn.Linear, 30, 30),\n",
    "    (jax.nn.tanh,),\n",
    "    (eqx.nn.Linear, 30, 1),\n",
    "    (jnp.exp,)\n",
    ")\n",
    "key, subkey = random.split(key)\n",
    "u, init_nn_params = jinns.utils.create_PINN(subkey, eqx_list, \"nonstatio_PDE\", 2)\n"
   ]
  },
  {
   "cell_type": "markdown",
   "id": "ddeac823",
   "metadata": {},
   "source": [
    "Create the DataGenerator object. In this notebook we illustrate an example using the Residual Adaptative Refinement algorithm for improved collocation points for PINN training. The reference is _DeepXDE: A deep learning library for solving differential equations_, L. Lu, SIAM Review, 2021.\n",
    "\n",
    "Thus we first define an additional dictionary of parameters for the RAR algorithm, it will be passed at the initialization of the DataGenerator:"
   ]
  },
  {
   "cell_type": "code",
   "execution_count": 5,
   "id": "48dc9e54",
   "metadata": {},
   "outputs": [],
   "source": [
    "# rar_parameters = {\n",
    "#     'start_iter':1000, # the gradient step at which RAR algo starts (enables a burn in period)\n",
    "#     'update_every': 500, # nb of gradient steps between two RAR procedures\n",
    "#     'sample_size_times': 22, # the number of new candidates time points\n",
    "#     'selected_sample_size_times': 5, # the number of selected times collocation points from the sample, to join the dataset.\n",
    "#     'sample_size_omega': 22, # the number of new candidates space points\n",
    "#     'selected_sample_size_omega': 5,\n",
    "# }\n",
    "# n_start  = 500 # the initial number of spatial collocation points at beginning\n",
    "# nt_start = 500 # the initial number of temporal collocation points at beginning"
   ]
  },
  {
   "cell_type": "markdown",
   "id": "1ca2df2b",
   "metadata": {},
   "source": [
    "Therefore, the set of parameters above gives the following number collocation points used (DataGenerator's `times` and `omega` attributes). \n",
    "- 505 at iterations 0 to 999\n",
    "- 510 at iterations 1000 to 1499\n",
    "- 515 at iterations 1500 to 1999\n",
    "- ...\n",
    "\n",
    "User can play with the `selected_sample_size_*` entry of `rar_parameters` to add more collocation points in space or times in the non-stationnary cases.\n",
    "\n",
    "__Note:__ If given too many iterations, the RAR algorithm can require a number of collocation points that will be larger that `n`. In order to prevent an undefined behaviour, when such case is attained RAR updates will not happen anymore. This is because JAX do not allow to have dynamically shaped Arrays.\n"
   ]
  },
  {
   "cell_type": "code",
   "execution_count": 6,
   "id": "faa41061-a276-4beb-931f-fcf2573b0095",
   "metadata": {},
   "outputs": [],
   "source": [
    "n = 2500\n",
    "nb = 4\n",
    "ni = 200\n",
    "xmin = -3\n",
    "xmax = 3\n",
    "ymin = -3\n",
    "ymax = 3\n",
    "tmin = 0\n",
    "tmax = 1\n",
    "method=\"uniform\"\n",
    "\n",
    "key, subkey = random.split(key)\n",
    "train_data = jinns.data.CubicMeshPDENonStatio(\n",
    "    key=subkey,\n",
    "    n=n,\n",
    "    nb=None,\n",
    "    ni=ni,\n",
    "    dim=2,\n",
    "    min_pts=(xmin, ymin),\n",
    "    max_pts=(xmax, ymax),\n",
    "    tmin=tmin,\n",
    "    tmax=tmax,\n",
    "    method=method,\n",
    "    #rar_parameters=rar_parameters,\n",
    "    #n_start=n_start,\n",
    ")\n"
   ]
  },
  {
   "cell_type": "markdown",
   "id": "f012157e",
   "metadata": {},
   "source": [
    "## Model parameters"
   ]
  },
  {
   "cell_type": "code",
   "execution_count": 7,
   "id": "a2360262",
   "metadata": {},
   "outputs": [],
   "source": [
    "# true solution N(0,1)\n",
    "sigma = 0.5 * jnp.ones((2))\n",
    "alpha = .5 * jnp.ones((2))\n",
    "mu = jnp.zeros((2))\n",
    "\n",
    "Tmax = 5\n"
   ]
  },
  {
   "cell_type": "markdown",
   "id": "e2bce98f",
   "metadata": {},
   "source": [
    "In our problem we know the analytical stationary solution"
   ]
  },
  {
   "cell_type": "code",
   "execution_count": 8,
   "id": "4978b7ce",
   "metadata": {},
   "outputs": [],
   "source": [
    "from jax.scipy.stats import multivariate_normal\n",
    "\n",
    "def u_statio(x):\n",
    "    return multivariate_normal.pdf(x, mean=mu, cov=jnp.diag((sigma/jnp.sqrt(2*alpha)) ** 2))\n",
    "\n",
    "vectorized_u_statio = vmap(u_statio, (0), 0)\n"
   ]
  },
  {
   "cell_type": "code",
   "execution_count": 9,
   "id": "16583945",
   "metadata": {},
   "outputs": [],
   "source": [
    "init_params = jinns.parameters.Params(\n",
    "    nn_params=init_nn_params,\n",
    "    eq_params={\n",
    "        \"sigma\":sigma,\n",
    "        \"alpha\":alpha,\n",
    "        \"mu\":mu\n",
    "    }\n",
    ")\n"
   ]
  },
  {
   "cell_type": "markdown",
   "id": "ca7fbaef",
   "metadata": {},
   "source": [
    "## Set up the initial condition"
   ]
  },
  {
   "cell_type": "code",
   "execution_count": 10,
   "id": "9cd4db15-e476-46de-9d98-a74b25b859df",
   "metadata": {},
   "outputs": [],
   "source": [
    "# Initial law at t=0\n",
    "u0 = u_statio\n",
    "\n",
    "# Another init\n",
    "# TODO : implement other init\n",
    "def u0(x):\n",
    "    return multivariate_normal.pdf(x, mean=jnp.array([1, 1]), cov=0.1 * jnp.eye(2))\n",
    "\n",
    "vectorized_u0 = vmap(u0, (0), 0)\n"
   ]
  },
  {
   "cell_type": "code",
   "execution_count": 11,
   "id": "248b5187-0eb6-472a-9ad4-e565ce235f51",
   "metadata": {},
   "outputs": [
    {
     "data": {
      "image/png": "[encoded data removed]",
      "text/plain": [
       "<Figure size 700x700 with 2 Axes>"
      ]
     },
     "metadata": {},
     "output_type": "display_data"
    }
   ],
   "source": [
    "nx, ny = 1000, 1000\n",
    "val_xy_data = [jnp.linspace(xmin, xmax, nx),\n",
    "               jnp.linspace(ymin, ymax, ny)\n",
    "              ]\n",
    "\n",
    "jinns.plot.plot2d(\n",
    "    fun=u0,\n",
    "    xy_data=val_xy_data,\n",
    "    title=\"u0(x,y)\"\n",
    ")\n"
   ]
  },
  {
   "cell_type": "markdown",
   "id": "aa14a602-1b0e-4582-876e-99d0322c57a0",
   "metadata": {},
   "source": [
    "## Loss construction"
   ]
  },
  {
   "cell_type": "markdown",
   "id": "fff6afee",
   "metadata": {},
   "source": [
    "We decide to provide the set of points upon which the normalization constant will be computed"
   ]
  },
  {
   "cell_type": "code",
   "execution_count": 12,
   "id": "36f5959b",
   "metadata": {},
   "outputs": [],
   "source": [
    "int_xmin, int_xmax = -3, 3\n",
    "int_ymin, int_ymax = -3, 3\n",
    "\n",
    "n_samples = int(1e3)\n",
    "int_length = (int_xmax - int_xmin) * (int_ymax - int_ymin)\n",
    "key, subkey1, subkey2 = random.split(key, 3)\n",
    "mc_samples = jnp.concatenate(\n",
    "    [\n",
    "        random.uniform(\n",
    "            subkey1, shape = (1000, 1), minval=int_xmin, maxval=int_xmax\n",
    "        ),\n",
    "        random.uniform(\n",
    "            subkey2, shape = (1000, 1), minval=int_ymin, maxval=int_ymax\n",
    "        )\n",
    "    ],\n",
    "    axis=-1\n",
    ")\n"
   ]
  },
  {
   "cell_type": "code",
   "execution_count": 13,
   "id": "0b81d9ce",
   "metadata": {},
   "outputs": [],
   "source": [
    "OU_fpe_non_statio_2D_loss = jinns.loss.OU_FPENonStatioLoss2D(Tmax=Tmax)\n"
   ]
  },
  {
   "cell_type": "code",
   "execution_count": 14,
   "id": "09fbfa54",
   "metadata": {},
   "outputs": [
    {
     "name": "stderr",
     "output_type": "stream",
     "text": [
      "/home/hugo/Documents/recherche/pinn/gitlab/jinns/loss/_LossPDE.py:180: UserWarning: Missing boundary function or no boundary condition.Boundary function is thus ignored.\n",
      "  warnings.warn(\n"
     ]
    }
   ],
   "source": [
    "loss_weights = jinns.loss.LossWeightsPDENonStatio(\n",
    "    dyn_loss=1,\n",
    "    initial_condition=1 * Tmax,\n",
    "    norm_loss=1 * Tmax\n",
    ")\n",
    "\n",
    "loss = jinns.loss.LossPDENonStatio(\n",
    "    u=u,\n",
    "    loss_weights=loss_weights,\n",
    "    dynamic_loss=OU_fpe_non_statio_2D_loss,\n",
    "    initial_condition_fun=u0,\n",
    "    norm_int_length=(int_xmax - int_xmin) * (int_ymax - int_ymin),\n",
    "    norm_samples=mc_samples,\n",
    "    params=init_params\n",
    ")\n"
   ]
  },
  {
   "cell_type": "code",
   "execution_count": 19,
   "id": "5f5418d5-629f-4745-ad0f-3778020cc635",
   "metadata": {
    "scrolled": true
   },
   "outputs": [
    {
     "name": "stdout",
     "output_type": "stream",
     "text": [
      "100 (100, 1000, 3)\n",
      "[[ 0.8161434   1.4769297   2.8806314 ]\n",
      " [ 0.8161434   0.8357334  -2.658808  ]\n",
      " [ 0.8161434  -1.8872466   2.826775  ]\n",
      " ...\n",
      " [ 0.8161434  -0.7177856   0.80959654]\n",
      " [ 0.8161434   0.01187253 -1.4244883 ]\n",
      " [ 0.8161434  -1.5713446  -0.31710505]]\n",
      "(100, 1000, 1)\n",
      "total loss: 8420.27\n",
      "Individual losses: {'boundary_loss': '0.00', 'dyn_loss': '35.53', 'initial_condition': '6.58', 'norm_loss': '8378.16', 'observations': '0.00'}\n"
     ]
    }
   ],
   "source": [
    "losses_and_grad = jax.value_and_grad(loss.evaluate, 0, has_aux=True)\n",
    "losses, grads = losses_and_grad(\n",
    "    init_params,\n",
    "    batch = train_data.get_batch()[1]\n",
    ")\n",
    "\n",
    "\n",
    "l_tot, d = losses\n",
    "print(f\"total loss: {l_tot:.2f}\")\n",
    "print(f\"Individual losses: { {key: f'{val:.2f}' for key, val in d.items()} }\")\n"
   ]
  },
  {
   "cell_type": "markdown",
   "id": "64835b79-0bce-4f06-bd57-5ee051796663",
   "metadata": {},
   "source": [
    "## Learning the neural network parameters\n",
    "The learning process here consider known equation parameters `eq_params`. We thus only update `nn_params`"
   ]
  },
  {
   "cell_type": "code",
   "execution_count": 20,
   "id": "54f3f97f",
   "metadata": {},
   "outputs": [],
   "source": [
    "params = init_params\n"
   ]
  },
  {
   "cell_type": "code",
   "execution_count": 21,
   "id": "8d0106ad-d1e4-4fa8-958d-c8ebd4572d76",
   "metadata": {},
   "outputs": [],
   "source": [
    "# Optimizer\n",
    "import optax\n",
    "\n",
    "tx = optax.adamw(learning_rate=1e-3)\n"
   ]
  },
  {
   "cell_type": "code",
   "execution_count": 22,
   "id": "055a7e63-4d0e-4246-b792-2007a0deeaab",
   "metadata": {},
   "outputs": [],
   "source": [
    "n_iter = 50000\n"
   ]
  },
  {
   "cell_type": "code",
   "execution_count": 23,
   "id": "79277c95-5298-421d-aa7a-c8fee091bf6b",
   "metadata": {},
   "outputs": [],
   "source": [
    "params = init_params\n"
   ]
  },
  {
   "cell_type": "markdown",
   "id": "e3ec4cd7",
   "metadata": {},
   "source": [
    "We are performing RAR sampling scheme, let's see the distribution fo the collocation points before the start of the training."
   ]
  },
  {
   "cell_type": "code",
   "execution_count": 24,
   "id": "fc838c87",
   "metadata": {},
   "outputs": [
    {
     "ename": "AttributeError",
     "evalue": "'CubicMeshPDENonStatio' object has no attribute 'times'",
     "output_type": "error",
     "traceback": [
      "\u001b[0;31m---------------------------------------------------------------------------\u001b[0m",
      "\u001b[0;31mAttributeError\u001b[0m                            Traceback (most recent call last)",
      "Cell \u001b[0;32mIn[24], line 2\u001b[0m\n\u001b[1;32m      1\u001b[0m fig, ax \u001b[38;5;241m=\u001b[39m plt\u001b[38;5;241m.\u001b[39msubplots(\u001b[38;5;241m1\u001b[39m, \u001b[38;5;241m3\u001b[39m)\n\u001b[0;32m----> 2\u001b[0m ax[\u001b[38;5;241m0\u001b[39m]\u001b[38;5;241m.\u001b[39mhist(\u001b[43mtrain_data\u001b[49m\u001b[38;5;241;43m.\u001b[39;49m\u001b[43mtimes\u001b[49m)\n\u001b[1;32m      3\u001b[0m ax[\u001b[38;5;241m0\u001b[39m]\u001b[38;5;241m.\u001b[39mset_title(\u001b[38;5;124m'\u001b[39m\u001b[38;5;124mtimes\u001b[39m\u001b[38;5;124m'\u001b[39m)\n\u001b[1;32m      4\u001b[0m ax[\u001b[38;5;241m1\u001b[39m]\u001b[38;5;241m.\u001b[39mhist(train_data\u001b[38;5;241m.\u001b[39momega[:, \u001b[38;5;241m0\u001b[39m]\u001b[38;5;241m.\u001b[39mflatten())\n",
      "\u001b[0;31mAttributeError\u001b[0m: 'CubicMeshPDENonStatio' object has no attribute 'times'"
     ]
    },
    {
     "data": {
      "image/png": "[encoded data removed]",
      "text/plain": [
       "<Figure size 640x480 with 3 Axes>"
      ]
     },
     "metadata": {},
     "output_type": "display_data"
    }
   ],
   "source": [
    "fig, ax = plt.subplots(1, 3)\n",
    "ax[0].hist(train_data.times)\n",
    "ax[0].set_title('times')\n",
    "ax[1].hist(train_data.omega[:, 0].flatten())\n",
    "ax[1].set_title('omega(x)')\n",
    "ax[2].hist(train_data.omega[:, 1].flatten())\n",
    "ax[2].set_title('omega(y)')\n",
    "fig.suptitle('Histograms of time and space domains before training')\n",
    "plt.savefig(\"hist_data_before.pdf\")\n",
    "plt.show()\n"
   ]
  },
  {
   "cell_type": "code",
   "execution_count": 25,
   "id": "df0ab21d-bfc1-4e81-8708-df8b30d0173b",
   "metadata": {
    "scrolled": true
   },
   "outputs": [
    {
     "name": "stdout",
     "output_type": "stream",
     "text": [
      "Compilation took 5.4201061725616455\n",
      "[train] Iteration 0: loss value = 8234.7314453125\n",
      "[train] Iteration 1000: loss value = 0.2476651966571808\n",
      "[train] Iteration 2000: loss value = 0.18130122125148773\n",
      "[train] Iteration 3000: loss value = 0.17445871233940125\n",
      "[train] Iteration 4000: loss value = 0.16586974263191223\n",
      "[train] Iteration 5000: loss value = 0.15633797645568848\n",
      "[train] Iteration 6000: loss value = 0.14730334281921387\n",
      "[train] Iteration 7000: loss value = 0.1405608355998993\n",
      "[train] Iteration 8000: loss value = 0.13723981380462646\n",
      "[train] Iteration 9000: loss value = 0.1358029544353485\n",
      "[train] Iteration 10000: loss value = 0.13448236882686615\n",
      "[train] Iteration 11000: loss value = 0.13305580615997314\n",
      "[train] Iteration 12000: loss value = 0.13160963356494904\n",
      "[train] Iteration 13000: loss value = 0.1299821436405182\n",
      "[train] Iteration 14000: loss value = 0.12157339602708817\n",
      "[train] Iteration 15000: loss value = 0.046996407210826874\n",
      "[train] Iteration 16000: loss value = 0.030406273901462555\n",
      "[train] Iteration 17000: loss value = 0.019890982657670975\n",
      "[train] Iteration 18000: loss value = 0.013312376104295254\n",
      "[train] Iteration 19000: loss value = 0.00917620025575161\n",
      "[train] Iteration 20000: loss value = 0.018938761204481125\n",
      "[train] Iteration 21000: loss value = 0.004402406048029661\n",
      "[train] Iteration 22000: loss value = 0.0033268509432673454\n",
      "[train] Iteration 23000: loss value = 0.002829493023455143\n",
      "[train] Iteration 24000: loss value = 0.002400845056399703\n",
      "[train] Iteration 25000: loss value = 0.007902656681835651\n",
      "[train] Iteration 26000: loss value = 0.00868992879986763\n",
      "[train] Iteration 27000: loss value = 0.0018937622662633657\n",
      "[train] Iteration 28000: loss value = 0.004664489533752203\n",
      "[train] Iteration 29000: loss value = 0.002131670480594039\n",
      "[train] Iteration 30000: loss value = 0.005935452412813902\n",
      "[train] Iteration 31000: loss value = 0.0013380555901676416\n",
      "[train] Iteration 32000: loss value = 0.0013786202762275934\n",
      "[train] Iteration 33000: loss value = 0.0012084536720067263\n",
      "[train] Iteration 34000: loss value = 0.0011266107903793454\n",
      "[train] Iteration 35000: loss value = 0.0010792233515530825\n",
      "[train] Iteration 36000: loss value = 0.001072809798642993\n",
      "[train] Iteration 37000: loss value = 0.0009902531746774912\n",
      "[train] Iteration 38000: loss value = 0.0010082677472382784\n",
      "[train] Iteration 39000: loss value = 0.0009211758151650429\n",
      "[train] Iteration 40000: loss value = 0.0008883728878572583\n",
      "[train] Iteration 41000: loss value = 0.0008787684491835535\n",
      "[train] Iteration 42000: loss value = 0.0008399871876463294\n",
      "[train] Iteration 43000: loss value = 0.0019074274459853768\n",
      "[train] Iteration 44000: loss value = 0.0007833542767912149\n",
      "[train] Iteration 45000: loss value = 0.0008345405803993344\n",
      "[train] Iteration 46000: loss value = 0.0010797445429489017\n",
      "[train] Iteration 47000: loss value = 0.001591042266227305\n",
      "[train] Iteration 48000: loss value = 0.0016593728214502335\n",
      "[train] Iteration 49000: loss value = 0.000875994039233774\n",
      "Stopping main optimization loop, cause: max iteration is reached\n",
      "Training took 632.204066991806\n",
      "Final iteration 50000: train loss value = 0.0007579231169074774\n"
     ]
    }
   ],
   "source": [
    "key, subkey = random.split(key, 2)\n",
    "params, total_loss_list, loss_by_term_dict, train_data, loss, _, _ , _, _ = jinns.solve(\n",
    "    init_params=params,\n",
    "    data=train_data,\n",
    "    optimizer=tx,\n",
    "    loss=loss,\n",
    "    n_iter=n_iter\n",
    ")"
   ]
  },
  {
   "cell_type": "markdown",
   "id": "3c7e005e",
   "metadata": {},
   "source": [
    "In the next figure, we see the distribution fo the collocation points after the end of the training. We see that the new points are preferentially added at $t=0$, on the borders and around the origin in the upper right quadrant. This could be expected since we expected that those are the collocation points where most things actually happen."
   ]
  },
  {
   "cell_type": "code",
   "execution_count": null,
   "id": "770aee01",
   "metadata": {},
   "outputs": [],
   "source": [
    "fig, ax = plt.subplots(1, 3)\n",
    "ax[0].hist(train_data.times)\n",
    "ax[0].set_title('times')\n",
    "ax[1].hist(train_data.omega[:, 0].flatten())\n",
    "ax[1].set_title('omega(x)')\n",
    "ax[2].hist(train_data.omega[:, 1].flatten())\n",
    "ax[2].set_title('omega(y)')\n",
    "fig.suptitle('Histograms of time and space domains after training')\n",
    "plt.savefig(\"hist_data_after.pdf\")\n",
    "plt.show()\n"
   ]
  },
  {
   "cell_type": "markdown",
   "id": "8a30b3d6-2068-4d96-adb6-e0d70078841a",
   "metadata": {},
   "source": [
    "## Results"
   ]
  },
  {
   "cell_type": "code",
   "execution_count": 26,
   "id": "2cd778b4-d9d9-4f69-ad02-2a3f7eacf59d",
   "metadata": {},
   "outputs": [
    {
     "data": {
      "image/png": "[encoded data removed]",
      "text/plain": [
       "<Figure size 640x480 with 1 Axes>"
      ]
     },
     "metadata": {},
     "output_type": "display_data"
    }
   ],
   "source": [
    "plt.plot(jnp.log10(total_loss_list), label=\"total loss\")\n",
    "for loss_name, loss_values in loss_by_term_dict.items():\n",
    "    plt.plot(jnp.log10(loss_values), label=loss_name)\n",
    "plt.legend()\n",
    "plt.show();\n"
   ]
  },
  {
   "cell_type": "code",
   "execution_count": 27,
   "id": "6d473743-c9a8-4406-b18c-256496cfde59",
   "metadata": {},
   "outputs": [
    {
     "name": "stdout",
     "output_type": "stream",
     "text": [
      "(1000, 1000) (1000, 1000) (1000, 1000)\n",
      "(1000, 1000) (1000, 1000) (1000, 1000)\n",
      "(1000, 1000) (1000, 1000) (1000, 1000)\n",
      "(1000, 1000) (1000, 1000) (1000, 1000)\n"
     ]
    },
    {
     "data": {
      "image/png": "[encoded data removed]",
      "text/plain": [
       "<Figure size 1000x4000 with 8 Axes>"
      ]
     },
     "metadata": {},
     "output_type": "display_data"
    }
   ],
   "source": [
    "times = [0, 0.2, 0.55, 1] # times in the rescaled time susescale\n",
    "u_est = lambda t_x:u(t_x, params.nn_params)\n",
    "jinns.plot.plot2d(\n",
    "    fun=u_est,\n",
    "    xy_data=val_xy_data,\n",
    "    times = times,\n",
    "    Tmax=Tmax,\n",
    "    title=\"u0(x,y)\",\n",
    "    figsize=(10, 10*len(times))\n",
    ")\n"
   ]
  },
  {
   "cell_type": "markdown",
   "id": "c12d3c66-13f0-4433-8467-4b4915195771",
   "metadata": {},
   "source": [
    "## 2) Separable PINNs\n",
    "In this section, we run experiments in the same context but with [Separable PINNs](https://openreview.net/pdf?id=dEySGIcDnI)."
   ]
  },
  {
   "cell_type": "code",
   "execution_count": null,
   "id": "552cc197-bfe0-4e5f-b25d-308c33a0f101",
   "metadata": {},
   "outputs": [],
   "source": [
    "d = 3\n",
    "r = 256\n",
    "eqx_list = (\n",
    "    (eqx.nn.Linear, 1, 128),\n",
    "    (jax.nn.tanh,),\n",
    "    (eqx.nn.Linear, 128, 128),\n",
    "    (jax.nn.tanh,),\n",
    "    (eqx.nn.Linear, 128, 128),\n",
    "    (jax.nn.tanh,),\n",
    "    (eqx.nn.Linear, 128, r),\n",
    ")\n",
    "key, subkey = random.split(key)"
   ]
  },
  {
   "cell_type": "code",
   "execution_count": null,
   "id": "df817b0e-70eb-4e37-ad44-38e9c2888429",
   "metadata": {},
   "outputs": [],
   "source": [
    "u = jinns.utils.create_SPINN(subkey, d, r, eqx_list, \"nonstatio_PDE\")\n",
    "init_nn_params = u.init_params()"
   ]
  },
  {
   "cell_type": "markdown",
   "id": "7ef80b70-5303-42e8-b04e-e1b594f442ad",
   "metadata": {},
   "source": [
    "Note the `cartesian_product=False` in the cell below, which tells the `train_data_spinn` DataGenerator not to output cartesian product of space and time collocation points. It is because we use a separable PINN (SPINN) which already does similar operations internally (more precisely, outer products of each axis-dimension). "
   ]
  },
  {
   "cell_type": "code",
   "execution_count": null,
   "id": "b8fe9751-875c-4a89-91e9-3c406c63c4c2",
   "metadata": {},
   "outputs": [],
   "source": [
    "n = 1000\n",
    "nb = 4 # not used here\n",
    "nt = 999\n",
    "omega_batch_size = 32\n",
    "omega_border_batch_size = None # not used here\n",
    "temporal_batch_size = 32\n",
    "xmin = -3\n",
    "xmax = 3\n",
    "ymin = -3\n",
    "ymax = 3\n",
    "tmin = 0\n",
    "tmax = 1\n",
    "method=\"uniform\"\n",
    "\n",
    "key, subkey = random.split(key)\n",
    "train_data = jinns.data.CubicMeshPDENonStatio(\n",
    "    key=subkey,\n",
    "    n=n,\n",
    "    nb=nb,\n",
    "    nt=nt,\n",
    "    omega_batch_size=omega_batch_size,\n",
    "    omega_border_batch_size=omega_border_batch_size,\n",
    "    temporal_batch_size=temporal_batch_size,\n",
    "    dim=2,\n",
    "    min_pts=(xmin, ymin),\n",
    "    max_pts=(xmax, ymax),\n",
    "    tmin=tmin,\n",
    "    tmax=tmax,\n",
    "    method=method,\n",
    "    cartesian_product=False\n",
    ")"
   ]
  },
  {
   "cell_type": "code",
   "execution_count": null,
   "id": "a5c318e1-c2dd-4edb-b330-66c4b0f98bab",
   "metadata": {},
   "outputs": [],
   "source": [
    "init_params = jinns.parameters.Params(\n",
    "    nn_params=init_nn_params,\n",
    "    eq_params={\n",
    "        \"sigma\":sigma,\n",
    "        \"alpha\":alpha,\n",
    "        \"mu\":mu\n",
    "    }\n",
    ")"
   ]
  },
  {
   "cell_type": "code",
   "execution_count": null,
   "id": "46e03f87-dce4-4ed3-8c81-fcff6426725e",
   "metadata": {},
   "outputs": [],
   "source": [
    "int_xmin, int_xmax = -5, 5\n",
    "int_ymin, int_ymax = -5, 5\n",
    "\n",
    "n_samples = 32\n",
    "int_length = (int_xmax - int_xmin) * (int_ymax - int_ymin)\n",
    "key, subkey1, subkey2 = random.split(key, 3)\n",
    "mc_samples = jnp.concatenate(\n",
    "    [\n",
    "        random.uniform(\n",
    "            subkey1, shape = (n_samples, 1), minval=int_xmin, maxval=int_xmax\n",
    "        ),\n",
    "        random.uniform(\n",
    "            subkey2, shape = (n_samples, 1), minval=int_ymin, maxval=int_ymax\n",
    "        )\n",
    "    ],\n",
    "    axis=-1\n",
    ")"
   ]
  },
  {
   "cell_type": "code",
   "execution_count": null,
   "id": "f14a09fd-4d96-4034-97a4-77287ad3a50c",
   "metadata": {},
   "outputs": [],
   "source": [
    "loss_weights = jinns.loss.LossWeightsPDENonStatio(\n",
    "    dyn_loss=1,\n",
    "    initial_condition=1 * Tmax,\n",
    "    norm_loss=0.1 * Tmax\n",
    ")\n",
    "OU_fpe_non_statio_2D_loss = jinns.loss.OU_FPENonStatioLoss2D(Tmax=Tmax)\n",
    "\n",
    "loss = jinns.loss.LossPDENonStatio(\n",
    "    u=u,\n",
    "    loss_weights=loss_weights,\n",
    "    dynamic_loss=OU_fpe_non_statio_2D_loss,\n",
    "    initial_condition_fun=u0,\n",
    "    norm_int_length=(int_xmax - int_xmin) * (int_ymax - int_ymin),\n",
    "    norm_samples=mc_samples\n",
    ")\n"
   ]
  },
  {
   "cell_type": "code",
   "execution_count": null,
   "id": "cbfe45a8-fb1e-4adb-b7d4-89bb9a34b8ea",
   "metadata": {},
   "outputs": [],
   "source": [
    "params = init_params"
   ]
  },
  {
   "cell_type": "code",
   "execution_count": null,
   "id": "9e906eaa-6d8d-4516-a703-f85ee8224b6f",
   "metadata": {},
   "outputs": [],
   "source": [
    "import optax\n",
    "tx = optax.adamw(learning_rate=1e-4)\n",
    "n_iter = 50000\n",
    "key, subkey = random.split(key, 2)\n",
    "start = time.time()\n",
    "params, total_loss_list, loss_by_term_dict, train_data, loss, _, _ , _, _ = jinns.solve(\n",
    "    init_params=params,\n",
    "    data=train_data,\n",
    "    optimizer=tx,\n",
    "    loss=loss,\n",
    "    n_iter=n_iter\n",
    ")\n",
    "end = time.time()"
   ]
  },
  {
   "cell_type": "code",
   "execution_count": null,
   "id": "312cefd9-e9c5-488d-9a0a-991dd2c83e7f",
   "metadata": {},
   "outputs": [],
   "source": [
    "time_spinn = end - start\n",
    "print(\"Time SPINN\", time_spinn)"
   ]
  },
  {
   "cell_type": "code",
   "execution_count": null,
   "id": "4d5f22d9-2a8e-4908-a273-cbf0562e74ab",
   "metadata": {},
   "outputs": [],
   "source": [
    "plt.plot(jnp.log10(total_loss_list), label=\"total loss\")\n",
    "for loss_name, loss_values in loss_by_term_dict.items():\n",
    "    plt.plot(jnp.log10(loss_values), label=loss_name)\n",
    "plt.legend()\n",
    "plt.show();\n"
   ]
  },
  {
   "cell_type": "code",
   "execution_count": null,
   "id": "de783bc0-f18b-4ea9-bb62-c388835e6ef5",
   "metadata": {},
   "outputs": [],
   "source": [
    "nx, ny = 100, 100 # Set less validation points for SPINN otherwise GPU memory explodes\n",
    "val_xy_data = [jnp.linspace(xmin, xmax, nx),\n",
    "               jnp.linspace(ymin, ymax, ny)\n",
    "              ]\n",
    "\n",
    "\n",
    "times = [0, 0.2, 0.55, 0.8, 0.99] # times in the rescaled time susescale\n",
    "u_est = lambda t, x: u(t, x, params.nn_params)\n",
    "jinns.plot.plot2d(\n",
    "    fun=u_est,\n",
    "    xy_data=val_xy_data,\n",
    "    times = times,\n",
    "    Tmax=Tmax,\n",
    "    title=\"u0(x,y)\",\n",
    "    figsize=(10, 10*len(times)),\n",
    "    spinn=True\n",
    ")\n"
   ]
  },
  {
   "cell_type": "markdown",
   "id": "6709327e-88c9-4381-bdf4-94eb5c64a55a",
   "metadata": {},
   "source": [
    "## 3) Conclusion"
   ]
  },
  {
   "cell_type": "markdown",
   "id": "d2085e20-6a24-4e9d-948e-d12e3c53dc29",
   "metadata": {},
   "source": [
    "We solved this 2D non-stationary Fokker-Planck PDE using both PINNs and SPINNs. PINNs end up with a more accurate estimation. A speed advantage goes to SPINN but the PINN approach really benefits from RAR sampling to obtain a more accurate estimation in fine. Note that the SPINN setting should be fine-tuned."
   ]
  },
  {
   "cell_type": "code",
   "execution_count": null,
   "id": "09045b79-cf53-4f45-adf5-c297d203de27",
   "metadata": {},
   "outputs": [],
   "source": []
  }
 ],
 "metadata": {
  "kernelspec": {
   "display_name": "Python 3 (ipykernel)",
   "language": "python",
   "name": "python3"
  },
  "language_info": {
   "codemirror_mode": {
    "name": "ipython",
    "version": 3
   },
   "file_extension": ".py",
   "mimetype": "text/x-python",
   "name": "python",
   "nbconvert_exporter": "python",
   "pygments_lexer": "ipython3",
   "version": "3.11.2"
  },
  "vscode": {
   "interpreter": {
    "hash": "991718e94fb5d91fa62c7598521d2199c208ff1ff700f1ac060f334be0bee194"
   }
  }
 },
 "nbformat": 4,
 "nbformat_minor": 5
}
