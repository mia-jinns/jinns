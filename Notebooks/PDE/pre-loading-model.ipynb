{
 "cells": [
  {
   "cell_type": "code",
   "execution_count": 1,
   "id": "9db62726-6ab6-420e-8b8d-87b8f7764388",
   "metadata": {},
   "outputs": [],
   "source": [
    "%load_ext autoreload\n",
    "%autoreload 2\n",
    "%matplotlib inline"
   ]
  },
  {
   "cell_type": "code",
   "execution_count": 2,
   "id": "a2cfb15a-6bd8-4090-bcd1-f5a17a17b1c9",
   "metadata": {},
   "outputs": [
    {
     "name": "stderr",
     "output_type": "stream",
     "text": [
      "CUDA backend failed to initialize: Unable to load CUDA. Is it installed? (Set TF_CPP_MIN_LOG_LEVEL=0 and rerun for more info.)\n"
     ]
    }
   ],
   "source": [
    "import jinns\n",
    "import jax\n",
    "from jax import random, vmap\n",
    "import jax.numpy as jnp\n",
    "import equinox as eqx\n",
    "from functools import partial\n",
    "\n",
    "import matplotlib.pyplot as plt\n",
    "\n",
    "key = random.PRNGKey(2)\n"
   ]
  },
  {
   "cell_type": "markdown",
   "id": "58deade3-4806-4804-904b-d4c88d45fb28",
   "metadata": {},
   "source": [
    "# Pre-create the same pytree structure"
   ]
  },
  {
   "cell_type": "code",
   "execution_count": 3,
   "id": "b61c1dd7-4eeb-4b29-b5fd-d635937ffb3d",
   "metadata": {},
   "outputs": [],
   "source": [
    "eqx_list = [\n",
    "    [eqx.nn.Linear, 3, 16],\n",
    "    [jax.nn.swish],\n",
    "    [eqx.nn.Linear, 16, 16],\n",
    "    [jax.nn.swish],\n",
    "    [eqx.nn.Linear, 16, 16],\n",
    "    [jax.nn.swish],\n",
    "    [eqx.nn.Linear, 16, 16],\n",
    "    [jax.nn.swish],\n",
    "    [eqx.nn.Linear, 16, 16],\n",
    "    [jax.nn.swish],\n",
    "    [eqx.nn.Linear, 16, 16],\n",
    "    [jax.nn.swish],\n",
    "    [eqx.nn.Linear, 16, 1],\n",
    "    #[jax.nn.softplus]\n",
    "]\n",
    "\n",
    "eqx_list_hyper = [\n",
    "    [eqx.nn.Linear, 2, 32], # input is of size 2 for scalar D and scalar r\n",
    "    [jax.nn.tanh],\n",
    "    [eqx.nn.Linear, 32, 32],\n",
    "    [jax.nn.tanh],\n",
    "    [eqx.nn.Linear, 32, 32],\n",
    "    [jax.nn.tanh],\n",
    "    [eqx.nn.Linear, 32, 32],\n",
    "    [jax.nn.tanh],\n",
    "    [eqx.nn.Linear, 32, 32],\n",
    "    [jax.nn.tanh],\n",
    "    [eqx.nn.Linear, 32, 32],\n",
    "    [jax.nn.tanh],\n",
    "    [eqx.nn.Linear, 32, 1000], # 1000 is a random guess, it will automatically be filled with the correct value\n",
    "]\n",
    "key, subkey = random.split(key)\n",
    "\n",
    "hyperparams = [\"D\", \"r\"]\n",
    "hypernet_input_size = 2\n",
    "\n",
    "dim_x = 2\n",
    "\n",
    "u_structure = jinns.utils.create_HYPERPINN(subkey, eqx_list, \"nonstatio_PDE\", hyperparams, hypernet_input_size, dim_x, eqx_list_hyper=eqx_list_hyper)"
   ]
  },
  {
   "cell_type": "code",
   "execution_count": 4,
   "id": "71080568-89fa-4d36-a81e-79edd0e0796c",
   "metadata": {},
   "outputs": [
    {
     "ename": "FileNotFoundError",
     "evalue": "[Errno 2] No such file or directory: 'metamodel-reacdiff-30000iter-model.eqx'",
     "output_type": "error",
     "traceback": [
      "\u001b[0;31m---------------------------------------------------------------------------\u001b[0m",
      "\u001b[0;31mFileNotFoundError\u001b[0m                         Traceback (most recent call last)",
      "Cell \u001b[0;32mIn[4], line 7\u001b[0m\n\u001b[1;32m      4\u001b[0m filename \u001b[38;5;241m=\u001b[39m \u001b[38;5;124mf\u001b[39m\u001b[38;5;124m\"\u001b[39m\u001b[38;5;124m./metamodel-reacdiff-\u001b[39m\u001b[38;5;132;01m{\u001b[39;00mn_iter\u001b[38;5;132;01m}\u001b[39;00m\u001b[38;5;124miter\u001b[39m\u001b[38;5;124m\"\u001b[39m  \n\u001b[1;32m      6\u001b[0m \u001b[38;5;66;03m# deserialize the hyperPINN\u001b[39;00m\n\u001b[0;32m----> 7\u001b[0m u \u001b[38;5;241m=\u001b[39m \u001b[43meqx\u001b[49m\u001b[38;5;241;43m.\u001b[39;49m\u001b[43mtree_deserialise_leaves\u001b[49m\u001b[43m(\u001b[49m\u001b[43mfilename\u001b[49m\u001b[43m \u001b[49m\u001b[38;5;241;43m+\u001b[39;49m\u001b[43m \u001b[49m\u001b[38;5;124;43m\"\u001b[39;49m\u001b[38;5;124;43m-model.eqx\u001b[39;49m\u001b[38;5;124;43m\"\u001b[39;49m\u001b[43m,\u001b[49m\u001b[43m \u001b[49m\u001b[43mu_structure\u001b[49m\u001b[43m)\u001b[49m\n\u001b[1;32m      8\u001b[0m jax\u001b[38;5;241m.\u001b[39mtree_util\u001b[38;5;241m.\u001b[39mtree_structure(u) \u001b[38;5;241m==\u001b[39m jax\u001b[38;5;241m.\u001b[39mtree_util\u001b[38;5;241m.\u001b[39mtree_structure(u_structure)\n\u001b[1;32m     10\u001b[0m \u001b[38;5;66;03m# unpickle param\u001b[39;00m\n",
      "File \u001b[0;32m~/anaconda3/envs/private-jinns/lib/python3.11/site-packages/equinox/_serialisation.py:319\u001b[0m, in \u001b[0;36mtree_deserialise_leaves\u001b[0;34m(path_or_file, like, filter_spec, is_leaf)\u001b[0m\n\u001b[1;32m    248\u001b[0m \u001b[38;5;28;01mdef\u001b[39;00m \u001b[38;5;21mtree_deserialise_leaves\u001b[39m(\n\u001b[1;32m    249\u001b[0m     path_or_file: Union[\u001b[38;5;28mstr\u001b[39m, pathlib\u001b[38;5;241m.\u001b[39mPath, BinaryIO],\n\u001b[1;32m    250\u001b[0m     like: PyTree,\n\u001b[1;32m    251\u001b[0m     filter_spec\u001b[38;5;241m=\u001b[39mdefault_deserialise_filter_spec,\n\u001b[1;32m    252\u001b[0m     is_leaf: Optional[Callable[[Any], \u001b[38;5;28mbool\u001b[39m]] \u001b[38;5;241m=\u001b[39m \u001b[38;5;28;01mNone\u001b[39;00m,\n\u001b[1;32m    253\u001b[0m ) \u001b[38;5;241m-\u001b[39m\u001b[38;5;241m>\u001b[39m PyTree:\n\u001b[1;32m    254\u001b[0m \u001b[38;5;250m    \u001b[39m\u001b[38;5;124;03m\"\"\"Load the leaves of a PyTree from a file.\u001b[39;00m\n\u001b[1;32m    255\u001b[0m \n\u001b[1;32m    256\u001b[0m \u001b[38;5;124;03m    **Arguments:**\u001b[39;00m\n\u001b[0;32m   (...)\u001b[0m\n\u001b[1;32m    317\u001b[0m \u001b[38;5;124;03m        corresponding sub-PyTree of `pytree`.\u001b[39;00m\n\u001b[1;32m    318\u001b[0m \u001b[38;5;124;03m    \"\"\"\u001b[39;00m  \u001b[38;5;66;03m# noqa: E501\u001b[39;00m\n\u001b[0;32m--> 319\u001b[0m \u001b[43m    \u001b[49m\u001b[38;5;28;43;01mwith\u001b[39;49;00m\u001b[43m \u001b[49m\u001b[43m_maybe_open\u001b[49m\u001b[43m(\u001b[49m\u001b[43mpath_or_file\u001b[49m\u001b[43m,\u001b[49m\u001b[43m \u001b[49m\u001b[38;5;124;43m\"\u001b[39;49m\u001b[38;5;124;43mrb\u001b[39;49m\u001b[38;5;124;43m\"\u001b[39;49m\u001b[43m)\u001b[49m\u001b[43m \u001b[49m\u001b[38;5;28;43;01mas\u001b[39;49;00m\u001b[43m \u001b[49m\u001b[43mf\u001b[49m\u001b[43m:\u001b[49m\n\u001b[1;32m    321\u001b[0m \u001b[43m        \u001b[49m\u001b[38;5;28;43;01mdef\u001b[39;49;00m\u001b[43m \u001b[49m\u001b[38;5;21;43m_deserialise\u001b[39;49m\u001b[43m(\u001b[49m\u001b[43mspec\u001b[49m\u001b[43m,\u001b[49m\u001b[43m \u001b[49m\u001b[43mx\u001b[49m\u001b[43m)\u001b[49m\u001b[43m:\u001b[49m\n\u001b[1;32m    322\u001b[0m \u001b[43m            \u001b[49m\u001b[38;5;28;43;01mdef\u001b[39;49;00m\u001b[43m \u001b[49m\u001b[38;5;21;43m__deserialise\u001b[39;49m\u001b[43m(\u001b[49m\u001b[43my\u001b[49m\u001b[43m)\u001b[49m\u001b[43m:\u001b[49m\n",
      "File \u001b[0;32m~/anaconda3/envs/private-jinns/lib/python3.11/contextlib.py:137\u001b[0m, in \u001b[0;36m_GeneratorContextManager.__enter__\u001b[0;34m(self)\u001b[0m\n\u001b[1;32m    135\u001b[0m \u001b[38;5;28;01mdel\u001b[39;00m \u001b[38;5;28mself\u001b[39m\u001b[38;5;241m.\u001b[39margs, \u001b[38;5;28mself\u001b[39m\u001b[38;5;241m.\u001b[39mkwds, \u001b[38;5;28mself\u001b[39m\u001b[38;5;241m.\u001b[39mfunc\n\u001b[1;32m    136\u001b[0m \u001b[38;5;28;01mtry\u001b[39;00m:\n\u001b[0;32m--> 137\u001b[0m     \u001b[38;5;28;01mreturn\u001b[39;00m \u001b[38;5;28mnext\u001b[39m(\u001b[38;5;28mself\u001b[39m\u001b[38;5;241m.\u001b[39mgen)\n\u001b[1;32m    138\u001b[0m \u001b[38;5;28;01mexcept\u001b[39;00m \u001b[38;5;167;01mStopIteration\u001b[39;00m:\n\u001b[1;32m    139\u001b[0m     \u001b[38;5;28;01mraise\u001b[39;00m \u001b[38;5;167;01mRuntimeError\u001b[39;00m(\u001b[38;5;124m\"\u001b[39m\u001b[38;5;124mgenerator didn\u001b[39m\u001b[38;5;124m'\u001b[39m\u001b[38;5;124mt yield\u001b[39m\u001b[38;5;124m\"\u001b[39m) \u001b[38;5;28;01mfrom\u001b[39;00m \u001b[38;5;28;01mNone\u001b[39;00m\n",
      "File \u001b[0;32m~/anaconda3/envs/private-jinns/lib/python3.11/site-packages/equinox/_serialisation.py:156\u001b[0m, in \u001b[0;36m_maybe_open\u001b[0;34m(path_or_file, mode)\u001b[0m\n\u001b[1;32m    153\u001b[0m \u001b[38;5;250m\u001b[39m\u001b[38;5;124;03m\"\"\"A function that unifies handling of file objects and path-like objects\u001b[39;00m\n\u001b[1;32m    154\u001b[0m \u001b[38;5;124;03mby opening the latter.\"\"\"\u001b[39;00m\n\u001b[1;32m    155\u001b[0m \u001b[38;5;28;01mif\u001b[39;00m \u001b[38;5;28misinstance\u001b[39m(path_or_file, (\u001b[38;5;28mstr\u001b[39m, pathlib\u001b[38;5;241m.\u001b[39mPath)):\n\u001b[0;32m--> 156\u001b[0m     file \u001b[38;5;241m=\u001b[39m \u001b[38;5;28;43mopen\u001b[39;49m\u001b[43m(\u001b[49m\u001b[43m_with_suffix\u001b[49m\u001b[43m(\u001b[49m\u001b[43mpath_or_file\u001b[49m\u001b[43m)\u001b[49m\u001b[43m,\u001b[49m\u001b[43m \u001b[49m\u001b[43mmode\u001b[49m\u001b[43m)\u001b[49m\n\u001b[1;32m    157\u001b[0m     \u001b[38;5;28;01mtry\u001b[39;00m:\n\u001b[1;32m    158\u001b[0m         \u001b[38;5;28;01myield\u001b[39;00m file\n",
      "\u001b[0;31mFileNotFoundError\u001b[0m: [Errno 2] No such file or directory: 'metamodel-reacdiff-30000iter-model.eqx'"
     ]
    }
   ],
   "source": [
    "import pickle\n",
    "\n",
    "n_iter = 30000\n",
    "filename = f\"./metamodel-reacdiff-{n_iter}iter\"  \n",
    "\n",
    "# deserialize the hyperPINN\n",
    "u = eqx.tree_deserialise_leaves(filename + \"-model.eqx\", u_structure)\n",
    "jax.tree_util.tree_structure(u) == jax.tree_util.tree_structure(u_structure)\n",
    "\n",
    "# unpickle param\n",
    "with open(filename + \"-parameters.pkl\", 'rb') as f:\n",
    "    params = pickle.load(f)\n"
   ]
  },
  {
   "cell_type": "code",
   "execution_count": null,
   "id": "1bb3afa6-d858-4663-93ff-d3729b9c5002",
   "metadata": {},
   "outputs": [],
   "source": [
    "Tmax = 50\n",
    "xmin = 0\n",
    "xmax = 50\n",
    "ymin = 0\n",
    "ymax = 50\n",
    "\n",
    "Tmax = 50\n",
    "\n",
    "g = 1\n",
    "\n",
    "t_ind = jnp.array([0, 1, 10, 25, 48, 50])\n",
    "times = jnp.round(t_ind * 1. / Tmax, decimals=2) \n",
    "nx, ny = 50, 50\n",
    "val_xy_data = [\n",
    "    jnp.linspace(xmin, xmax, nx),\n",
    "    jnp.linspace(ymin, ymax, ny)\n",
    "]"
   ]
  },
  {
   "cell_type": "code",
   "execution_count": null,
   "id": "06d5eb90-f7fa-4cf5-a503-14adf8383397",
   "metadata": {},
   "outputs": [],
   "source": [
    "u_est = lambda t, x: u(t, x, {\"nn_params\":params[\"nn_params\"], \"eq_params\":{\"g\":g, \"D\":jnp.array([0.5]), \"r\":jnp.array([0])}})\n",
    "jinns.data.plot2d(\n",
    "    fun=u_est,\n",
    "    xy_data=val_xy_data,\n",
    "    times = times,\n",
    "    Tmax=Tmax,\n",
    "    title=\"u0(x,y)\",\n",
    "    figsize=(20, 20*len(times))\n",
    ")"
   ]
  },
  {
   "cell_type": "markdown",
   "id": "95eeb640-4c82-4960-9129-25ce841e932c",
   "metadata": {},
   "source": [
    "# Diffrax finite difference solver"
   ]
  },
  {
   "cell_type": "code",
   "execution_count": null,
   "id": "b3b69447-a8aa-4bae-ad8f-a457ef14d03a",
   "metadata": {},
   "outputs": [],
   "source": [
    "from jinns.experimental import SpatialDiscretisation, plot_diffrax_solution, reaction_diffusion_2d_vector_field\n",
    "import diffrax\n",
    "\n",
    "# Spatial discretisation\n",
    "xmin, xmax = 0, 50\n",
    "ymin, ymax = 0, 50\n",
    "nx, ny = 50, 50\n",
    "\n",
    "y0 = SpatialDiscretisation.discretise_fn(xmin, xmax, ymin, ymax, nx, ny, u0)\n",
    "\n",
    "# Temporal discretisation\n",
    "times_save_dfx = jnp.arange(0, Tmax+1)\n",
    "\n",
    "# Tolerances for non-stiff problems\n",
    "rtol = 1e-3\n",
    "atol = 1e-6\n",
    "# Tolerances for stiff problems (along with using float64)\n",
    "# rtol = 1e-7\n",
    "# atol = 1e-9\n",
    "stepsize_controller = diffrax.PIDController(\n",
    "    pcoeff=0.3, icoeff=0.4, rtol=rtol, atol=atol, dtmax=1\n",
    ")\n",
    "\n",
    "solver = diffrax.Dopri5()\n",
    "max_steps = int(1e6)\n",
    "saveat = (times_save_dfx,)\n",
    "\n",
    "xbounds = (xmin, xmax)\n",
    "ybounds = (ymin, ymax)\n",
    "\n",
    "dt0 = 0.05\n",
    "diffeqsolve_kwargs = {\n",
    "    \"t0\": 0,\n",
    "    \"t1\": int(times_save_dfx.max()),\n",
    "    \"dt0\": dt0,\n",
    "    \"y0\": y0,\n",
    "    \"saveat\": diffrax.SaveAt(ts=times_save_dfx),\n",
    "    \"stepsize_controller\": stepsize_controller,\n",
    "    \"max_steps\": max_steps,\n",
    "    \"solver\": solver,\n",
    "}"
   ]
  },
  {
   "cell_type": "code",
   "execution_count": null,
   "id": "3cd51723-18d5-47a1-a53e-47ccb6b34233",
   "metadata": {},
   "outputs": [],
   "source": [
    "\n",
    "\n",
    "term = diffrax.ODETerm(reaction_diffusion_2d_vector_field)\n",
    "diffrax_solution = diffrax.diffeqsolve(term, **diffeqsolve_kwargs)\n",
    "print(f\"r={float(r):.2f},D={float(D):.2f}\")\n",
    "plot_diffrax_solution(diffrax_solution, xbounds, ybounds, t_ind=t_ind)"
   ]
  }
 ],
 "metadata": {
  "kernelspec": {
   "display_name": "Python 3 (ipykernel)",
   "language": "python",
   "name": "python3"
  },
  "language_info": {
   "codemirror_mode": {
    "name": "ipython",
    "version": 3
   },
   "file_extension": ".py",
   "mimetype": "text/x-python",
   "name": "python",
   "nbconvert_exporter": "python",
   "pygments_lexer": "ipython3",
   "version": "3.11.7"
  }
 },
 "nbformat": 4,
 "nbformat_minor": 5
}
