{
 "cells": [
  {
   "cell_type": "code",
   "execution_count": 1,
   "metadata": {},
   "outputs": [],
   "source": [
    "%load_ext autoreload\n",
    "%autoreload 2"
   ]
  },
  {
   "cell_type": "markdown",
   "metadata": {},
   "source": [
    "# An inverse problem of the Navier-Stokes equation\n",
    "\n",
    "Benchmark on the Inverse problem for the Navier-Stokes system as proposed in DeepXDE documentation: https://github.com/lululxvi/deepxde/blob/master/examples/pinn_inverse/Navier_Stokes_inverse.py.\n"
   ]
  },
  {
   "cell_type": "code",
   "execution_count": 2,
   "metadata": {},
   "outputs": [],
   "source": [
    "import numpy as np\n",
    "from scipy.io import loadmat\n",
    "\n",
    "# from PINNACLE\n",
    "DEFAULT_NUM_DOMAIN_POINTS = 700\n",
    "DEFAULT_NUM_BOUNDARY_POINTS = 200\n",
    "DEFAULT_NUM_INITIAL_POINTS = 100\n",
    "\n",
    "# Load training data\n",
    "def load_training_data(num):\n",
    "    data = loadmat(\"cylinder_nektar_wake.mat\")\n",
    "    U_star = data[\"U_star\"]  # N x 2 x T\n",
    "    P_star = data[\"p_star\"]  # N x T\n",
    "    t_star = data[\"t\"]  # T x 1\n",
    "    X_star = data[\"X_star\"]  # N x 2\n",
    "    N = X_star.shape[0]\n",
    "    T = t_star.shape[0]\n",
    "    # Rearrange Data\n",
    "    XX = np.tile(X_star[:, 0:1], (1, T))  # N x T\n",
    "    YY = np.tile(X_star[:, 1:2], (1, T))  # N x T\n",
    "    TT = np.tile(t_star, (1, N)).T  # N x T\n",
    "    UU = U_star[:, 0, :]  # N x T\n",
    "    VV = U_star[:, 1, :]  # N x T\n",
    "    PP = P_star  # N x T\n",
    "    x = XX.flatten()[:, None]  # NT x 1\n",
    "    y = YY.flatten()[:, None]  # NT x 1\n",
    "    t = TT.flatten()[:, None]  # NT x 1\n",
    "    u = UU.flatten()[:, None]  # NT x 1\n",
    "    v = VV.flatten()[:, None]  # NT x 1\n",
    "    p = PP.flatten()[:, None]  # NT x 1\n",
    "    # training domain: X × Y = [1, 8] × [−2, 2] and T = [0, 7]\n",
    "    data1 = np.concatenate([x, y, t, u, v, p], 1)\n",
    "    data2 = data1[:, :][data1[:, 2] <= 7]\n",
    "    data3 = data2[:, :][data2[:, 0] >= 1]\n",
    "    data4 = data3[:, :][data3[:, 0] <= 8]\n",
    "    data5 = data4[:, :][data4[:, 1] >= -2]\n",
    "    data_domain = data5[:, :][data5[:, 1] <= 2]\n",
    "    # choose number of training points: num =7000\n",
    "    idx = np.random.choice(data_domain.shape[0], num, replace=False)\n",
    "    x_train = data_domain[idx, 0:1]\n",
    "    y_train = data_domain[idx, 1:2]\n",
    "    t_train = data_domain[idx, 2:3]\n",
    "    u_train = data_domain[idx, 3:4]\n",
    "    v_train = data_domain[idx, 4:5]\n",
    "    p_train = data_domain[idx, 5:6]\n",
    "    return [x_train, y_train, t_train, u_train, v_train, p_train]\n",
    "\n",
    "C1_init = 0.0\n",
    "C2_init = 0.0"
   ]
  },
  {
   "cell_type": "markdown",
   "metadata": {},
   "source": [
    "## DeepXDE\n",
    "\n",
    "\n",
    "We use the tensorflow backend as JAX backend is not available"
   ]
  },
  {
   "cell_type": "code",
   "execution_count": 3,
   "metadata": {},
   "outputs": [],
   "source": [
    "seed = 1"
   ]
  },
  {
   "cell_type": "code",
   "execution_count": 11,
   "metadata": {},
   "outputs": [
    {
     "name": "stdout",
     "output_type": "stream",
     "text": [
      "Compiling model...\n",
      "'compile' took 0.003771 s\n",
      "\n",
      "Training model...\n",
      "\n"
     ]
    },
    {
     "name": "stderr",
     "output_type": "stream",
     "text": [
      "WARNING: All log messages before absl::InitializeLog() is called are written to STDERR\n",
      "I0000 00:00:1732716395.537300   55364 service.cc:148] XLA service 0xd31c700 initialized for platform CUDA (this does not guarantee that XLA will be used). Devices:\n",
      "I0000 00:00:1732716395.537324   55364 service.cc:156]   StreamExecutor device (0): NVIDIA T600 Laptop GPU, Compute Capability 7.5\n",
      "2024-11-27 15:06:35.568262: I tensorflow/compiler/mlir/tensorflow/utils/dump_mlir_util.cc:268] disabling MLIR crash reproducer, set env var `MLIR_CRASH_REPRODUCER_DIRECTORY` to enable.\n",
      "I0000 00:00:1732716395.762617   55364 cuda_dnn.cc:529] Loaded cuDNN version 90300\n",
      "2024-11-27 15:06:36.495321: W external/local_xla/xla/service/gpu/nvptx_compiler.cc:930] The NVIDIA driver's CUDA version is 12.2 which is older than the PTX compiler version 12.3.107. Because the driver is older than the PTX compiler version, XLA is disabling parallel compilation, which may slow down compilation. You should update your NVIDIA driver or use the NVIDIA-provided CUDA forward compatibility packages.\n",
      "I0000 00:00:1732716396.799841   55364 device_compiler.h:188] Compiled cluster using XLA!  This line is logged at most once for the lifetime of the process.\n"
     ]
    },
    {
     "name": "stdout",
     "output_type": "stream",
     "text": [
      "Step      Train loss                                            Test loss                                             Test metric\n",
      "0         [7.44e-03, 4.65e-03, 7.73e-03, 1.24e+00, 9.85e-02]    [7.44e-03, 4.65e-03, 7.73e-03, 1.24e+00, 9.85e-02]    []  \n",
      "1000      [9.23e-04, 1.06e-03, 1.12e-03, 4.55e-03, 8.62e-03]    [9.23e-04, 1.06e-03, 1.12e-03, 4.55e-03, 8.62e-03]    []  \n",
      "2000      [3.18e-04, 6.57e-04, 5.69e-04, 1.56e-03, 2.14e-03]    [3.18e-04, 6.57e-04, 5.69e-04, 1.56e-03, 2.14e-03]    []  \n",
      "3000      [2.57e-04, 4.83e-04, 3.85e-04, 9.80e-04, 1.34e-03]    [2.57e-04, 4.83e-04, 3.85e-04, 9.80e-04, 1.34e-03]    []  \n",
      "4000      [3.22e-04, 5.19e-04, 3.18e-04, 7.56e-04, 1.38e-03]    [3.22e-04, 5.19e-04, 3.18e-04, 7.56e-04, 1.38e-03]    []  \n",
      "5000      [1.61e-04, 2.68e-04, 2.28e-04, 5.26e-04, 7.13e-04]    [1.61e-04, 2.68e-04, 2.28e-04, 5.26e-04, 7.13e-04]    []  \n",
      "6000      [1.79e-04, 2.94e-04, 2.89e-04, 7.17e-04, 6.32e-04]    [1.79e-04, 2.94e-04, 2.89e-04, 7.17e-04, 6.32e-04]    []  \n",
      "7000      [1.32e-04, 1.88e-04, 1.73e-04, 3.73e-04, 4.44e-04]    [1.32e-04, 1.88e-04, 1.73e-04, 3.73e-04, 4.44e-04]    []  \n",
      "8000      [1.08e-04, 1.56e-04, 1.48e-04, 2.67e-04, 3.26e-04]    [1.08e-04, 1.56e-04, 1.48e-04, 2.67e-04, 3.26e-04]    []  \n",
      "9000      [9.22e-05, 1.36e-04, 1.29e-04, 2.12e-04, 2.38e-04]    [9.22e-05, 1.36e-04, 1.29e-04, 2.12e-04, 2.38e-04]    []  \n",
      "10000     [7.81e-05, 1.41e-04, 1.37e-04, 2.65e-04, 1.73e-04]    [7.81e-05, 1.41e-04, 1.37e-04, 2.65e-04, 1.73e-04]    []  \n",
      "\n",
      "Best model at step 10000:\n",
      "  train loss: 7.95e-04\n",
      "  test loss: 7.95e-04\n",
      "  test metric: []\n",
      "\n",
      "'train' took 590.234503 s\n",
      "\n",
      "Saving loss history to /home/hugo/Documents/recherche/pinn/gitlab/benchmarks/Navier_Stokes_inverse/loss.dat ...\n",
      "Saving training data to /home/hugo/Documents/recherche/pinn/gitlab/benchmarks/Navier_Stokes_inverse/train.dat ...\n",
      "Saving test data to /home/hugo/Documents/recherche/pinn/gitlab/benchmarks/Navier_Stokes_inverse/test.dat ...\n"
     ]
    },
    {
     "data": {
      "image/png": "[encoded data removed]",
      "text/plain": [
       "<Figure size 640x480 with 1 Axes>"
      ]
     },
     "metadata": {},
     "output_type": "display_data"
    },
    {
     "name": "stdout",
     "output_type": "stream",
     "text": [
      "Compiling model...\n",
      "'compile' took 0.002588 s\n",
      "\n",
      "Training model...\n",
      "\n",
      "Step      Train loss                                            Test loss                                             Test metric\n",
      "10000     [7.81e-05, 1.41e-04, 1.37e-04, 2.65e-04, 1.73e-04]    [7.81e-05, 1.41e-04, 1.37e-04, 2.65e-04, 1.73e-04]    []  \n",
      "11000     [6.25e-05, 1.00e-04, 9.72e-05, 1.40e-04, 1.28e-04]    [6.25e-05, 1.00e-04, 9.72e-05, 1.40e-04, 1.28e-04]    []  \n",
      "12000     [5.40e-05, 8.90e-05, 8.57e-05, 1.22e-04, 1.05e-04]    [5.40e-05, 8.90e-05, 8.57e-05, 1.22e-04, 1.05e-04]    []  \n",
      "13000     [4.71e-05, 7.94e-05, 7.67e-05, 1.00e-04, 8.87e-05]    [4.71e-05, 7.94e-05, 7.67e-05, 1.00e-04, 8.87e-05]    []  \n",
      "14000     [4.28e-05, 7.14e-05, 6.94e-05, 8.98e-05, 7.77e-05]    [4.28e-05, 7.14e-05, 6.94e-05, 8.98e-05, 7.77e-05]    []  \n",
      "15000     [3.92e-05, 6.49e-05, 6.35e-05, 7.58e-05, 6.91e-05]    [3.92e-05, 6.49e-05, 6.35e-05, 7.58e-05, 6.91e-05]    []  \n",
      "16000     [3.67e-05, 5.97e-05, 5.86e-05, 6.73e-05, 6.35e-05]    [3.67e-05, 5.97e-05, 5.86e-05, 6.73e-05, 6.35e-05]    []  \n",
      "17000     [3.41e-05, 5.44e-05, 5.41e-05, 6.04e-05, 5.73e-05]    [3.41e-05, 5.44e-05, 5.41e-05, 6.04e-05, 5.73e-05]    []  \n",
      "18000     [3.22e-05, 5.03e-05, 5.04e-05, 5.46e-05, 5.31e-05]    [3.22e-05, 5.03e-05, 5.04e-05, 5.46e-05, 5.31e-05]    []  \n",
      "19000     [3.04e-05, 4.66e-05, 4.72e-05, 4.99e-05, 4.95e-05]    [3.04e-05, 4.66e-05, 4.72e-05, 4.99e-05, 4.95e-05]    []  \n",
      "20000     [2.88e-05, 4.34e-05, 4.43e-05, 4.59e-05, 4.65e-05]    [2.88e-05, 4.34e-05, 4.43e-05, 4.59e-05, 4.65e-05]    []  \n",
      "\n",
      "Best model at step 20000:\n",
      "  train loss: 2.09e-04\n",
      "  test loss: 2.09e-04\n",
      "  test metric: []\n",
      "\n",
      "'train' took 584.924086 s\n",
      "\n",
      "Saving loss history to /home/hugo/Documents/recherche/pinn/gitlab/benchmarks/Navier_Stokes_inverse/loss.dat ...\n",
      "Saving training data to /home/hugo/Documents/recherche/pinn/gitlab/benchmarks/Navier_Stokes_inverse/train.dat ...\n",
      "Saving test data to /home/hugo/Documents/recherche/pinn/gitlab/benchmarks/Navier_Stokes_inverse/test.dat ...\n"
     ]
    },
    {
     "data": {
      "image/png": "[encoded data removed]",
      "text/plain": [
       "<Figure size 640x480 with 1 Axes>"
      ]
     },
     "metadata": {},
     "output_type": "display_data"
    },
    {
     "name": "stdout",
     "output_type": "stream",
     "text": [
      "Mean residual: 0.0043853903\n"
     ]
    }
   ],
   "source": [
    "import os\n",
    "os.environ[\"DDE_BACKEND\"]=\"tensorflow\"\n",
    "import deepxde as dde\n",
    "\n",
    "# Determinism may reduce performance in DeepXDE (see doc) but needs to\n",
    "# be set for a fair comparison with Jinns\n",
    "# https://deepxde.readthedocs.io/en/stable/modules/deepxde.html#deepxde.config.set_random_seed\n",
    "dde.config.set_random_seed(seed)\n",
    "\n",
    "C1 = dde.Variable(C1_init)\n",
    "C2 = dde.Variable(C2_init)\n",
    "\n",
    "# Define Navier Stokes Equations (Time-dependent PDEs)\n",
    "def Navier_Stokes_Equation(x, y):\n",
    "    u = y[:, 0:1]\n",
    "    v = y[:, 1:2]\n",
    "    p = y[:, 2:3]\n",
    "    du_x = dde.grad.jacobian(y, x, i=0, j=0)\n",
    "    du_y = dde.grad.jacobian(y, x, i=0, j=1)\n",
    "    du_t = dde.grad.jacobian(y, x, i=0, j=2)\n",
    "    dv_x = dde.grad.jacobian(y, x, i=1, j=0)\n",
    "    dv_y = dde.grad.jacobian(y, x, i=1, j=1)\n",
    "    dv_t = dde.grad.jacobian(y, x, i=1, j=2)\n",
    "    dp_x = dde.grad.jacobian(y, x, i=2, j=0)\n",
    "    dp_y = dde.grad.jacobian(y, x, i=2, j=1)\n",
    "    du_xx = dde.grad.hessian(y, x, component=0, i=0, j=0)\n",
    "    du_yy = dde.grad.hessian(y, x, component=0, i=1, j=1)\n",
    "    dv_xx = dde.grad.hessian(y, x, component=1, i=0, j=0)\n",
    "    dv_yy = dde.grad.hessian(y, x, component=1, i=1, j=1)\n",
    "    continuity = du_x + dv_y\n",
    "    x_momentum = du_t + C1 * (u * du_x + v * du_y) + dp_x - C2 * (du_xx + du_yy)\n",
    "    y_momentum = dv_t + C1 * (u * dv_x + v * dv_y) + dp_y - C2 * (dv_xx + dv_yy)\n",
    "    return [continuity, x_momentum, y_momentum]\n",
    "\n",
    "# Define Spatio-temporal domain\n",
    "# Rectangular\n",
    "Lx_min, Lx_max = 1.0, 8.0\n",
    "Ly_min, Ly_max = -2.0, 2.0\n",
    "# Spatial domain: X × Y = [1, 8] × [−2, 2]\n",
    "space_domain = dde.geometry.Rectangle([Lx_min, Ly_min], [Lx_max, Ly_max])\n",
    "# Time domain: T = [0, 7]\n",
    "time_domain = dde.geometry.TimeDomain(0, 7)\n",
    "# Spatio-temporal domain\n",
    "geomtime = dde.geometry.GeometryXTime(space_domain, time_domain)\n",
    "\n",
    "# Get the training data: num = 7000\n",
    "[ob_x, ob_y, ob_t, ob_u, ob_v, ob_p] = load_training_data(num=7000)\n",
    "ob_xyt = np.hstack((ob_x, ob_y, ob_t))\n",
    "observe_u = dde.icbc.PointSetBC(ob_xyt, ob_u, component=0)\n",
    "observe_v = dde.icbc.PointSetBC(ob_xyt, ob_v, component=1)\n",
    "\n",
    "# Training datasets and Loss\n",
    "data = dde.data.TimePDE(\n",
    "    geomtime,\n",
    "    Navier_Stokes_Equation,\n",
    "    [observe_u, observe_v],\n",
    "    num_domain=DEFAULT_NUM_DOMAIN_POINTS,\n",
    "    num_boundary=DEFAULT_NUM_BOUNDARY_POINTS,\n",
    "    num_initial=DEFAULT_NUM_INITIAL_POINTS,\n",
    "    anchors=ob_xyt,\n",
    ")\n",
    "\n",
    "# Neural Network setup\n",
    "layer_size = [3] + [50] * 6 + [3]\n",
    "activation = \"tanh\"\n",
    "initializer = \"Glorot uniform\"\n",
    "net = dde.nn.FNN(layer_size, activation, initializer)\n",
    "model = dde.Model(data, net)\n",
    "\n",
    "# callbacks for storing results\n",
    "fnamevar = \"variables.dat\"\n",
    "variable = dde.callbacks.VariableValue([C1, C2], period=100, filename=fnamevar)\n",
    "\n",
    "# Compile, train and save model\n",
    "model.compile(\"adam\", lr=1e-3, external_trainable_variables=[C1, C2])\n",
    "loss_history, train_state = model.train(\n",
    "    iterations=10000, callbacks=[variable], display_every=1000, disregard_previous_best=True\n",
    ")\n",
    "dde.saveplot(loss_history, train_state, issave=True, isplot=True)\n",
    "model.compile(\"adam\", lr=1e-4, external_trainable_variables=[C1, C2])\n",
    "loss_history, train_state = model.train(\n",
    "    iterations=10000, callbacks=[variable], display_every=1000, disregard_previous_best=True\n",
    ")\n",
    "dde.saveplot(loss_history, train_state, issave=True, isplot=True)\n",
    "# model.save(save_path = \"./NS_inverse_model/model\")\n",
    "f = model.predict(ob_xyt, operator=Navier_Stokes_Equation)\n",
    "print(\"Mean residual:\", np.mean(np.absolute(f)))"
   ]
  },
  {
   "cell_type": "markdown",
   "metadata": {},
   "source": [
    "## With Jinns"
   ]
  },
  {
   "cell_type": "code",
   "execution_count": 4,
   "metadata": {},
   "outputs": [
    {
     "name": "stderr",
     "output_type": "stream",
     "text": [
      "2024-11-27 15:38:23.063760: W external/xla/xla/service/gpu/nvptx_compiler.cc:893] The NVIDIA driver's CUDA version is 12.2 which is older than the PTX compiler version 12.3.107. Because the driver is older than the PTX compiler version, XLA is disabling parallel compilation, which may slow down compilation. You should update your NVIDIA driver or use the NVIDIA-provided CUDA forward compatibility packages.\n"
     ]
    }
   ],
   "source": [
    "import jax\n",
    "import equinox as eqx\n",
    "import jinns\n",
    "import jax.numpy as jnp\n",
    "from jax import grad, vmap, random\n",
    "import optax\n",
    "import time\n",
    "import matplotlib.pyplot as plt\n",
    "\n",
    "key = random.PRNGKey(seed)"
   ]
  },
  {
   "cell_type": "code",
   "execution_count": 5,
   "metadata": {},
   "outputs": [],
   "source": [
    "eqx_list = (\n",
    "    (eqx.nn.Linear, 3, 50),\n",
    "    (jax.nn.tanh,),\n",
    "    (eqx.nn.Linear, 50, 50),\n",
    "    (jax.nn.tanh,),\n",
    "    (eqx.nn.Linear, 50, 50),\n",
    "    (jax.nn.tanh,),\n",
    "    (eqx.nn.Linear, 50, 50),\n",
    "    (jax.nn.tanh,),\n",
    "    (eqx.nn.Linear, 50, 50),\n",
    "    (jax.nn.tanh,),\n",
    "    (eqx.nn.Linear, 50, 50),\n",
    "    (jax.nn.tanh,),\n",
    "    (eqx.nn.Linear, 50, 3)\n",
    ")\n",
    "key, subkey = random.split(key)\n",
    "u_pinn, init_nn_params_pinn = jinns.utils.create_PINN(subkey, eqx_list, \"nonstatio_PDE\", 2)"
   ]
  },
  {
   "cell_type": "code",
   "execution_count": 6,
   "metadata": {},
   "outputs": [
    {
     "name": "stderr",
     "output_type": "stream",
     "text": [
      "/home/hugo/Documents/recherche/pinn/gitlab/jinns/data/_DataGenerators.py:434: UserWarning: Grid sampling is requested in dimension 2 with a non perfect square dataset size (self.n = 700). Modifying self.n to self.n = 676.\n",
      "  warnings.warn(\n"
     ]
    }
   ],
   "source": [
    "n = DEFAULT_NUM_DOMAIN_POINTS\n",
    "ni = DEFAULT_NUM_INITIAL_POINTS\n",
    "nb = DEFAULT_NUM_BOUNDARY_POINTS\n",
    "dim = 2\n",
    "xmin = 1\n",
    "xmax = 8\n",
    "ymin= -2\n",
    "ymax= 2\n",
    "tmin = 0\n",
    "tmax = 7\n",
    "method = \"grid\" # equals \"uniform\" in deepXDE, while \"uniform\" in jinns equals \"pseudo\" in deepXDE\n",
    "\n",
    "train_data = jinns.data.CubicMeshPDENonStatio(\n",
    "    key=subkey,\n",
    "    n=n,\n",
    "    nb=nb,\n",
    "    ni=ni,\n",
    "    dim=dim,\n",
    "    min_pts=(xmin,ymin),\n",
    "    max_pts=(xmax,ymax),\n",
    "    tmin=tmin,\n",
    "    tmax=tmax,\n",
    "    method=method,\n",
    ")"
   ]
  },
  {
   "cell_type": "code",
   "execution_count": 7,
   "metadata": {},
   "outputs": [],
   "source": [
    "# Init parameters for NN and equation\n",
    "init_params_pinn = jinns.parameters.Params(\n",
    "    nn_params=init_nn_params_pinn,\n",
    "    eq_params={\n",
    "        \"C1\":jnp.array(C1_init),\n",
    "        \"C2\":jnp.array(C2_init)\n",
    "    }\n",
    ")"
   ]
  },
  {
   "cell_type": "code",
   "execution_count": 8,
   "metadata": {},
   "outputs": [],
   "source": [
    "from jinns.loss import PDENonStatio\n",
    "\n",
    "class NavierStokes2D(PDENonStatio):\n",
    "    def equation(self, t_x, u_p, params):\n",
    "        u_ = lambda t_x, params: u_p(t_x, params)[0:2]\n",
    "        p_ = lambda t_x, params: u_p(t_x, params)[2]\n",
    "\n",
    "        du_dt = jax.jacrev(u_)(t_x, params)[:, 0]\n",
    "        ux = lambda t_x, params: u_(t_x, params)[0]\n",
    "        uy = lambda t_x, params: u_(t_x, params)[1]\n",
    "    \n",
    "        dux_dx = lambda t_x: grad(ux)(t_x, params)[1]\n",
    "        dux_dy = lambda t_x: grad(ux)(t_x, params)[2]\n",
    "    \n",
    "        duy_dx = lambda t_x: grad(uy)(t_x, params)[1]\n",
    "        duy_dy = lambda t_x: grad(uy)(t_x, params)[2]\n",
    "\n",
    "        dp_dx = lambda t_x: grad(p_)(t_x, params)[1]\n",
    "        dp_dy = lambda t_x: grad(p_)(t_x, params)[2]\n",
    "\n",
    "        return jnp.array(\n",
    "            [\n",
    "                du_dt[0]\n",
    "                    + params.eq_params[\"C1\"] * (ux(t_x, params) * dux_dx(t_x) + uy(t_x, params) * dux_dy(t_x)) + dp_dx(t_x)\n",
    "                    - params.eq_params[\"C2\"] * jinns.loss.laplacian_rev(t_x, lambda t_x, params: ux(t_x, params), params, eq_type=\"nonstatio_PDE\"),\n",
    "                du_dt[1] \n",
    "                    + params.eq_params[\"C1\"] * (ux(t_x, params) * duy_dx(t_x) + uy(t_x, params) * duy_dy(t_x)) + dp_dy(t_x)\n",
    "                    - params.eq_params[\"C2\"] * jinns.loss.laplacian_rev(t_x, lambda t_x, params: uy(t_x, params), params, eq_type=\"nonstatio_PDE\"),\n",
    "                dux_dx(t_x) + duy_dy(t_x),\n",
    "            ]\n",
    "        )\n",
    "ns_loss = NavierStokes2D()"
   ]
  },
  {
   "cell_type": "code",
   "execution_count": 9,
   "metadata": {},
   "outputs": [],
   "source": [
    "loss_weights = jinns.loss.LossWeightsPDENonStatio(\n",
    "    dyn_loss=1, initial_condition=0, boundary_loss=0, observations=1\n",
    ")"
   ]
  },
  {
   "cell_type": "code",
   "execution_count": 10,
   "metadata": {},
   "outputs": [],
   "source": [
    "key, subkey = jax.random.split(key)\n",
    "\n",
    "[ob_x, ob_y, ob_t, ob_u, ob_v, ob_p] = load_training_data(num=7000)\n",
    "ob_t_x = np.hstack((ob_t, ob_x, ob_y))\n",
    "\n",
    "obs_data = jinns.data.DataGeneratorObservations(\n",
    "    subkey,\n",
    "    obs_batch_size=None,\n",
    "    observed_pinn_in=ob_t_x,\n",
    "    observed_values=np.hstack((ob_u, ob_v))\n",
    ")"
   ]
  },
  {
   "cell_type": "code",
   "execution_count": 11,
   "metadata": {},
   "outputs": [],
   "source": [
    "derivative_keys = jinns.parameters.DerivativeKeysPDENonStatio.from_str(\n",
    "    dyn_loss=jinns.parameters.Params(\n",
    "        nn_params = True,\n",
    "        eq_params = {\n",
    "            'C1':True,\n",
    "            'C2':True\n",
    "        }\n",
    "    ),\n",
    "    boundary_loss=\"nn_params\",\n",
    "    initial_condition=\"nn_params\",\n",
    "    observations=\"nn_params\",\n",
    "    params=init_params_pinn\n",
    ")"
   ]
  },
  {
   "cell_type": "code",
   "execution_count": 12,
   "metadata": {},
   "outputs": [
    {
     "name": "stderr",
     "output_type": "stream",
     "text": [
      "/home/hugo/Documents/recherche/pinn/gitlab/jinns/loss/_LossPDE.py:177: UserWarning: Missing boundary function or no boundary condition.Boundary function is thus ignored.\n",
      "  warnings.warn(\n",
      "/home/hugo/Documents/recherche/pinn/gitlab/jinns/loss/_LossPDE.py:592: UserWarning: Initial condition wasn't provided. Be sure to cover for thatcase (e.g by. hardcoding it into the PINN output).\n",
      "  warnings.warn(\n"
     ]
    }
   ],
   "source": [
    "loss_pinn = jinns.loss.LossPDENonStatio(\n",
    "    u=u_pinn,\n",
    "    loss_weights=loss_weights,\n",
    "    dynamic_loss=ns_loss,\n",
    "    derivative_keys=derivative_keys,\n",
    "    omega_boundary_fun=None,\n",
    "    omega_boundary_condition=None,\n",
    "    initial_condition_fun=None,\n",
    "    params=init_params_pinn,\n",
    "    obs_slice=jnp.s_[0:2]\n",
    ")"
   ]
  },
  {
   "cell_type": "code",
   "execution_count": 13,
   "metadata": {},
   "outputs": [],
   "source": [
    "# Training loop in Jinns\n",
    "params_pinn = init_params_pinn\n",
    "tx = optax.adam(learning_rate=1e-3)\n",
    "n_iter = 10000"
   ]
  },
  {
   "cell_type": "code",
   "execution_count": 14,
   "metadata": {},
   "outputs": [
    {
     "name": "stdout",
     "output_type": "stream",
     "text": [
      "\n",
      "Compilation took\n",
      " 8.522966861724854 \n",
      "\n",
      "[train] Iteration 0: loss value = 1.2740693092346191\n",
      "[train] Iteration 1000: loss value = 0.020218467339873314\n",
      "[train] Iteration 2000: loss value = 0.007126626558601856\n",
      "[train] Iteration 3000: loss value = 0.003993477206677198\n",
      "[train] Iteration 4000: loss value = 0.0028624949045479298\n",
      "[train] Iteration 5000: loss value = 0.002610136056318879\n",
      "[train] Iteration 6000: loss value = 0.0016277863178402185\n",
      "[train] Iteration 7000: loss value = 0.0016890955157577991\n",
      "[train] Iteration 8000: loss value = 0.0010989182628691196\n",
      "[train] Iteration 9000: loss value = 0.0008628913783468306\n",
      "\n",
      "Stopping main optimization loop, cause: max iteration is reached\n",
      "\n",
      "Training took\n",
      " 86.84158301353455 \n",
      "\n",
      "\n",
      "Final iteration 10000: train loss value = 0.0006462103920057416\n"
     ]
    }
   ],
   "source": [
    "params_pinn, total_loss_list_pinn, loss_by_term_dict_pinn, _, _, opt_state, stored_params, _, _ = jinns.solve(\n",
    "    init_params=params_pinn,\n",
    "    data=train_data,\n",
    "    optimizer=tx,\n",
    "    loss=loss_pinn,\n",
    "    n_iter=n_iter,\n",
    "    obs_data=obs_data,\n",
    "    tracked_params = jinns.parameters.Params(\n",
    "        eq_params={\"C1\":True, \"C2\":True}\n",
    "    ),\n",
    "    verbose=True\n",
    ")"
   ]
  },
  {
   "cell_type": "code",
   "execution_count": 15,
   "metadata": {},
   "outputs": [
    {
     "data": {
      "image/png": "[encoded data removed]",
      "text/plain": [
       "<Figure size 640x480 with 1 Axes>"
      ]
     },
     "metadata": {},
     "output_type": "display_data"
    }
   ],
   "source": [
    "for loss_name, loss_values in loss_by_term_dict_pinn.items():\n",
    "    plt.plot(jnp.log10(loss_values), label=loss_name)\n",
    "plt.plot(jnp.log10(total_loss_list_pinn), label=\"total loss\")\n",
    "plt.legend()\n",
    "plt.show()"
   ]
  },
  {
   "cell_type": "code",
   "execution_count": 16,
   "metadata": {},
   "outputs": [],
   "source": [
    "tx = optax.adam(learning_rate=1e-4)\n",
    "n_iter = 10000"
   ]
  },
  {
   "cell_type": "code",
   "execution_count": 18,
   "metadata": {},
   "outputs": [
    {
     "name": "stdout",
     "output_type": "stream",
     "text": [
      "\n",
      "Compilation took\n",
      " 4.21279501914978 \n",
      "\n",
      "[train] Iteration 0: loss value = 0.0006461949087679386\n",
      "[train] Iteration 1000: loss value = 0.0005754709709435701\n",
      "[train] Iteration 2000: loss value = 0.0004984474508091807\n",
      "[train] Iteration 3000: loss value = 0.00043627448030747473\n",
      "[train] Iteration 4000: loss value = 0.000388305721571669\n",
      "[train] Iteration 5000: loss value = 0.000350346730556339\n",
      "[train] Iteration 6000: loss value = 0.0003200628561899066\n",
      "[train] Iteration 7000: loss value = 0.0002957391261588782\n",
      "[train] Iteration 8000: loss value = 0.00027428637258708477\n",
      "[train] Iteration 9000: loss value = 0.00025795126566663384\n",
      "\n",
      "Stopping main optimization loop, cause: max iteration is reached\n",
      "\n",
      "Training took\n",
      " 86.66952919960022 \n",
      "\n",
      "\n",
      "Final iteration 10000: train loss value = 0.00024142267648130655\n"
     ]
    }
   ],
   "source": [
    "params_pinn, total_loss_list_pinn, loss_by_term_dict_pinn, _, _, _, stored_params, _, _ = jinns.solve(\n",
    "    init_params=params_pinn,\n",
    "    data=train_data,\n",
    "    optimizer=tx,\n",
    "    loss=loss_pinn,\n",
    "    n_iter=n_iter,\n",
    "    obs_data=obs_data,\n",
    "    opt_state=opt_state,\n",
    "    tracked_params = jinns.parameters.Params(\n",
    "        eq_params={\"C1\":True, \"C2\":True}\n",
    "    ),\n",
    "    verbose=True\n",
    ")"
   ]
  },
  {
   "cell_type": "markdown",
   "metadata": {},
   "source": [
    "## Comparisons"
   ]
  },
  {
   "cell_type": "code",
   "execution_count": 13,
   "metadata": {},
   "outputs": [
    {
     "name": "stdout",
     "output_type": "stream",
     "text": [
      "C1_init=0.0, C2_init=0.0\n",
      "According to DeepXDE, true C1 is C1=1.0 and true C2=0.01\n"
     ]
    }
   ],
   "source": [
    "print(f\"{C1_init=}, {C2_init=}\")\n",
    "print(\"According to DeepXDE, true C1 is C1=1.0 and true C2=0.01\")"
   ]
  },
  {
   "cell_type": "code",
   "execution_count": 14,
   "metadata": {},
   "outputs": [
    {
     "name": "stdout",
     "output_type": "stream",
     "text": [
      "DeepXDE (iteration, estimated C1, estimated C2):\n",
      "20000 [9.99e-01, 1.09e-02]\n",
      "\n"
     ]
    }
   ],
   "source": [
    "print(\"DeepXDE (iteration, estimated C1, estimated C2):\")\n",
    "with open('variables.dat') as f:\n",
    "    for line in f:\n",
    "        pass\n",
    "    last_line = line\n",
    "print(last_line)"
   ]
  },
  {
   "cell_type": "code",
   "execution_count": 19,
   "metadata": {},
   "outputs": [
    {
     "name": "stdout",
     "output_type": "stream",
     "text": [
      "jinns: estimated C1 0.9984968\n",
      "jinns: estimated C2 0.011114675\n"
     ]
    }
   ],
   "source": [
    "print(\"jinns: estimated C1=\", stored_params.eq_params[\"C1\"][-1])\n",
    "print(\"jinns: estimated C2=\", stored_params.eq_params[\"C2\"][-1])"
   ]
  },
  {
   "cell_type": "code",
   "execution_count": null,
   "metadata": {},
   "outputs": [],
   "source": []
  },
  {
   "cell_type": "code",
   "execution_count": null,
   "metadata": {},
   "outputs": [],
   "source": []
  }
 ],
 "metadata": {
  "kernelspec": {
   "display_name": "Python 3 (ipykernel)",
   "language": "python",
   "name": "python3"
  },
  "language_info": {
   "codemirror_mode": {
    "name": "ipython",
    "version": 3
   },
   "file_extension": ".py",
   "mimetype": "text/x-python",
   "name": "python",
   "nbconvert_exporter": "python",
   "pygments_lexer": "ipython3",
   "version": "3.11.2"
  }
 },
 "nbformat": 4,
 "nbformat_minor": 4
}
