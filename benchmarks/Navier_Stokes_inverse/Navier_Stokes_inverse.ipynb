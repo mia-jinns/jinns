{
 "cells": [
  {
   "cell_type": "code",
   "execution_count": 1,
   "metadata": {},
   "outputs": [],
   "source": [
    "%load_ext autoreload\n",
    "%autoreload 2"
   ]
  },
  {
   "cell_type": "markdown",
   "metadata": {},
   "source": [
    "# An inverse problem of the Navier-Stokes equation\n",
    "\n",
    "Benchmark on the Inverse problem for the Navier-Stokes system as proposed in DeepXDE documentation: https://github.com/lululxvi/deepxde/blob/master/examples/pinn_inverse/Navier_Stokes_inverse.py.\n"
   ]
  },
  {
   "cell_type": "code",
   "execution_count": 2,
   "metadata": {},
   "outputs": [],
   "source": [
    "seed = 1"
   ]
  },
  {
   "cell_type": "code",
   "execution_count": 3,
   "metadata": {},
   "outputs": [],
   "source": [
    "import numpy as np\n",
    "from scipy.io import loadmat\n",
    "\n",
    "# from PINNACLE\n",
    "DEFAULT_NUM_DOMAIN_POINTS = 700\n",
    "DEFAULT_NUM_BOUNDARY_POINTS = 200\n",
    "DEFAULT_NUM_INITIAL_POINTS = 100\n",
    "\n",
    "# Load training data\n",
    "def load_training_data(num):\n",
    "    data = loadmat(\"cylinder_nektar_wake.mat\")\n",
    "    U_star = data[\"U_star\"]  # N x 2 x T\n",
    "    P_star = data[\"p_star\"]  # N x T\n",
    "    t_star = data[\"t\"]  # T x 1\n",
    "    X_star = data[\"X_star\"]  # N x 2\n",
    "    N = X_star.shape[0]\n",
    "    T = t_star.shape[0]\n",
    "    # Rearrange Data\n",
    "    XX = np.tile(X_star[:, 0:1], (1, T))  # N x T\n",
    "    YY = np.tile(X_star[:, 1:2], (1, T))  # N x T\n",
    "    TT = np.tile(t_star, (1, N)).T  # N x T\n",
    "    UU = U_star[:, 0, :]  # N x T\n",
    "    VV = U_star[:, 1, :]  # N x T\n",
    "    PP = P_star  # N x T\n",
    "    x = XX.flatten()[:, None]  # NT x 1\n",
    "    y = YY.flatten()[:, None]  # NT x 1\n",
    "    t = TT.flatten()[:, None]  # NT x 1\n",
    "    u = UU.flatten()[:, None]  # NT x 1\n",
    "    v = VV.flatten()[:, None]  # NT x 1\n",
    "    p = PP.flatten()[:, None]  # NT x 1\n",
    "    # training domain: X × Y = [1, 8] × [−2, 2] and T = [0, 7]\n",
    "    data1 = np.concatenate([x, y, t, u, v, p], 1)\n",
    "    data2 = data1[:, :][data1[:, 2] <= 7]\n",
    "    data3 = data2[:, :][data2[:, 0] >= 1]\n",
    "    data4 = data3[:, :][data3[:, 0] <= 8]\n",
    "    data5 = data4[:, :][data4[:, 1] >= -2]\n",
    "    data_domain = data5[:, :][data5[:, 1] <= 2]\n",
    "    # choose number of training points: num =7000\n",
    "    idx = np.random.choice(data_domain.shape[0], num, replace=False)\n",
    "    x_train = data_domain[idx, 0:1]\n",
    "    y_train = data_domain[idx, 1:2]\n",
    "    t_train = data_domain[idx, 2:3]\n",
    "    u_train = data_domain[idx, 3:4]\n",
    "    v_train = data_domain[idx, 4:5]\n",
    "    p_train = data_domain[idx, 5:6]\n",
    "    return [x_train, y_train, t_train, u_train, v_train, p_train]\n",
    "\n",
    "C1_init = 0.0\n",
    "C2_init = 0.0"
   ]
  },
  {
   "cell_type": "markdown",
   "metadata": {},
   "source": [
    "**Summary:**\n",
    "- [DeepXDE](#DeepXDE)\n",
    "- [jinns](#jinns)\n",
    "- [PINA](#PINA)\n",
    "- [Comparisons](#Comparisons)"
   ]
  },
  {
   "cell_type": "markdown",
   "metadata": {},
   "source": [
    "## DeepXDE\n",
    "\n",
    "\n",
    "We use the tensorflow backend as JAX backend is not available"
   ]
  },
  {
   "cell_type": "code",
   "execution_count": 5,
   "metadata": {},
   "outputs": [
    {
     "name": "stderr",
     "output_type": "stream",
     "text": [
      "Using backend: pytorch\n",
      "Other supported backends: tensorflow.compat.v1, tensorflow, jax, paddle.\n",
      "paddle supports more examples now and is recommended.\n"
     ]
    },
    {
     "name": "stdout",
     "output_type": "stream",
     "text": [
      "Compiling model...\n",
      "'compile' took 0.693517 s\n",
      "\n",
      "Training model...\n",
      "\n",
      "Step      Train loss                                            Test loss                                             Test metric\n",
      "0         [6.78e-04, 2.93e-02, 8.56e-03, 7.08e-01, 2.84e-01]    [6.78e-04, 2.93e-02, 8.56e-03, 7.08e-01, 2.84e-01]    []  \n",
      "1000      [6.65e-04, 9.36e-04, 1.12e-03, 2.98e-03, 3.60e-03]    [6.65e-04, 9.36e-04, 1.12e-03, 2.98e-03, 3.60e-03]    []  \n",
      "2000      [3.18e-04, 4.84e-04, 3.35e-04, 1.00e-03, 1.46e-03]    [3.18e-04, 4.84e-04, 3.35e-04, 1.00e-03, 1.46e-03]    []  \n",
      "3000      [2.94e-04, 4.20e-04, 3.14e-04, 1.30e-03, 1.05e-03]    [2.94e-04, 4.20e-04, 3.14e-04, 1.30e-03, 1.05e-03]    []  \n",
      "4000      [1.85e-04, 2.81e-04, 1.81e-04, 4.82e-04, 6.27e-04]    [1.85e-04, 2.81e-04, 1.81e-04, 4.82e-04, 6.27e-04]    []  \n",
      "5000      [1.39e-04, 2.21e-04, 1.54e-04, 3.54e-04, 4.20e-04]    [1.39e-04, 2.21e-04, 1.54e-04, 3.54e-04, 4.20e-04]    []  \n",
      "6000      [9.06e-04, 3.67e-04, 4.04e-04, 1.28e-03, 7.46e-04]    [9.06e-04, 3.67e-04, 4.04e-04, 1.28e-03, 7.46e-04]    []  \n",
      "7000      [7.43e-05, 1.59e-04, 1.16e-04, 2.01e-04, 2.04e-04]    [7.43e-05, 1.59e-04, 1.16e-04, 2.01e-04, 2.04e-04]    []  \n",
      "8000      [7.42e-05, 1.41e-04, 1.11e-04, 2.00e-04, 1.79e-04]    [7.42e-05, 1.41e-04, 1.11e-04, 2.00e-04, 1.79e-04]    []  \n",
      "9000      [1.10e-04, 1.96e-04, 1.48e-04, 2.50e-04, 3.54e-04]    [1.10e-04, 1.96e-04, 1.48e-04, 2.50e-04, 3.54e-04]    []  \n",
      "10000     [5.51e-05, 1.03e-04, 8.07e-05, 1.15e-04, 1.28e-04]    [5.51e-05, 1.03e-04, 8.07e-05, 1.15e-04, 1.28e-04]    []  \n",
      "\n",
      "Best model at step 10000:\n",
      "  train loss: 4.82e-04\n",
      "  test loss: 4.82e-04\n",
      "  test metric: []\n",
      "\n",
      "'train' took 757.485783 s\n",
      "\n",
      "Saving loss history to /home/hugo/Documents/recherche/pinn/gitlab/benchmarks/Navier_Stokes_inverse/loss.dat ...\n",
      "Saving training data to /home/hugo/Documents/recherche/pinn/gitlab/benchmarks/Navier_Stokes_inverse/train.dat ...\n",
      "Saving test data to /home/hugo/Documents/recherche/pinn/gitlab/benchmarks/Navier_Stokes_inverse/test.dat ...\n"
     ]
    },
    {
     "data": {
      "image/png": "[encoded data removed]",
      "text/plain": [
       "<Figure size 640x480 with 1 Axes>"
      ]
     },
     "metadata": {},
     "output_type": "display_data"
    },
    {
     "name": "stdout",
     "output_type": "stream",
     "text": [
      "Compiling model...\n",
      "'compile' took 0.000260 s\n",
      "\n",
      "Training model...\n",
      "\n",
      "Step      Train loss                                            Test loss                                             Test metric\n",
      "10000     [5.51e-05, 1.03e-04, 8.07e-05, 1.15e-04, 1.28e-04]    [5.51e-05, 1.03e-04, 8.07e-05, 1.15e-04, 1.28e-04]    []  \n",
      "11000     [5.06e-05, 8.68e-05, 7.02e-05, 1.01e-04, 1.09e-04]    [5.06e-05, 8.68e-05, 7.02e-05, 1.01e-04, 1.09e-04]    []  \n",
      "12000     [4.59e-05, 7.66e-05, 6.28e-05, 8.65e-05, 9.74e-05]    [4.59e-05, 7.66e-05, 6.28e-05, 8.65e-05, 9.74e-05]    []  \n",
      "13000     [4.21e-05, 6.85e-05, 5.76e-05, 7.67e-05, 8.78e-05]    [4.21e-05, 6.85e-05, 5.76e-05, 7.67e-05, 8.78e-05]    []  \n",
      "14000     [3.94e-05, 6.19e-05, 5.35e-05, 7.03e-05, 8.04e-05]    [3.94e-05, 6.19e-05, 5.35e-05, 7.03e-05, 8.04e-05]    []  \n",
      "15000     [3.62e-05, 5.63e-05, 5.03e-05, 6.25e-05, 7.38e-05]    [3.62e-05, 5.63e-05, 5.03e-05, 6.25e-05, 7.38e-05]    []  \n",
      "16000     [3.45e-05, 5.17e-05, 4.74e-05, 5.92e-05, 6.87e-05]    [3.45e-05, 5.17e-05, 4.74e-05, 5.92e-05, 6.87e-05]    []  \n",
      "17000     [3.19e-05, 4.77e-05, 4.51e-05, 5.29e-05, 6.47e-05]    [3.19e-05, 4.77e-05, 4.51e-05, 5.29e-05, 6.47e-05]    []  \n",
      "18000     [3.06e-05, 4.44e-05, 4.28e-05, 5.07e-05, 6.03e-05]    [3.06e-05, 4.44e-05, 4.28e-05, 5.07e-05, 6.03e-05]    []  \n",
      "19000     [2.88e-05, 4.17e-05, 4.11e-05, 4.65e-05, 5.69e-05]    [2.88e-05, 4.17e-05, 4.11e-05, 4.65e-05, 5.69e-05]    []  \n",
      "20000     [2.74e-05, 3.90e-05, 3.90e-05, 4.28e-05, 5.37e-05]    [2.74e-05, 3.90e-05, 3.90e-05, 4.28e-05, 5.37e-05]    []  \n",
      "\n",
      "Best model at step 20000:\n",
      "  train loss: 2.02e-04\n",
      "  test loss: 2.02e-04\n",
      "  test metric: []\n",
      "\n",
      "'train' took 756.557281 s\n",
      "\n",
      "Saving loss history to /home/hugo/Documents/recherche/pinn/gitlab/benchmarks/Navier_Stokes_inverse/loss.dat ...\n",
      "Saving training data to /home/hugo/Documents/recherche/pinn/gitlab/benchmarks/Navier_Stokes_inverse/train.dat ...\n",
      "Saving test data to /home/hugo/Documents/recherche/pinn/gitlab/benchmarks/Navier_Stokes_inverse/test.dat ...\n"
     ]
    },
    {
     "data": {
      "image/png": "[encoded data removed]",
      "text/plain": [
       "<Figure size 640x480 with 1 Axes>"
      ]
     },
     "metadata": {},
     "output_type": "display_data"
    },
    {
     "name": "stdout",
     "output_type": "stream",
     "text": [
      "Mean residual: 0.0042290357\n"
     ]
    }
   ],
   "source": [
    "import os\n",
    "os.environ[\"DDE_BACKEND\"]=\"pytorch\"\n",
    "import deepxde as dde\n",
    "\n",
    "# Determinism may reduce performance in DeepXDE (see doc) but needs to\n",
    "# be set for a fair comparison with Jinns\n",
    "# https://deepxde.readthedocs.io/en/stable/modules/deepxde.html#deepxde.config.set_random_seed\n",
    "dde.config.set_random_seed(seed)\n",
    "\n",
    "C1 = dde.Variable(C1_init)\n",
    "C2 = dde.Variable(C2_init)\n",
    "\n",
    "# Define Navier Stokes Equations (Time-dependent PDEs)\n",
    "def Navier_Stokes_Equation(x, y):\n",
    "    u = y[:, 0:1]\n",
    "    v = y[:, 1:2]\n",
    "    p = y[:, 2:3]\n",
    "    du_x = dde.grad.jacobian(y, x, i=0, j=0)\n",
    "    du_y = dde.grad.jacobian(y, x, i=0, j=1)\n",
    "    du_t = dde.grad.jacobian(y, x, i=0, j=2)\n",
    "    dv_x = dde.grad.jacobian(y, x, i=1, j=0)\n",
    "    dv_y = dde.grad.jacobian(y, x, i=1, j=1)\n",
    "    dv_t = dde.grad.jacobian(y, x, i=1, j=2)\n",
    "    dp_x = dde.grad.jacobian(y, x, i=2, j=0)\n",
    "    dp_y = dde.grad.jacobian(y, x, i=2, j=1)\n",
    "    du_xx = dde.grad.hessian(y, x, component=0, i=0, j=0)\n",
    "    du_yy = dde.grad.hessian(y, x, component=0, i=1, j=1)\n",
    "    dv_xx = dde.grad.hessian(y, x, component=1, i=0, j=0)\n",
    "    dv_yy = dde.grad.hessian(y, x, component=1, i=1, j=1)\n",
    "    continuity = du_x + dv_y\n",
    "    x_momentum = du_t + C1 * (u * du_x + v * du_y) + dp_x - C2 * (du_xx + du_yy)\n",
    "    y_momentum = dv_t + C1 * (u * dv_x + v * dv_y) + dp_y - C2 * (dv_xx + dv_yy)\n",
    "    return [continuity, x_momentum, y_momentum]\n",
    "\n",
    "# Define Spatio-temporal domain\n",
    "# Rectangular\n",
    "Lx_min, Lx_max = 1.0, 8.0\n",
    "Ly_min, Ly_max = -2.0, 2.0\n",
    "# Spatial domain: X × Y = [1, 8] × [−2, 2]\n",
    "space_domain = dde.geometry.Rectangle([Lx_min, Ly_min], [Lx_max, Ly_max])\n",
    "# Time domain: T = [0, 7]\n",
    "time_domain = dde.geometry.TimeDomain(0, 7)\n",
    "# Spatio-temporal domain\n",
    "geomtime = dde.geometry.GeometryXTime(space_domain, time_domain)\n",
    "\n",
    "# Get the training data: num = 7000\n",
    "[ob_x, ob_y, ob_t, ob_u, ob_v, ob_p] = load_training_data(num=7000)\n",
    "ob_xyt = np.hstack((ob_x, ob_y, ob_t))\n",
    "observe_u = dde.icbc.PointSetBC(ob_xyt, ob_u, component=0)\n",
    "observe_v = dde.icbc.PointSetBC(ob_xyt, ob_v, component=1)\n",
    "\n",
    "# Training datasets and Loss\n",
    "data = dde.data.TimePDE(\n",
    "    geomtime,\n",
    "    Navier_Stokes_Equation,\n",
    "    [observe_u, observe_v],\n",
    "    num_domain=DEFAULT_NUM_DOMAIN_POINTS,\n",
    "    num_boundary=DEFAULT_NUM_BOUNDARY_POINTS,\n",
    "    num_initial=DEFAULT_NUM_INITIAL_POINTS,\n",
    "    anchors=ob_xyt,\n",
    ")\n",
    "\n",
    "# Neural Network setup\n",
    "layer_size = [3] + [50] * 6 + [3]\n",
    "activation = \"tanh\"\n",
    "initializer = \"Glorot uniform\"\n",
    "net = dde.nn.FNN(layer_size, activation, initializer)\n",
    "model = dde.Model(data, net)\n",
    "\n",
    "# callbacks for storing results\n",
    "fnamevar = \"variables.dat\"\n",
    "variable = dde.callbacks.VariableValue([C1, C2], period=100, filename=fnamevar)\n",
    "\n",
    "# Compile, train and save model\n",
    "model.compile(\"adam\", lr=1e-3, external_trainable_variables=[C1, C2])\n",
    "loss_history, train_state = model.train(\n",
    "    iterations=10000, callbacks=[variable], display_every=1000, disregard_previous_best=True\n",
    ")\n",
    "dde.saveplot(loss_history, train_state, issave=True, isplot=True)\n",
    "model.compile(\"adam\", lr=1e-4, external_trainable_variables=[C1, C2])\n",
    "loss_history, train_state = model.train(\n",
    "    iterations=10000, callbacks=[variable], display_every=1000, disregard_previous_best=True\n",
    ")\n",
    "dde.saveplot(loss_history, train_state, issave=True, isplot=True)\n",
    "# model.save(save_path = \"./NS_inverse_model/model\")\n",
    "f = model.predict(ob_xyt, operator=Navier_Stokes_Equation)\n",
    "print(\"Mean residual:\", np.mean(np.absolute(f)))"
   ]
  },
  {
   "cell_type": "markdown",
   "metadata": {},
   "source": [
    "## jinns"
   ]
  },
  {
   "cell_type": "code",
   "execution_count": 6,
   "metadata": {},
   "outputs": [],
   "source": [
    "import jax\n",
    "import equinox as eqx\n",
    "import jinns\n",
    "import jax.numpy as jnp\n",
    "from jax import grad, vmap, random\n",
    "import optax\n",
    "import time\n",
    "import matplotlib.pyplot as plt\n",
    "\n",
    "key = random.PRNGKey(seed)"
   ]
  },
  {
   "cell_type": "code",
   "execution_count": 7,
   "metadata": {},
   "outputs": [],
   "source": [
    "eqx_list = (\n",
    "    (eqx.nn.Linear, 3, 50),\n",
    "    (jax.nn.tanh,),\n",
    "    (eqx.nn.Linear, 50, 50),\n",
    "    (jax.nn.tanh,),\n",
    "    (eqx.nn.Linear, 50, 50),\n",
    "    (jax.nn.tanh,),\n",
    "    (eqx.nn.Linear, 50, 50),\n",
    "    (jax.nn.tanh,),\n",
    "    (eqx.nn.Linear, 50, 50),\n",
    "    (jax.nn.tanh,),\n",
    "    (eqx.nn.Linear, 50, 50),\n",
    "    (jax.nn.tanh,),\n",
    "    (eqx.nn.Linear, 50, 3)\n",
    ")\n",
    "key, subkey = random.split(key)\n",
    "u_pinn, init_nn_params_pinn = jinns.utils.create_PINN(subkey, eqx_list, \"nonstatio_PDE\", 2)"
   ]
  },
  {
   "cell_type": "code",
   "execution_count": 8,
   "metadata": {},
   "outputs": [
    {
     "name": "stderr",
     "output_type": "stream",
     "text": [
      "/home/hugo/Documents/recherche/pinn/gitlab/jinns/data/_DataGenerators.py:434: UserWarning: Grid sampling is requested in dimension 2 with a non perfect square dataset size (self.n = 700). Modifying self.n to self.n = 676.\n",
      "  warnings.warn(\n"
     ]
    }
   ],
   "source": [
    "n = DEFAULT_NUM_DOMAIN_POINTS\n",
    "ni = DEFAULT_NUM_INITIAL_POINTS\n",
    "nb = DEFAULT_NUM_BOUNDARY_POINTS\n",
    "dim = 2\n",
    "xmin = 1\n",
    "xmax = 8\n",
    "ymin= -2\n",
    "ymax= 2\n",
    "tmin = 0\n",
    "tmax = 7\n",
    "method = \"grid\" # equals \"uniform\" in deepXDE, while \"uniform\" in jinns equals \"pseudo\" in deepXDE\n",
    "\n",
    "train_data = jinns.data.CubicMeshPDENonStatio(\n",
    "    key=subkey,\n",
    "    n=n,\n",
    "    nb=nb,\n",
    "    ni=ni,\n",
    "    dim=dim,\n",
    "    min_pts=(xmin,ymin),\n",
    "    max_pts=(xmax,ymax),\n",
    "    tmin=tmin,\n",
    "    tmax=tmax,\n",
    "    method=method,\n",
    ")"
   ]
  },
  {
   "cell_type": "code",
   "execution_count": 9,
   "metadata": {},
   "outputs": [],
   "source": [
    "# Init parameters for NN and equation\n",
    "init_params_pinn = jinns.parameters.Params(\n",
    "    nn_params=init_nn_params_pinn,\n",
    "    eq_params={\n",
    "        \"C1\":jnp.array(C1_init),\n",
    "        \"C2\":jnp.array(C2_init)\n",
    "    }\n",
    ")"
   ]
  },
  {
   "cell_type": "code",
   "execution_count": 10,
   "metadata": {},
   "outputs": [],
   "source": [
    "from jinns.loss import PDENonStatio\n",
    "\n",
    "class NavierStokes2D(PDENonStatio):\n",
    "    def equation(self, t_x, u_p, params):\n",
    "        u_ = lambda t_x, params: u_p(t_x, params)[0:2]\n",
    "        p_ = lambda t_x, params: u_p(t_x, params)[2]\n",
    "\n",
    "        du_dt = jax.jacrev(u_)(t_x, params)[:, 0]\n",
    "        ux = lambda t_x, params: u_(t_x, params)[0]\n",
    "        uy = lambda t_x, params: u_(t_x, params)[1]\n",
    "    \n",
    "        dux_dx = lambda t_x: grad(ux)(t_x, params)[1]\n",
    "        dux_dy = lambda t_x: grad(ux)(t_x, params)[2]\n",
    "    \n",
    "        duy_dx = lambda t_x: grad(uy)(t_x, params)[1]\n",
    "        duy_dy = lambda t_x: grad(uy)(t_x, params)[2]\n",
    "\n",
    "        dp_dx = lambda t_x: grad(p_)(t_x, params)[1]\n",
    "        dp_dy = lambda t_x: grad(p_)(t_x, params)[2]\n",
    "\n",
    "        return jnp.array(\n",
    "            [\n",
    "                du_dt[0]\n",
    "                    + params.eq_params[\"C1\"] * (ux(t_x, params) * dux_dx(t_x) + uy(t_x, params) * dux_dy(t_x)) + dp_dx(t_x)\n",
    "                    - params.eq_params[\"C2\"] * jinns.loss.laplacian_rev(t_x, lambda t_x, params: ux(t_x, params), params, eq_type=\"nonstatio_PDE\"),\n",
    "                du_dt[1] \n",
    "                    + params.eq_params[\"C1\"] * (ux(t_x, params) * duy_dx(t_x) + uy(t_x, params) * duy_dy(t_x)) + dp_dy(t_x)\n",
    "                    - params.eq_params[\"C2\"] * jinns.loss.laplacian_rev(t_x, lambda t_x, params: uy(t_x, params), params, eq_type=\"nonstatio_PDE\"),\n",
    "                dux_dx(t_x) + duy_dy(t_x),\n",
    "            ]\n",
    "        )\n",
    "ns_loss = NavierStokes2D()"
   ]
  },
  {
   "cell_type": "code",
   "execution_count": 11,
   "metadata": {},
   "outputs": [],
   "source": [
    "loss_weights = jinns.loss.LossWeightsPDENonStatio(\n",
    "    dyn_loss=1, initial_condition=0, boundary_loss=0, observations=1\n",
    ")"
   ]
  },
  {
   "cell_type": "code",
   "execution_count": 12,
   "metadata": {},
   "outputs": [],
   "source": [
    "key, subkey = jax.random.split(key)\n",
    "\n",
    "[ob_x, ob_y, ob_t, ob_u, ob_v, ob_p] = load_training_data(num=7000)\n",
    "ob_t_x = np.hstack((ob_t, ob_x, ob_y))\n",
    "\n",
    "obs_data = jinns.data.DataGeneratorObservations(\n",
    "    subkey,\n",
    "    obs_batch_size=None,\n",
    "    observed_pinn_in=ob_t_x,\n",
    "    observed_values=np.hstack((ob_u, ob_v))\n",
    ")"
   ]
  },
  {
   "cell_type": "code",
   "execution_count": 13,
   "metadata": {},
   "outputs": [],
   "source": [
    "derivative_keys = jinns.parameters.DerivativeKeysPDENonStatio.from_str(\n",
    "    dyn_loss=jinns.parameters.Params(\n",
    "        nn_params = True,\n",
    "        eq_params = {\n",
    "            'C1':True,\n",
    "            'C2':True\n",
    "        }\n",
    "    ),\n",
    "    boundary_loss=\"nn_params\",\n",
    "    initial_condition=\"nn_params\",\n",
    "    observations=\"nn_params\",\n",
    "    params=init_params_pinn\n",
    ")"
   ]
  },
  {
   "cell_type": "code",
   "execution_count": 14,
   "metadata": {},
   "outputs": [
    {
     "name": "stderr",
     "output_type": "stream",
     "text": [
      "/home/hugo/Documents/recherche/pinn/gitlab/jinns/loss/_LossPDE.py:177: UserWarning: Missing boundary function or no boundary condition.Boundary function is thus ignored.\n",
      "  warnings.warn(\n",
      "/home/hugo/Documents/recherche/pinn/gitlab/jinns/loss/_LossPDE.py:592: UserWarning: Initial condition wasn't provided. Be sure to cover for thatcase (e.g by. hardcoding it into the PINN output).\n",
      "  warnings.warn(\n"
     ]
    }
   ],
   "source": [
    "loss_pinn = jinns.loss.LossPDENonStatio(\n",
    "    u=u_pinn,\n",
    "    loss_weights=loss_weights,\n",
    "    dynamic_loss=ns_loss,\n",
    "    derivative_keys=derivative_keys,\n",
    "    omega_boundary_fun=None,\n",
    "    omega_boundary_condition=None,\n",
    "    initial_condition_fun=None,\n",
    "    params=init_params_pinn,\n",
    "    obs_slice=jnp.s_[0:2]\n",
    ")"
   ]
  },
  {
   "cell_type": "code",
   "execution_count": 15,
   "metadata": {},
   "outputs": [],
   "source": [
    "# Training loop in Jinns\n",
    "params_pinn = init_params_pinn\n",
    "tx = optax.adam(learning_rate=1e-3)\n",
    "n_iter = 10000"
   ]
  },
  {
   "cell_type": "code",
   "execution_count": 16,
   "metadata": {},
   "outputs": [
    {
     "name": "stdout",
     "output_type": "stream",
     "text": [
      "\n",
      "Compilation took\n",
      " 8.267653703689575 \n",
      "\n",
      "[train] Iteration 0: loss value = 1.2674092054367065\n",
      "[train] Iteration 1000: loss value = 0.019456833600997925\n",
      "[train] Iteration 2000: loss value = 0.013225727714598179\n",
      "[train] Iteration 3000: loss value = 0.005251600872725248\n",
      "[train] Iteration 4000: loss value = 0.00402416568249464\n",
      "[train] Iteration 5000: loss value = 0.00300327455624938\n",
      "[train] Iteration 6000: loss value = 0.00213222554884851\n",
      "[train] Iteration 7000: loss value = 0.0015861582942306995\n",
      "[train] Iteration 8000: loss value = 0.002469678409397602\n",
      "[train] Iteration 9000: loss value = 0.0012029351200908422\n",
      "\n",
      "Stopping main optimization loop, cause: max iteration is reached\n",
      "\n",
      "Training took\n",
      " 88.4168746471405 \n",
      "\n",
      "\n",
      "Final iteration 10000: train loss value = 0.0008821308147162199\n"
     ]
    }
   ],
   "source": [
    "params_pinn, total_loss_list_pinn, loss_by_term_dict_pinn, _, _, opt_state, stored_params, _, _ = jinns.solve(\n",
    "    init_params=params_pinn,\n",
    "    data=train_data,\n",
    "    optimizer=tx,\n",
    "    loss=loss_pinn,\n",
    "    n_iter=n_iter,\n",
    "    obs_data=obs_data,\n",
    "    tracked_params = jinns.parameters.Params(\n",
    "        eq_params={\"C1\":True, \"C2\":True}\n",
    "    ),\n",
    "    verbose=True\n",
    ")"
   ]
  },
  {
   "cell_type": "code",
   "execution_count": 17,
   "metadata": {},
   "outputs": [
    {
     "data": {
      "image/png": "[encoded data removed]",
      "text/plain": [
       "<Figure size 640x480 with 1 Axes>"
      ]
     },
     "metadata": {},
     "output_type": "display_data"
    }
   ],
   "source": [
    "for loss_name, loss_values in loss_by_term_dict_pinn.items():\n",
    "    plt.plot(jnp.log10(loss_values), label=loss_name)\n",
    "plt.plot(jnp.log10(total_loss_list_pinn), label=\"total loss\")\n",
    "plt.legend()\n",
    "plt.show()"
   ]
  },
  {
   "cell_type": "code",
   "execution_count": 18,
   "metadata": {},
   "outputs": [],
   "source": [
    "tx = optax.adam(learning_rate=1e-4)\n",
    "n_iter = 10000"
   ]
  },
  {
   "cell_type": "code",
   "execution_count": 19,
   "metadata": {},
   "outputs": [
    {
     "name": "stdout",
     "output_type": "stream",
     "text": [
      "\n",
      "Compilation took\n",
      " 4.148965835571289 \n",
      "\n",
      "[train] Iteration 0: loss value = 0.0008894632919691503\n",
      "[train] Iteration 1000: loss value = 0.0008227272192016244\n",
      "[train] Iteration 2000: loss value = 0.0007857730379328132\n",
      "[train] Iteration 3000: loss value = 0.0007328458013944328\n",
      "[train] Iteration 4000: loss value = 0.000660654332023114\n",
      "[train] Iteration 5000: loss value = 0.0005760590429417789\n",
      "[train] Iteration 6000: loss value = 0.0005066341254860163\n",
      "[train] Iteration 7000: loss value = 0.0004719820281025022\n",
      "[train] Iteration 8000: loss value = 0.0004120123921893537\n",
      "[train] Iteration 9000: loss value = 0.0003713396145030856\n",
      "\n",
      "Stopping main optimization loop, cause: max iteration is reached\n",
      "\n",
      "Training took\n",
      " 87.03750443458557 \n",
      "\n",
      "\n",
      "Final iteration 10000: train loss value = 0.000340391939971596\n"
     ]
    }
   ],
   "source": [
    "params_pinn, total_loss_list_pinn, loss_by_term_dict_pinn, _, _, _, stored_params, _, _ = jinns.solve(\n",
    "    init_params=params_pinn,\n",
    "    data=train_data,\n",
    "    optimizer=tx,\n",
    "    loss=loss_pinn,\n",
    "    n_iter=n_iter,\n",
    "    obs_data=obs_data,\n",
    "    opt_state=opt_state,\n",
    "    tracked_params = jinns.parameters.Params(\n",
    "        eq_params={\"C1\":True, \"C2\":True}\n",
    "    ),\n",
    "    verbose=True\n",
    ")"
   ]
  },
  {
   "cell_type": "markdown",
   "metadata": {},
   "source": [
    "## PINA"
   ]
  },
  {
   "cell_type": "code",
   "execution_count": 4,
   "metadata": {},
   "outputs": [
    {
     "name": "stderr",
     "output_type": "stream",
     "text": [
      "Seed set to 1\n"
     ]
    },
    {
     "data": {
      "text/plain": [
       "1"
      ]
     },
     "execution_count": 4,
     "metadata": {},
     "output_type": "execute_result"
    }
   ],
   "source": [
    "from pytorch_lightning import seed_everything\n",
    "\n",
    "# setting the seed for reproducibility\n",
    "seed_everything(seed, workers=True)"
   ]
  },
  {
   "cell_type": "code",
   "execution_count": 5,
   "metadata": {},
   "outputs": [],
   "source": [
    "import matplotlib.pyplot as plt\n",
    "plt.style.use('tableau-colorblind10')\n",
    "import torch\n",
    "from pytorch_lightning.callbacks import Callback\n",
    "from pina.problem import SpatialProblem, InverseProblem, TimeDependentProblem\n",
    "from pina.operators import grad, div, laplacian\n",
    "from pina.model import FeedForward\n",
    "from pina.equation import Equation, FixedValue, SystemEquation\n",
    "from pina import Condition, Trainer, LabelTensor\n",
    "from pina.solvers import PINN\n",
    "from pina.geometry import CartesianDomain\n",
    "\n",
    "device = torch.device(\"cuda\" if torch.cuda.is_available() else \"cpu\")"
   ]
  },
  {
   "cell_type": "code",
   "execution_count": 6,
   "metadata": {},
   "outputs": [],
   "source": [
    "### Define ranges of variables\n",
    "x_min = 1\n",
    "x_max = 8\n",
    "y_min = -2\n",
    "y_max = 2\n",
    "tmin = 0\n",
    "tmax = 7\n",
    "\n",
    "[ob_x, ob_y, ob_t, ob_u, ob_v, ob_p] = load_training_data(num=7000)\n",
    "ob_t_x = LabelTensor(\n",
    "    torch.from_numpy(np.hstack((ob_t, ob_x, ob_y))).float(), #.to(device).float(),\n",
    "    labels=['t', 'x', 'y']\n",
    ")\n",
    "ob_u = LabelTensor(\n",
    "    torch.from_numpy(ob_u).to(device).float(),\n",
    "    labels=[\"ux\"]\n",
    ")\n",
    "ob_v = LabelTensor(\n",
    "    torch.from_numpy(ob_v).to(device).float(),\n",
    "    labels=[\"uy\"]\n",
    ")\n",
    "\n",
    "class Navier_Stokes_inverse(SpatialProblem, InverseProblem, TimeDependentProblem):\n",
    "\n",
    "    output_variables = ['ux', 'uy', 'p']\n",
    "\n",
    "    spatial_domain = CartesianDomain({'x': [x_min, x_max], 'y': [y_min, y_max]})\n",
    "    temporal_domain = CartesianDomain({'t': [tmin, tmax]})\n",
    "    unknown_parameter_domain = CartesianDomain({'C1': [-3, 3], 'C2': [-3, 3]})\n",
    "\n",
    "            \n",
    "    def NS_equation_x(input_, output_, params_):\n",
    "        dux_dt = grad(output_, input_, components=['ux'], d=['t'])\n",
    "        dux_dx = grad(output_, input_, components=['ux'], d=['x'])\n",
    "        dux_dy = grad(output_, input_, components=['ux'], d=['y'])\n",
    "        lap_ux = laplacian(output_, input_, components=['ux'], d=['x', 'y'])\n",
    "        dp_dx = grad(output_, input_, components=['p'], d=['x'])\n",
    "\n",
    "        return (dux_dt + params_[\"C1\"] * (output_.extract(['ux']) * dux_dx + output_.extract(['uy']) * dux_dy) +\n",
    "            dp_dx - params_[\"C2\"] * lap_ux)\n",
    "\n",
    "    def NS_equation_y(input_, output_, params_):\n",
    "        duy_dt = grad(output_, input_, components=['uy'], d=['t'])\n",
    "        duy_dx = grad(output_, input_, components=['uy'], d=['x'])\n",
    "        duy_dy = grad(output_, input_, components=['uy'], d=['y'])\n",
    "        lap_uy = laplacian(output_, input_, components=['uy'], d=['x', 'y'])\n",
    "        dp_dy = grad(output_, input_, components=['p'], d=['y'])\n",
    "\n",
    "        return (duy_dt + params_[\"C1\"] * (output_.extract(['ux']) * duy_dx + output_.extract(['uy']) * duy_dy) +\n",
    "            dp_dy - params_[\"C2\"] * lap_uy)\n",
    "        \n",
    "    def conservation_equation(input_, output_, params_):\n",
    "        return div(output_, input_, components=['ux', 'uy'], d=['x', 'y'])\n",
    "\n",
    "    def data_equation_x(input_, output_, params_):\n",
    "        return output_.extract(['ux']) - ob_u\n",
    "\n",
    "    def data_equation_y(input_, output_, params_):\n",
    "        return output_.extract(['uy']) - ob_v\n",
    "\n",
    "    # define the conditions for the loss (boundary conditions, equation, data)\n",
    "    conditions = {\n",
    "        'D': Condition(location=CartesianDomain(\n",
    "            {'x': [x_min, x_max], 'y': [y_min, y_max], 't': [tmin, tmax]\n",
    "            }),\n",
    "        equation=SystemEquation([NS_equation_x, NS_equation_y, conservation_equation])),\n",
    "        'data': Condition(\n",
    "            input_points=ob_t_x,\n",
    "            equation=SystemEquation([data_equation_x, data_equation_y])\n",
    "        ),\n",
    "    }\n",
    "\n",
    "problem = Navier_Stokes_inverse()"
   ]
  },
  {
   "cell_type": "code",
   "execution_count": 7,
   "metadata": {},
   "outputs": [
    {
     "name": "stdout",
     "output_type": "stream",
     "text": [
      "Input points: labels(['t', 'x', 'y'])\n",
      "LabelTensor([[[ 0.0000,  1.0000, -2.0000]],\n",
      "             [[ 0.8750,  1.0000, -2.0000]],\n",
      "             [[ 1.7500,  1.0000, -2.0000]],\n",
      "             ...,\n",
      "             [[ 5.2500,  8.0000,  2.0000]],\n",
      "             [[ 6.1250,  8.0000,  2.0000]],\n",
      "             [[ 7.0000,  8.0000,  2.0000]]])\n"
     ]
    }
   ],
   "source": [
    "from math import sqrt\n",
    "\n",
    "problem.discretise_domain(\n",
    "    n=int(np.round(DEFAULT_NUM_DOMAIN_POINTS ** (1 / 3))), # NOTE\n",
    "    mode='grid',\n",
    "    variables=['t', 'x', 'y'],\n",
    "    locations='D'\n",
    ")\n",
    "print('Input points:', problem.input_pts['D'].shape)\n",
    "# plt.scatter(x=problem.input_pts['D'][:, 1], y=problem.input_pts['D'][:, 2])\n",
    "# plt.show()"
   ]
  },
  {
   "cell_type": "code",
   "execution_count": 16,
   "metadata": {},
   "outputs": [
    {
     "name": "stderr",
     "output_type": "stream",
     "text": [
      "GPU available: True (cuda), used: True\n",
      "TPU available: False, using: 0 TPU cores\n",
      "HPU available: False, using: 0 HPUs\n",
      "LOCAL_RANK: 0 - CUDA_VISIBLE_DEVICES: [0]\n",
      "/home/hugo/anaconda3/envs/pinn_gpu/lib/python3.11/site-packages/pytorch_lightning/loops/fit_loop.py:298: The number of training batches (1) is smaller than the logging interval Trainer(log_every_n_steps=1000). Set a lower value for log_every_n_steps if you want to see logs for the training epoch.\n"
     ]
    },
    {
     "data": {
      "application/vnd.jupyter.widget-view+json": {
       "model_id": "a389da1dd4fc4a6fb8dd433124a62871",
       "version_major": 2,
       "version_minor": 0
      },
      "text/plain": [
       "Training: |                                               | 0/? [00:00<?, ?it/s]"
      ]
     },
     "metadata": {},
     "output_type": "display_data"
    },
    {
     "name": "stderr",
     "output_type": "stream",
     "text": [
      "`Trainer.fit` stopped: `max_epochs=20000` reached.\n"
     ]
    },
    {
     "name": "stdout",
     "output_type": "stream",
     "text": [
      "Total training time 1403.23423 s\n"
     ]
    }
   ],
   "source": [
    "from pina import Trainer\n",
    "from pina.solvers import PINN\n",
    "from pina.callbacks import MetricTracker, PINAProgressBar\n",
    "from pytorch_lightning.callbacks import Timer\n",
    "\n",
    "# temporary directory for saving logs of training\n",
    "tmp_dir = \"tmp_pina\"\n",
    "\n",
    "class SaveParameters(Callback):\n",
    "    '''\n",
    "    Callback to save the parameters of the model every 1000 epochs.\n",
    "    '''\n",
    "    def on_train_epoch_end(self, trainer, __):\n",
    "        if trainer.current_epoch % 1000 == 999:\n",
    "            torch.save(trainer.solver.problem.unknown_parameters, '{}/parameters_epoch{}'.format(tmp_dir, trainer.current_epoch))\n",
    "\n",
    "\n",
    "pbar = PINAProgressBar(metrics=['mean'], refresh_rate=1)\n",
    "\n",
    "# build the model\n",
    "model_ = FeedForward(\n",
    "    layers=[50, 50, 50, 50, 50, 50],\n",
    "    func=torch.nn.Tanh,\n",
    "    output_dimensions=len(problem.output_variables),\n",
    "    input_dimensions=len(problem.input_variables)\n",
    ")\n",
    "\n",
    "# create the PINN object\n",
    "pinn = PINN(\n",
    "    problem,\n",
    "    model_,\n",
    "    optimizer=torch.optim.Adam,\n",
    "    optimizer_kwargs={'lr': 1e-3},\n",
    "    scheduler=torch.optim.lr_scheduler.MultiStepLR,\n",
    "    scheduler_kwargs={'milestones':[10000], 'gamma':0.1} # reduce to lr=1e-4 after 10000 iterations\n",
    ")\n",
    "\n",
    "# create the trainer\n",
    "trainer = Trainer(\n",
    "    solver=pinn,\n",
    "    max_epochs=20000,\n",
    "    callbacks=[MetricTracker(), pbar, SaveParameters(), Timer()],\n",
    "    accelerator='gpu',\n",
    "    enable_model_summary=False,\n",
    "    log_every_n_steps=1000,\n",
    "    val_check_interval=1000,\n",
    "    check_val_every_n_epoch=None,\n",
    "    enable_checkpointing=False,\n",
    "    default_root_dir=tmp_dir\n",
    ") \n",
    "\n",
    "# train\n",
    "trainer.train()\n",
    "\n",
    "print(f'Total training time {trainer.callbacks[-1].time_elapsed(\"train\"):.5f} s')"
   ]
  },
  {
   "cell_type": "code",
   "execution_count": 17,
   "metadata": {},
   "outputs": [
    {
     "data": {
      "image/png": "[encoded data removed]",
      "text/plain": [
       "<Figure size 640x480 with 1 Axes>"
      ]
     },
     "metadata": {},
     "output_type": "display_data"
    }
   ],
   "source": [
    "from pina import Plotter\n",
    "\n",
    "pl = Plotter()\n",
    "pl.plot_loss(trainer=trainer, label = 'mean_loss', logy=True)"
   ]
  },
  {
   "cell_type": "code",
   "execution_count": 19,
   "metadata": {},
   "outputs": [
    {
     "name": "stderr",
     "output_type": "stream",
     "text": [
      "/tmp/ipykernel_59220/3945336117.py:5: FutureWarning: You are using `torch.load` with `weights_only=False` (the current default value), which uses the default pickle module implicitly. It is possible to construct malicious pickle data which will execute arbitrary code during unpickling (See https://github.com/pytorch/pytorch/blob/main/SECURITY.md#untrusted-models for more details). In a future release, the default value for `weights_only` will be flipped to `True`. This limits the functions that could be executed during unpickling. Arbitrary objects will no longer be allowed to be loaded via this mode unless they are explicitly allowlisted by the user via `torch.serialization.add_safe_globals`. We recommend you start setting `weights_only=True` for any use case where you don't have full control of the loaded file. Please open an issue on GitHub for any issues related to this experimental feature.\n",
      "  params_torch = torch.load('{}/parameters_epoch{}'.format(tmp_dir, epoch))\n"
     ]
    },
    {
     "data": {
      "image/png": "[encoded data removed]",
      "text/plain": [
       "<Figure size 640x480 with 1 Axes>"
      ]
     },
     "metadata": {},
     "output_type": "display_data"
    }
   ],
   "source": [
    "max_epochs = 20000\n",
    "epochs_saved = range(999, max_epochs, 1000)\n",
    "parameters = torch.empty((int(max_epochs/1000), 2))\n",
    "for i, epoch in enumerate(epochs_saved):\n",
    "    params_torch = torch.load('{}/parameters_epoch{}'.format(tmp_dir, epoch))\n",
    "    for e, var in enumerate(pinn.problem.unknown_variables):\n",
    "        parameters[i, e] = params_torch[var].data\n",
    "\n",
    "# Plot parameters\n",
    "plt.close()\n",
    "plt.plot(epochs_saved, parameters[:, 0], label='C1', marker='o')\n",
    "plt.plot(epochs_saved, parameters[:, 1], label='C2', marker='s')\n",
    "plt.ylim(-1, 1)\n",
    "plt.grid()\n",
    "plt.legend()\n",
    "plt.xlabel('Epoch')\n",
    "plt.ylabel('Parameter value')\n",
    "plt.show()"
   ]
  },
  {
   "cell_type": "markdown",
   "metadata": {},
   "source": [
    "## Comparisons"
   ]
  },
  {
   "cell_type": "code",
   "execution_count": 20,
   "metadata": {},
   "outputs": [
    {
     "name": "stdout",
     "output_type": "stream",
     "text": [
      "C1_init=0.0, C2_init=0.0\n",
      "According to DeepXDE's doc, true C1 is C1_true=1.0 and true C2_true=0.01\n"
     ]
    }
   ],
   "source": [
    "print(f\"{C1_init=}, {C2_init=}\")\n",
    "C1_true = 1.0\n",
    "C2_true = 0.01\n",
    "print(f\"According to DeepXDE's doc, true C1 is {C1_true=} and true {C2_true=}\")"
   ]
  },
  {
   "cell_type": "code",
   "execution_count": 28,
   "metadata": {},
   "outputs": [
    {
     "name": "stdout",
     "output_type": "stream",
     "text": [
      "DeepXDE (iteration, estimated C1, estimated C2):\n",
      "DeepXDE: estimated C1= 1.0 l1re= 0.0 l2re= 0.0\n",
      "DeepXDE: estimated C2= 0.011 l1re= 0.1 l2re= 0.099999994\n"
     ]
    }
   ],
   "source": [
    "import re\n",
    "with open('variables.dat') as f:\n",
    "    for line in f:\n",
    "        pass\n",
    "    last_line = line\n",
    "C1_C2 = np.fromstring(\n",
    "    min(re.findall(re.escape(\"[\") + \"(.*?)\" + re.escape(\"]\"), last_line), key=len),\n",
    "    sep=\",\",\n",
    ")\n",
    "print(\"DeepXDE: estimated C1=\", C1_C2[0],\n",
    "      \"l1re=\", jnp.abs(C1_C2[0] - C1_true) / jnp.abs(C1_true),\n",
    "      \"l2re=\", jnp.sqrt((C1_C2[0] - C1_true) **2) / jnp.sqrt(C1_true ** 2)\n",
    ")\n",
    "print(\"DeepXDE: estimated C2=\", C1_C2[1],\n",
    "      \"l1re=\", jnp.abs(C1_C2[1] - C2_true) / jnp.abs(C2_true),\n",
    "      \"l2re=\", jnp.sqrt((C1_C2[1] - C2_true) **2) / jnp.sqrt(C2_true ** 2)\n",
    ")"
   ]
  },
  {
   "cell_type": "code",
   "execution_count": 29,
   "metadata": {},
   "outputs": [
    {
     "name": "stdout",
     "output_type": "stream",
     "text": [
      "jinns: estimated C1= 0.99318147 l1re= 0.006818533 l2re= 0.006818533\n",
      "jinns: estimated C2= 0.009850564 l1re= 0.014943536 l2re= 0.0014943536\n"
     ]
    }
   ],
   "source": [
    "print(\"jinns: estimated C1=\", stored_params.eq_params[\"C1\"][-1],\n",
    "      \"l1re=\", jnp.abs(stored_params.eq_params[\"C1\"][-1] - C1_true) / jnp.abs(C1_true),\n",
    "      \"l2re=\", jnp.sqrt((stored_params.eq_params[\"C1\"][-1] - C1_true) **2) / jnp.sqrt(C1_true **2)\n",
    ")\n",
    "print(\"jinns: estimated C2=\", stored_params.eq_params[\"C2\"][-1],\n",
    "      \"l1re=\", jnp.abs(stored_params.eq_params[\"C2\"][-1] - C2_true) / jnp.abs(C2_true),\n",
    "      \"l2re=\", jnp.sqrt((stored_params.eq_params[\"C2\"][-1] - C2_true) **2) / jnp.sqrt(C2_true)\n",
    ")"
   ]
  },
  {
   "cell_type": "code",
   "execution_count": 21,
   "metadata": {},
   "outputs": [
    {
     "name": "stdout",
     "output_type": "stream",
     "text": [
      "PINA: estimated C1= tensor(0.9992) l1re= tensor(0.0008) l2re= tensor(0.0008)\n",
      "PINA: estimated C2= tensor(0.0105) l1re= tensor(0.0542) l2re= tensor(0.0542)\n"
     ]
    }
   ],
   "source": [
    "C1_pina = parameters[-1, 0]\n",
    "C2_pina = parameters[-1, 1]\n",
    "print(\"PINA: estimated C1=\", C1_pina,\n",
    "      \"l1re=\", np.abs(C1_pina - C1_true) / np.abs(C1_true),\n",
    "      \"l2re=\", np.sqrt((C1_pina - C1_true) **2) / np.sqrt(C1_true ** 2)\n",
    ")\n",
    "print(\"PINA: estimated C2=\", C2_pina,\n",
    "      \"l1re=\", np.abs(C2_pina - C2_true) / np.abs(C2_true),\n",
    "      \"l2re=\", np.sqrt((C2_pina - C2_true) **2) / np.sqrt(C2_true ** 2)\n",
    ")"
   ]
  },
  {
   "cell_type": "code",
   "execution_count": null,
   "metadata": {},
   "outputs": [],
   "source": []
  }
 ],
 "metadata": {
  "kernelspec": {
   "display_name": "Python 3 (ipykernel)",
   "language": "python",
   "name": "python3"
  },
  "language_info": {
   "codemirror_mode": {
    "name": "ipython",
    "version": 3
   },
   "file_extension": ".py",
   "mimetype": "text/x-python",
   "name": "python",
   "nbconvert_exporter": "python",
   "pygments_lexer": "ipython3",
   "version": "3.11.2"
  }
 },
 "nbformat": 4,
 "nbformat_minor": 4
}
