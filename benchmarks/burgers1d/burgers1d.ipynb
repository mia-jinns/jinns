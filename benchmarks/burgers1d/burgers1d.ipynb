{
 "cells": [
  {
   "cell_type": "code",
   "execution_count": null,
   "metadata": {},
   "outputs": [],
   "source": [
    "%load_ext autoreload\n",
    "%autoreload 2"
   ]
  },
  {
   "cell_type": "markdown",
   "metadata": {},
   "source": [
    "# Burger's 1D equation\n",
    "\n",
    "Benchmark on the Burger 1D as proposed in the PINNacle benchmark paper (https://arxiv.org/pdf/2306.08827) (see Appendix B1: (**Burgers1d**)).\n",
    "\n",
    "We dig through the PINNacle code database to retrieve the experimental setting (number of collocation points, number of iterations, ...) as well as the reference values of the solution.\n",
    "While PINNacle codes use a callback for evaluating the error with respect to the reference, we simply make a pridction at the end of the training (see [here](https://github.com/i207M/PINNacle/blob/main/src/utils/callbacks.py#L104))"
   ]
  },
  {
   "cell_type": "code",
   "execution_count": null,
   "metadata": {},
   "outputs": [],
   "source": [
    "seed = 1"
   ]
  },
  {
   "cell_type": "code",
   "execution_count": null,
   "metadata": {},
   "outputs": [],
   "source": [
    "import numpy as np\n",
    "\n",
    "# from PINNACLE\n",
    "DEFAULT_NUM_DOMAIN_POINTS = 8192 // 2\n",
    "DEFAULT_NUM_BOUNDARY_POINTS = 2048 // 2\n",
    "DEFAULT_NUM_INITIAL_POINTS = 2048 // 2\n",
    "\n",
    "ref_data = np.loadtxt(\"burgers1d.dat\", comments=\"%\").astype(np.float32)"
   ]
  },
  {
   "cell_type": "markdown",
   "metadata": {},
   "source": [
    "**Summary:**\n",
    "- [DeepXDE](#DeepXDE)\n",
    "- [jinns](#jinns)\n",
    "- [PINA](#PINA)\n",
    "- [Comparisons](#Comparisons)"
   ]
  },
  {
   "cell_type": "markdown",
   "metadata": {},
   "source": [
    "## DeepXDE\n",
    "\n",
    "\n",
    "We use the JAX backend."
   ]
  },
  {
   "cell_type": "code",
   "execution_count": null,
   "metadata": {},
   "outputs": [],
   "source": [
    "import os\n",
    "os.environ[\"DDE_BACKEND\"]=\"pytorch\"\n",
    "import deepxde as dde\n",
    "\n",
    "# Determinism may reduce performance in DeepXDE (see doc) but needs to\n",
    "# be set for a fair comparison with Jinns\n",
    "# https://deepxde.readthedocs.io/en/stable/modules/deepxde.html#deepxde.config.set_random_seed\n",
    "dde.config.set_random_seed(seed)\n",
    "\n",
    "# PDE for JAX\n",
    "# def pde(x, y):\n",
    "#     y_val, y_fn = y\n",
    "#     dy_x, _ = dde.grad.jacobian(y, x, i=0, j=0)\n",
    "#     dy_t, _ = dde.grad.jacobian(y, x, i=0, j=1)\n",
    "#     dy_xx, _ = dde.grad.hessian(y, x, i=0, j=0)\n",
    "#     return dy_t + y_val * dy_x - 0.01 / np.pi * dy_xx\n",
    "\n",
    "# PDE for pytorch\n",
    "def pde(x, y):\n",
    "    dy_x = dde.grad.jacobian(y, x, i=0, j=0)\n",
    "    dy_t = dde.grad.jacobian(y, x, i=0, j=1)\n",
    "    dy_xx = dde.grad.hessian(y, x, i=0, j=0)\n",
    "    return dy_t + y * dy_x - 0.01 / np.pi * dy_xx\n",
    "\n",
    "geom = dde.geometry.Interval(-1, 1)\n",
    "timedomain = dde.geometry.TimeDomain(0, 1)\n",
    "geomtime = dde.geometry.GeometryXTime(geom, timedomain)\n",
    "\n",
    "bc = dde.icbc.DirichletBC(geomtime, lambda x: 0, lambda _, on_boundary: on_boundary)\n",
    "ic = dde.icbc.IC(\n",
    "    geomtime, lambda x: -np.sin(np.pi * x[:, 0:1]), lambda _, on_initial: on_initial\n",
    ")\n",
    "\n",
    "data = dde.data.TimePDE(\n",
    "    geomtime,\n",
    "    pde,\n",
    "    [bc, ic],\n",
    "    num_domain=DEFAULT_NUM_DOMAIN_POINTS,\n",
    "    num_boundary=DEFAULT_NUM_BOUNDARY_POINTS,\n",
    "    num_initial=DEFAULT_NUM_INITIAL_POINTS,\n",
    "    # train_distribution=\"uniform\" # this is the default\n",
    "    # num_test=None # this is the Default, we perform a evaluation callback on the same dataset as the training (see the test column in the training log)\n",
    ")\n",
    "net = dde.nn.FNN([2] + [100] * 5 + [1], \"tanh\", \"Glorot normal\")\n",
    "model = dde.Model(data, net)\n",
    "\n",
    "model.compile(\"adam\", lr=1e-4)\n",
    "losshistory, train_state = model.train(iterations=40000)\n",
    "dde.saveplot(losshistory, train_state, issave=True, isplot=True)"
   ]
  },
  {
   "cell_type": "markdown",
   "metadata": {},
   "source": [
    "## jinns"
   ]
  },
  {
   "cell_type": "code",
   "execution_count": null,
   "metadata": {},
   "outputs": [],
   "source": [
    "import jax\n",
    "import equinox as eqx\n",
    "import jinns\n",
    "import jax.numpy as jnp\n",
    "from jax import grad, vmap, random\n",
    "import optax\n",
    "import time\n",
    "import matplotlib.pyplot as plt\n",
    "\n",
    "key = random.PRNGKey(seed)"
   ]
  },
  {
   "cell_type": "code",
   "execution_count": null,
   "metadata": {},
   "outputs": [],
   "source": [
    "eqx_list = (\n",
    "    (eqx.nn.Linear, 2, 100),\n",
    "    (jax.nn.tanh,),\n",
    "    (eqx.nn.Linear, 100, 100),\n",
    "    (jax.nn.tanh,),\n",
    "    (eqx.nn.Linear, 100, 100),\n",
    "    (jax.nn.tanh,),\n",
    "    (eqx.nn.Linear, 100, 100),\n",
    "    (jax.nn.tanh,),\n",
    "    (eqx.nn.Linear, 100, 100),\n",
    "    (jax.nn.tanh,),\n",
    "    (eqx.nn.Linear, 100, 1)\n",
    ")\n",
    "key, subkey = random.split(key)\n",
    "u_pinn, init_nn_params_pinn = jinns.utils.create_PINN(subkey, eqx_list, \"nonstatio_PDE\", 1)"
   ]
  },
  {
   "cell_type": "code",
   "execution_count": null,
   "metadata": {},
   "outputs": [],
   "source": [
    "n = DEFAULT_NUM_DOMAIN_POINTS\n",
    "ni = DEFAULT_NUM_INITIAL_POINTS\n",
    "nb = DEFAULT_NUM_BOUNDARY_POINTS\n",
    "dim = 1\n",
    "xmin = -1\n",
    "xmax = 1\n",
    "tmin = 0\n",
    "tmax = 1\n",
    "method = \"grid\" # equals \"uniform\" in deepXDE, while \"uniform\" in jinns equals \"pseudo\" in deepXDE\n",
    "\n",
    "train_data = jinns.data.CubicMeshPDENonStatio(\n",
    "    key=subkey,\n",
    "    n=n,\n",
    "    nb=nb,\n",
    "    ni=ni,\n",
    "    dim=dim,\n",
    "    min_pts=(xmin,),\n",
    "    max_pts=(xmax,),\n",
    "    tmin=tmin,\n",
    "    tmax=tmax,\n",
    "    method=method,\n",
    ")"
   ]
  },
  {
   "cell_type": "code",
   "execution_count": null,
   "metadata": {},
   "outputs": [],
   "source": [
    "# create Burger loss\n",
    "nu = 1 / (100 * jnp.pi)\n"
   ]
  },
  {
   "cell_type": "code",
   "execution_count": null,
   "metadata": {},
   "outputs": [],
   "source": [
    "# Init parameters for NN and equation\n",
    "init_params_pinn = jinns.parameters.Params(\n",
    "    nn_params=init_nn_params_pinn,\n",
    "    eq_params={\n",
    "        \"nu\":nu\n",
    "    }\n",
    ")"
   ]
  },
  {
   "cell_type": "code",
   "execution_count": null,
   "metadata": {},
   "outputs": [],
   "source": [
    "from jinns.loss import PDENonStatio\n",
    "\n",
    "class BurgerEquation(PDENonStatio):\n",
    "    def equation(self, t_x, u, params):\n",
    "        u_ = lambda t_x: jnp.squeeze(u(t_x, params))\n",
    "        du_dtx = jax.grad(u_)\n",
    "        d2u_dx_dtx = jax.grad(lambda t_x: du_dtx(t_x)[1])\n",
    "        du_dtx_values = du_dtx(t_x)\n",
    "\n",
    "        return du_dtx_values[0:1] + (\n",
    "            u_(t_x) * du_dtx_values[1:2]\n",
    "            - params.eq_params[\"nu\"] * d2u_dx_dtx(t_x)[1:2]\n",
    "        )\n",
    "\n",
    "be_loss = BurgerEquation()"
   ]
  },
  {
   "cell_type": "code",
   "execution_count": null,
   "metadata": {},
   "outputs": [],
   "source": [
    "def u0(x):\n",
    "    return -jnp.sin(jnp.pi * x)\n",
    "\n",
    "loss_weights = jinns.loss.LossWeightsPDENonStatio(\n",
    "    dyn_loss=10, initial_condition=10, boundary_loss=1\n",
    ")\n",
    "\n",
    "loss_pinn = jinns.loss.LossPDENonStatio(\n",
    "    u=u_pinn,\n",
    "    loss_weights=loss_weights,\n",
    "    dynamic_loss=be_loss,\n",
    "    omega_boundary_fun=lambda t_dx: 0,\n",
    "    omega_boundary_condition=\"dirichlet\",\n",
    "    initial_condition_fun=u0,\n",
    "    params=init_params_pinn,\n",
    ")"
   ]
  },
  {
   "cell_type": "code",
   "execution_count": null,
   "metadata": {},
   "outputs": [],
   "source": [
    "# Training loop in Jinns\n",
    "params_pinn = init_params_pinn\n",
    "tx = optax.adam(learning_rate=1e-4)\n",
    "n_iter = 40000"
   ]
  },
  {
   "cell_type": "code",
   "execution_count": null,
   "metadata": {},
   "outputs": [],
   "source": [
    "params_pinn, total_loss_list_pinn, loss_by_term_dict_pinn, _, _, _, _ , _, _ = jinns.solve(\n",
    "    init_params=params_pinn,\n",
    "    data=train_data,\n",
    "    optimizer=tx,\n",
    "    loss=loss_pinn,\n",
    "    n_iter=n_iter,\n",
    "    verbose=True\n",
    ")"
   ]
  },
  {
   "cell_type": "code",
   "execution_count": null,
   "metadata": {},
   "outputs": [],
   "source": [
    "for loss_name, loss_values in loss_by_term_dict_pinn.items():\n",
    "    plt.plot(jnp.log10(loss_values), label=loss_name)\n",
    "plt.plot(jnp.log10(total_loss_list_pinn), label=\"total loss\")\n",
    "plt.legend()\n",
    "plt.show()"
   ]
  },
  {
   "cell_type": "code",
   "execution_count": null,
   "metadata": {},
   "outputs": [],
   "source": [
    "nx = 500\n",
    "val_xdata = jnp.linspace(xmin, xmax, nx)\n",
    "ntime = 500\n",
    "val_times = jnp.linspace(tmin, tmax, ntime)\n",
    "\n",
    "u_est_pinn = lambda t_x:u_pinn(t_x, params_pinn)\n",
    "# same subkey\n",
    "jinns.plot.plot1d_image(u_est_pinn, xdata=val_xdata, times=val_times, cmap=\"viridis\", colorbar=True, figsize=(5, 5), title=\"u(t, x)\")"
   ]
  },
  {
   "cell_type": "code",
   "execution_count": null,
   "metadata": {},
   "outputs": [],
   "source": [
    "time_slices = [0, 0.2, 0.4, 0.75, 0.95, 1.]\n",
    "jinns.plot.plot1d_slice(u_est_pinn, xdata=val_xdata, time_slices=time_slices,  figsize=(5, 5))"
   ]
  },
  {
   "cell_type": "code",
   "execution_count": null,
   "metadata": {},
   "outputs": [],
   "source": [
    "from functools import partial\n",
    "\n",
    "cycle = plt.rcParams['axes.prop_cycle'].by_key()['color']\n",
    "diffs = []\n",
    "for i, ti in enumerate(time_slices):\n",
    "    val_ti = jnp.column_stack([val_xdata, jnp.repeat(ti, nx)])\n",
    "    val_ti_normalized = jnp.column_stack([jnp.repeat(ti, nx), val_xdata, ])\n",
    "    u_est_tfixed = vmap(u_est_pinn)#vmap(partial(u_est_pinn, t=ti * jnp.ones((1,)) / Tmax), 0, 0)\n",
    "    plt.plot(val_xdata, model.predict(x=val_ti), label=rf\"$DDE: t_i = {ti}$\", linestyle=\"--\", alpha=.7, color = cycle[i])\n",
    "    plt.plot(val_xdata, u_est_tfixed(val_ti_normalized), label=rf\"$Jinns:  t_i = {ti}$\", alpha=.7, color = cycle[i])\n",
    "    diffs.append(jnp.abs(u_est_tfixed(val_ti_normalized) - model.predict(x=val_ti)))\n",
    "\n",
    "    # plt.plot(val_xdata, u_est_tfixed(x=val_xdata[:, None]), label=rf\"$Jinns:  t_i = {ti}$\", alpha=.7, color = cycle[i])\n",
    "    # diffs.append(jnp.abs(u_est_tfixed(x=val_xdata[:, None]) - model.predict(x=val_ti)))\n",
    "\n",
    "from matplotlib.lines import Line2D\n",
    "line_jinns = Line2D([0], [0], label='Jinns', color='black',linestyle=\"-\")\n",
    "line_dde = Line2D([0], [0], label='DeepXDE', color='black', linestyle=\"--\")\n",
    "plt.legend(handles=[line_jinns, line_dde])"
   ]
  },
  {
   "cell_type": "code",
   "execution_count": null,
   "metadata": {},
   "outputs": [],
   "source": [
    "for dif, ti in zip(diffs, time_slices):\n",
    "    plt.plot(val_xdata, dif, label=rf\"x-differences at time $t_i={ti}$\")\n",
    "plt.legend()"
   ]
  },
  {
   "cell_type": "markdown",
   "metadata": {},
   "source": [
    "## PINA"
   ]
  },
  {
   "cell_type": "code",
   "execution_count": null,
   "metadata": {},
   "outputs": [],
   "source": [
    "from pytorch_lightning import seed_everything\n",
    "\n",
    "# setting the seed for reproducibility\n",
    "seed_everything(seed, workers=True)"
   ]
  },
  {
   "cell_type": "code",
   "execution_count": null,
   "metadata": {},
   "outputs": [],
   "source": [
    "from pina.problem import SpatialProblem, TimeDependentProblem\n",
    "from pina.equation import Equation, FixedValue, FixedGradient, FixedFlux\n",
    "from pina.geometry import CartesianDomain\n",
    "import torch\n",
    "from pina.operators import grad, laplacian\n",
    "from pina import Condition"
   ]
  },
  {
   "cell_type": "code",
   "execution_count": null,
   "metadata": {},
   "outputs": [],
   "source": [
    "class Burgers1DEquation(Equation):\n",
    "\n",
    "    def __init__(self, nu = 0.):\n",
    "        \"\"\"\n",
    "        Burgers1D class. This class can be\n",
    "        used to enforce the solution u to solve the viscous Burgers 1D Equation.\n",
    "\n",
    "        :param torch.float32 nu: the viscosity coefficient. Default value is set to 0.\n",
    "        \"\"\"\n",
    "        self.nu = nu\n",
    "\n",
    "        def equation(input_, output_):\n",
    "                return grad(output_, input_, d='t') +\\\n",
    "                       output_*grad(output_, input_, d='x') -\\\n",
    "                       self.nu*laplacian(output_, input_, d='x')\n",
    "\n",
    "\n",
    "        super().__init__(equation)"
   ]
  },
  {
   "cell_type": "code",
   "execution_count": null,
   "metadata": {},
   "outputs": [],
   "source": [
    "class Burgers1D(TimeDependentProblem, SpatialProblem):\n",
    "\n",
    "    # define initial condition\n",
    "    def initial_condition(input_, output_):\n",
    "        u_expected = -torch.sin(torch.pi*input_.extract(['x']))\n",
    "        return output_.extract(['u']) - u_expected\n",
    "\n",
    "    # assign output/ spatial and temporal variables\n",
    "    output_variables = ['u']\n",
    "    spatial_domain = CartesianDomain({'x': [-1, 1]})\n",
    "    temporal_domain = CartesianDomain({'t': [0, 1]})\n",
    "\n",
    "    # problem condition statement\n",
    "    conditions = {\n",
    "        'gamma1': Condition(location=CartesianDomain({'x': -1, 't': [0, 1]}), equation=FixedValue(0.)),\n",
    "        'gamma2': Condition(location=CartesianDomain({'x':  1, 't': [0, 1]}), equation=FixedValue(0.)),\n",
    "        't0': Condition(location=CartesianDomain({'x': [-1, 1], 't': 0}), equation=Equation(initial_condition)),\n",
    "        'D': Condition(location=CartesianDomain({'x': [-1, 1], 't': [0, 1]}), equation=Burgers1DEquation(0.01/torch.pi)),\n",
    "    }\n",
    "burgers1D = Burgers1D()"
   ]
  },
  {
   "cell_type": "code",
   "execution_count": null,
   "metadata": {},
   "outputs": [],
   "source": [
    "from math import sqrt\n",
    "\n",
    "burgers1D.discretise_domain(\n",
    "    n=int(sqrt(DEFAULT_NUM_DOMAIN_POINTS)), # NOTE the sqrt\n",
    "    mode='grid',\n",
    "    variables=['x', 't'],\n",
    "    locations='D'\n",
    ")\n",
    "burgers1D.discretise_domain(\n",
    "    n=DEFAULT_NUM_BOUNDARY_POINTS // 2, # divide by 2 since NUM_BOUNDARY is the total\n",
    "    mode='grid',\n",
    "    variables=['x', 't'],\n",
    "    locations=['gamma1', 'gamma2']\n",
    ")\n",
    "burgers1D.discretise_domain(\n",
    "    n=DEFAULT_NUM_INITIAL_POINTS,\n",
    "    mode='grid',\n",
    "    variables=['x', 't'],\n",
    "    locations=['t0']\n",
    ")\n",
    "print('Input points:', burgers1D.input_pts['D'].shape)\n",
    "print('Input points:', burgers1D.input_pts['gamma2'].shape)\n",
    "print('Input points:', burgers1D.input_pts['gamma1'].shape)\n",
    "print('Input points:', burgers1D.input_pts['t0'].shape)"
   ]
  },
  {
   "cell_type": "code",
   "execution_count": null,
   "metadata": {},
   "outputs": [],
   "source": [
    "from pina import Plotter\n",
    "\n",
    "# pl = Plotter()\n",
    "# pl.plot_samples(problem=burgers1D)"
   ]
  },
  {
   "cell_type": "code",
   "execution_count": null,
   "metadata": {},
   "outputs": [],
   "source": [
    "from pina import Trainer\n",
    "from pina.solvers import PINN\n",
    "from pina.model import FeedForward\n",
    "from pina.callbacks import MetricTracker, PINAProgressBar\n",
    "from pytorch_lightning.callbacks import Timer\n",
    "\n",
    "pbar = PINAProgressBar(metrics=['mean'], refresh_rate=1)\n",
    "\n",
    "# build the model\n",
    "model_ = FeedForward(\n",
    "    layers=[100, 100, 100, 100, 100],\n",
    "    func=torch.nn.Tanh,\n",
    "    output_dimensions=len(burgers1D.output_variables),\n",
    "    input_dimensions=len(burgers1D.input_variables)\n",
    ")\n",
    "\n",
    "# create the PINN object\n",
    "pinn = PINN(\n",
    "    burgers1D,\n",
    "    model_,\n",
    "    optimizer=torch.optim.Adam,\n",
    "    optimizer_kwargs={'lr': 1e-4}\n",
    ")\n",
    "\n",
    "# create the trainer\n",
    "trainer = Trainer(\n",
    "    solver=pinn,\n",
    "    max_epochs=40000,\n",
    "    callbacks=[MetricTracker(), pbar, Timer()],\n",
    "    accelerator='gpu',\n",
    "    enable_model_summary=False,\n",
    "    log_every_n_steps=1000,\n",
    "    val_check_interval=1000,\n",
    "    check_val_every_n_epoch=None,\n",
    "    enable_checkpointing=False\n",
    ") \n",
    "\n",
    "# train\n",
    "trainer.train()\n",
    "\n",
    "print(f'Total training time {trainer.callbacks[-1].time_elapsed(\"train\"):.5f} s')"
   ]
  },
  {
   "cell_type": "code",
   "execution_count": null,
   "metadata": {},
   "outputs": [],
   "source": [
    "pl = Plotter()\n",
    "pl.plot(solver=pinn)"
   ]
  },
  {
   "cell_type": "code",
   "execution_count": null,
   "metadata": {},
   "outputs": [],
   "source": [
    "pl.plot_loss(trainer=trainer, label = 'mean_loss', logy=True)"
   ]
  },
  {
   "cell_type": "markdown",
   "metadata": {},
   "source": [
    "## Comparisons"
   ]
  },
  {
   "cell_type": "code",
   "execution_count": null,
   "metadata": {},
   "outputs": [],
   "source": [
    "import sys\n",
    "sys.path.append('../')\n",
    "\n",
    "from PINNacle_utils import trans_time_data_to_dataset, compute_relative_errors\n",
    "\n",
    "ref_data_ = trans_time_data_to_dataset(ref_data, \"burgers1d.dat\", 2, 1)\n",
    "\n",
    "nan_mask = np.isnan(ref_data_).any(axis=1)\n",
    "test_x = ref_data_[~nan_mask, :2]\n",
    "test_y = ref_data_[~nan_mask, 2:]\n",
    "\n",
    "test_x_inv = np.copy(test_x)\n",
    "test_x_inv[:, 0] = test_x[:, 1]\n",
    "test_x_inv[:, 1] = test_x[:, 0]"
   ]
  },
  {
   "cell_type": "code",
   "execution_count": null,
   "metadata": {},
   "outputs": [],
   "source": [
    "compute_relative_errors(test_y, model.predict(test_x))"
   ]
  },
  {
   "cell_type": "code",
   "execution_count": null,
   "metadata": {},
   "outputs": [],
   "source": [
    "# /!\\ t and x must be inverted in jinns convention\n",
    "\n",
    "compute_relative_errors(test_y, jax.vmap(u_est_pinn)(test_x_inv))"
   ]
  },
  {
   "cell_type": "code",
   "execution_count": null,
   "metadata": {},
   "outputs": [],
   "source": [
    "from pina import LabelTensor\n",
    "compute_relative_errors(\n",
    "    test_y,\n",
    "    pinn(LabelTensor(test_x_inv, ['t', 'x'])).detach().cpu().numpy()\n",
    ")"
   ]
  },
  {
   "cell_type": "code",
   "execution_count": null,
   "metadata": {},
   "outputs": [],
   "source": []
  }
 ],
 "metadata": {
  "kernelspec": {
   "display_name": "Python 3 (ipykernel)",
   "language": "python",
   "name": "python3"
  },
  "language_info": {
   "codemirror_mode": {
    "name": "ipython",
    "version": 3
   },
   "file_extension": ".py",
   "mimetype": "text/x-python",
   "name": "python",
   "nbconvert_exporter": "python",
   "pygments_lexer": "ipython3",
   "version": "3.11.2"
  }
 },
 "nbformat": 4,
 "nbformat_minor": 4
}
